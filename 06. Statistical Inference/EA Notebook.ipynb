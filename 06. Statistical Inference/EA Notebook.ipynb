{
 "cells": [
  {
   "cell_type": "markdown",
   "id": "05365e1c-fc33-44ac-ae55-1d3b926f7c1d",
   "metadata": {},
   "source": [
    "Farina Fayyaz  \n",
    "29 January 2019\n",
    "# Overview\n",
    "*Performing Statistical Analysis on the ToothGrowth Dataset*\r",
    "<div style=\"text-align: justify;\">\n",
    "    This notebook delves into the ToothGrowth dataset, examining tooth growth variations across different factors. We'll start by exploring the data basics, uncovering its central tendencies and distributions. Then, we'll compare tooth growth between subjects receiving orange juice supplements and those with none, relying on statistical tests to assess if the difference is meaningful. Finally, we'll zoom in on the two dosage groups within the orange juice category, employing more advanced techniques to reveal whether their tooth growth significantly differs. Throughout the analysis, we'll carefully interpret confidence intervals and p-values to draw reliable conclusions, while also acknowledging the underlying assumptions necessary for our statistical inferences. Buckle up, as we embark on a journey to unravel the secrets hidden within the ToothGrowth data!\r",
    "</div>\n",
    "\r\n",
    "ions."
   ]
  },
  {
   "cell_type": "code",
   "execution_count": 13,
   "id": "a210529f-4235-4c90-a9b1-b9194cdf8512",
   "metadata": {},
   "outputs": [],
   "source": [
    "# loading requierd libraries\n",
    "library (datasets)\n",
    "library (ggplot2)\n",
    "library (gridExtra)\n",
    "# loading the dataset and creating necessary variables\n",
    "data(ToothGrowth)\n",
    "tg <- ToothGrowth \n",
    "tg$dose <- as.factor(tg$dose) #This is a factor variable"
   ]
  },
  {
   "cell_type": "markdown",
   "id": "fce4f143-39b7-41a9-ba1c-f292be118ff3",
   "metadata": {},
   "source": [
    "## Summary of the Dataset\n",
    "We'll leverage both summary statistics like means and medians to reveal central tendencies within the data, along with standard deviations to understand its spread. Additionally, we'll utilize visualizations like boxplots and histograms to uncover the distribution patterns of key variables like \"len\" and \"dose.\""
   ]
  },
  {
   "cell_type": "code",
   "execution_count": 14,
   "id": "a4680765-02d7-4391-a696-da5613fe3a24",
   "metadata": {},
   "outputs": [
    {
     "name": "stdout",
     "output_type": "stream",
     "text": [
      "'data.frame':\t60 obs. of  3 variables:\n",
      " $ len : num  4.2 11.5 7.3 5.8 6.4 10 11.2 11.2 5.2 7 ...\n",
      " $ supp: Factor w/ 2 levels \"OJ\",\"VC\": 2 2 2 2 2 2 2 2 2 2 ...\n",
      " $ dose: Factor w/ 3 levels \"0.5\",\"1\",\"2\": 1 1 1 1 1 1 1 1 1 1 ...\n"
     ]
    },
    {
     "data": {
      "text/plain": [
       "      len        supp     dose   \n",
       " Min.   : 4.20   OJ:30   0.5:20  \n",
       " 1st Qu.:13.07   VC:30   1  :20  \n",
       " Median :19.25           2  :20  \n",
       " Mean   :18.81                   \n",
       " 3rd Qu.:25.27                   \n",
       " Max.   :33.90                   "
      ]
     },
     "metadata": {},
     "output_type": "display_data"
    },
    {
     "data": {
      "text/html": [
       "<table>\n",
       "<thead><tr><th scope=col>len</th><th scope=col>supp</th><th scope=col>dose</th></tr></thead>\n",
       "<tbody>\n",
       "\t<tr><td> 4.2</td><td>VC  </td><td>0.5 </td></tr>\n",
       "\t<tr><td>11.5</td><td>VC  </td><td>0.5 </td></tr>\n",
       "\t<tr><td> 7.3</td><td>VC  </td><td>0.5 </td></tr>\n",
       "\t<tr><td> 5.8</td><td>VC  </td><td>0.5 </td></tr>\n",
       "\t<tr><td> 6.4</td><td>VC  </td><td>0.5 </td></tr>\n",
       "\t<tr><td>10.0</td><td>VC  </td><td>0.5 </td></tr>\n",
       "</tbody>\n",
       "</table>\n"
      ],
      "text/latex": [
       "\\begin{tabular}{r|lll}\n",
       " len & supp & dose\\\\\n",
       "\\hline\n",
       "\t  4.2 & VC   & 0.5 \\\\\n",
       "\t 11.5 & VC   & 0.5 \\\\\n",
       "\t  7.3 & VC   & 0.5 \\\\\n",
       "\t  5.8 & VC   & 0.5 \\\\\n",
       "\t  6.4 & VC   & 0.5 \\\\\n",
       "\t 10.0 & VC   & 0.5 \\\\\n",
       "\\end{tabular}\n"
      ],
      "text/markdown": [
       "\n",
       "| len | supp | dose |\n",
       "|---|---|---|\n",
       "|  4.2 | VC   | 0.5  |\n",
       "| 11.5 | VC   | 0.5  |\n",
       "|  7.3 | VC   | 0.5  |\n",
       "|  5.8 | VC   | 0.5  |\n",
       "|  6.4 | VC   | 0.5  |\n",
       "| 10.0 | VC   | 0.5  |\n",
       "\n"
      ],
      "text/plain": [
       "  len  supp dose\n",
       "1  4.2 VC   0.5 \n",
       "2 11.5 VC   0.5 \n",
       "3  7.3 VC   0.5 \n",
       "4  5.8 VC   0.5 \n",
       "5  6.4 VC   0.5 \n",
       "6 10.0 VC   0.5 "
      ]
     },
     "metadata": {},
     "output_type": "display_data"
    },
    {
     "data": {
      "text/plain": [
       "    \n",
       "     0.5  1  2\n",
       "  OJ  10 10 10\n",
       "  VC  10 10 10"
      ]
     },
     "metadata": {},
     "output_type": "display_data"
    },
    {
     "data": {
      "image/png": "[encoded data removed]",
      "text/plain": [
       "plot without title"
      ]
     },
     "metadata": {},
     "output_type": "display_data"
    }
   ],
   "source": [
    "str(tg)\n",
    "summary(tg)\n",
    "head(tg)\n",
    "table(tg$supp, tg$dose)\n",
    "p1 <- ggplot(data=tg, aes(x=dose,y=len,fill=dose)) +\n",
    "  geom_boxplot() + \n",
    "  theme(legend.position=\"none\") + \n",
    "  facet_grid(.~supp) \n",
    "\n",
    "p2 <- ggplot(data=tg, aes(x=supp,y=len,fill=supp)) +\n",
    "  geom_boxplot() + \n",
    "  theme(legend.position=\"none\") + \n",
    "  facet_grid(.~dose) \n",
    "\n",
    "p3 <- ggplot(data=tg, aes(x=supp,y=len,fill=supp)) +\n",
    "  geom_boxplot()\n",
    "\n",
    "p4 <- ggplot(data=tg, aes(x=dose,y=len,fill=dose)) +\n",
    "  geom_boxplot()\n",
    "\n",
    "grid.arrange(p1, p4, p2, p3, ncol = 2, nrow=2)"
   ]
  },
  {
   "cell_type": "markdown",
   "id": "99023bd6-9c10-4538-a614-d8b2b8e25435",
   "metadata": {},
   "source": [
    "## ANOVA \n",
    "To explore the combined effects of orange juice supplementation and dosage on tooth growth, we'll perform an ANOVA, testing for main effects and potential interactions.\r\n",
    "Before diving into the ANOVA, let's recap the data: orange juice appears to positively affect tooth growth compared to VC, and higher dosages seem to contribute more in either group. The ANOVA will confirm these trends and unveil potential nuances in their interplay."
   ]
  },
  {
   "cell_type": "code",
   "execution_count": 15,
   "id": "d200fd58-bc62-43fa-b497-3c2395095cae",
   "metadata": {},
   "outputs": [
    {
     "data": {
      "text/plain": [
       "            Df Sum Sq Mean Sq F value   Pr(>F)    \n",
       "supp         1  205.4   205.4  15.572 0.000231 ***\n",
       "dose         2 2426.4  1213.2  92.000  < 2e-16 ***\n",
       "supp:dose    2  108.3    54.2   4.107 0.021860 *  \n",
       "Residuals   54  712.1    13.2                     \n",
       "---\n",
       "Signif. codes:  0 '***' 0.001 '**' 0.01 '*' 0.05 '.' 0.1 ' ' 1"
      ]
     },
     "metadata": {},
     "output_type": "display_data"
    }
   ],
   "source": [
    "anova.out <- aov(len ~ supp * dose, data=tg)\n",
    "summary(anova.out)"
   ]
  },
  {
   "cell_type": "markdown",
   "id": "8cb53d9b-7bb1-4d23-91ed-96c71dfb792e",
   "metadata": {},
   "source": [
    "Both supplement type (p < 0.01) and dosage (p < 0.01) significantly influenced tooth growth, and their combined effect was also statistically relevant (p < 0.05). This suggests a complex interplay between the two factors. \n",
    "We can also use **TukeyHSD** which is a post-hoc test that checks which specific groups within a larger analysis, like your 'supp' and 'dose' groups, are actually significantly different from each other.\n"
   ]
  },
  {
   "cell_type": "code",
   "execution_count": 16,
   "id": "62886147-648b-4bb0-91d4-5dd5226f6c33",
   "metadata": {},
   "outputs": [
    {
     "data": {
      "text/plain": [
       "  Tukey multiple comparisons of means\n",
       "    95% family-wise confidence level\n",
       "\n",
       "Fit: aov(formula = len ~ supp * dose, data = tg)\n",
       "\n",
       "$supp\n",
       "      diff       lwr       upr     p adj\n",
       "VC-OJ -3.7 -5.579828 -1.820172 0.0002312\n",
       "\n",
       "$dose\n",
       "        diff       lwr       upr   p adj\n",
       "1-0.5  9.130  6.362488 11.897512 0.0e+00\n",
       "2-0.5 15.495 12.727488 18.262512 0.0e+00\n",
       "2-1    6.365  3.597488  9.132512 2.7e-06\n",
       "\n",
       "$`supp:dose`\n",
       "               diff        lwr        upr     p adj\n",
       "VC:0.5-OJ:0.5 -5.25 -10.048124 -0.4518762 0.0242521\n",
       "OJ:1-OJ:0.5    9.47   4.671876 14.2681238 0.0000046\n",
       "VC:1-OJ:0.5    3.54  -1.258124  8.3381238 0.2640208\n",
       "OJ:2-OJ:0.5   12.83   8.031876 17.6281238 0.0000000\n",
       "VC:2-OJ:0.5   12.91   8.111876 17.7081238 0.0000000\n",
       "OJ:1-VC:0.5   14.72   9.921876 19.5181238 0.0000000\n",
       "VC:1-VC:0.5    8.79   3.991876 13.5881238 0.0000210\n",
       "OJ:2-VC:0.5   18.08  13.281876 22.8781238 0.0000000\n",
       "VC:2-VC:0.5   18.16  13.361876 22.9581238 0.0000000\n",
       "VC:1-OJ:1     -5.93 -10.728124 -1.1318762 0.0073930\n",
       "OJ:2-OJ:1      3.36  -1.438124  8.1581238 0.3187361\n",
       "VC:2-OJ:1      3.44  -1.358124  8.2381238 0.2936430\n",
       "OJ:2-VC:1      9.29   4.491876 14.0881238 0.0000069\n",
       "VC:2-VC:1      9.37   4.571876 14.1681238 0.0000058\n",
       "VC:2-OJ:2      0.08  -4.718124  4.8781238 1.0000000\n"
      ]
     },
     "metadata": {},
     "output_type": "display_data"
    }
   ],
   "source": [
    "TukeyHSD(anova.out)\n"
   ]
  },
  {
   "cell_type": "markdown",
   "id": "bbd49d6a-8560-4dbf-937a-08ebe6d1e72f",
   "metadata": {},
   "source": [
    "The detailed analysis through Tukey HSD unveiled a complex picture of tooth growth variations. Notably, significant differences were observed across nearly all groups defined by supplement type and dosage, suggesting independent and combined effects of these factors. However, a handful of comparisons, including VC at low dosages across supplement types and comparisons within the orange juice group at higher dosages, revealed no statistically significant distinctions, hinting at potential nuances and non-linear relationships in the data."
   ]
  },
  {
   "cell_type": "code",
   "execution_count": 17,
   "id": "25e9fa86-6b7c-4080-ab26-d15d20d62122",
   "metadata": {},
   "outputs": [
    {
     "name": "stdout",
     "output_type": "stream",
     "text": [
      "Tables of means\n",
      "Grand mean\n",
      "         \n",
      "18.81333 \n",
      "\n",
      " supp \n",
      "supp\n",
      "   OJ    VC \n",
      "20.66 16.96 \n",
      "\n",
      " dose \n",
      "dose\n",
      "  0.5     1     2 \n",
      "10.60 19.73 26.10 \n",
      "\n",
      " supp:dose \n",
      "    dose\n",
      "supp 0.5   1     2    \n",
      "  OJ 13.23 22.70 26.06\n",
      "  VC  7.98 16.77 26.14\n"
     ]
    }
   ],
   "source": [
    "print(model.tables(anova.out,\"means\"),digits=3)"
   ]
  },
  {
   "cell_type": "markdown",
   "id": "eb88b60d-117a-4348-9b1c-6360e73e61db",
   "metadata": {},
   "source": [
    "# Conclusion\n",
    "**Guinea pig tooth growth analysis**:\n",
    "\n",
    "* Both supplement type (OJ vs. VC) and dosage (0.5, 1, 2) independently influenced tooth length, with higher dosages generally leading to longer teeth.\n",
    "* Orange juice (OJ) significantly promoted greater average tooth growth compared to vitamin C (VC) at dosages 0.5 and 1, but not at dosage 2.\n",
    "\n",
    "**Assumptions**:\n",
    "\n",
    "The results are reliable if the guinea pigs represent the broader population, dosage and supplement were randomly assigned, and the distribution of means is normal."
   ]
  },
  {
   "cell_type": "code",
   "execution_count": null,
   "id": "2d6d5af3-1c33-4017-b902-149bc1eb40b9",
   "metadata": {},
   "outputs": [],
   "source": []
  }
 ],
 "metadata": {
  "kernelspec": {
   "display_name": "R",
   "language": "R",
   "name": "ir"
  },
  "language_info": {
   "codemirror_mode": "r",
   "file_extension": ".r",
   "mimetype": "text/x-r-source",
   "name": "R",
   "pygments_lexer": "r",
   "version": "3.6.1"
  }
 },
 "nbformat": 4,
 "nbformat_minor": 5
}
