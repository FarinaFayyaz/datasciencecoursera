{
 "cells": [
  {
   "cell_type": "markdown",
   "id": "a2c1f448-da82-437d-bf2f-13a1e251faeb",
   "metadata": {},
   "source": [
    "Farina Fayyaz\n",
    "28 January 2024"
   ]
  },
  {
   "cell_type": "markdown",
   "id": "f516cc26-5e02-41e3-8b4d-52ee45fe0181",
   "metadata": {},
   "source": [
    "# Statistical Inference Course Project"
   ]
  },
  {
   "cell_type": "markdown",
   "id": "f760dfd6-f8df-43f6-bdd6-6aa87a947e08",
   "metadata": {},
   "source": [
    "## Overview\n",
    "*Investigating the Central Limit Theorem's Effect on Exponentially Distributed Averages*\n",
    "\n",
    "This project will explore how the Central Limit Theorem (CLT) applies to the distribution of averages drawn from an exponential distribution.\n",
    "\n",
    "### Code: \n",
    "We'll use **R** to  \n",
    "* **Simulate samples** : Generate 1,000 sets of 40 random values from an exponential distribution with a fixed rate parameter (lambda = 0.2).  \n",
    "* **Calculate average** : For each set, compute the average of the 40 exponentials.  \n",
    "* **Analyze distribution** : Examine the distribution of these 1,000 averages. We'll compare it to the theoretical distribution predicted by the CLT for averages of independent random variables.\n",
    "\n",
    "### Key Points:\n",
    "\n",
    "* We're focusing on the behavior of averages, not individual exponential values.\n",
    "* The CLT predicts that, despite the skewed nature of the exponential distribution, the distribution of averages will tend towards normality (bell-shaped) as the sample size increases (in this case, 40).\n",
    "* This project will visually and statistically explore this convergence towards normality.\n",
    "\n",
    "### Potential Outcomes:\n",
    "\n",
    "* We may observe the distribution of averages becoming closer to normal as the number of exponentials averaged increases.\n",
    "* We can quantify this convergence using statistical tests and visualize it through histograms and density plots.\n",
    "* This project can provide valuable insights into the applicability of the CLT to real-world scenarios involving skewed distributions.\n",
    "\n",
    "## Simulations"
   ]
  },
  {
   "cell_type": "code",
   "execution_count": 3,
   "id": "6b2cb2de-8ea5-4b29-95ca-9e549d43fa29",
   "metadata": {},
   "outputs": [
    {
     "data": {
      "image/png": "[encoded data removed]",
      "text/plain": [
       "plot without title"
      ]
     },
     "metadata": {},
     "output_type": "display_data"
    }
   ],
   "source": [
    "# Importing required libraries\n",
    "library(ggplot2)\n",
    "\n",
    "# Defining variables\n",
    "lambda <- 0.2\n",
    "n <- 40 # Number of exponentials\n",
    "nsim <- 1000 # Number of simulations\n",
    "\n",
    "# Set seed\n",
    "set.seed(67)\n",
    "\n",
    "# Performing Simulations\n",
    "Dist <- matrix(data=rexp(n*nsim, lambda),nrow=nsim) # Storing Exponential Distribution in a Matrix\n",
    "MeanDist <- data.frame(means=apply(Dist,1,mean)) # Mean of Exponential Distribution\n",
    "\n",
    "# Plot the means\n",
    "ggplot(data = MeanDist, aes(x = means)) + \n",
    "  geom_histogram(binwidth=0.1) +   \n",
    "  scale_x_continuous(breaks=round(seq(min(MeanDist$means), max(MeanDist$means), by=1)))"
   ]
  },
  {
   "cell_type": "markdown",
   "id": "6befc7ba-4245-4693-b3b7-1ac160c46d82",
   "metadata": {},
   "source": [
    "### Sample Mean vs Theoretical Mean\n",
    "The average value we expect to see, called the mean **$\\mu$** of an exponential distribution, is calculated as the inverse of its rate parameter **$\\lambda$**.\n",
    "\n",
    "$\\mu = \\frac{1}{\\lambda}$\n",
    "\n",
    "This is the Theoretical Mean of the distribution. "
   ]
  },
  {
   "cell_type": "code",
   "execution_count": 4,
   "id": "2c5cc6af-67b8-4d70-8838-93097719343c",
   "metadata": {},
   "outputs": [
    {
     "data": {
      "text/html": [
       "5"
      ],
      "text/latex": [
       "5"
      ],
      "text/markdown": [
       "5"
      ],
      "text/plain": [
       "[1] 5"
      ]
     },
     "metadata": {},
     "output_type": "display_data"
    }
   ],
   "source": [
    "mu = 1/lambda\n",
    "mu"
   ]
  },
  {
   "cell_type": "markdown",
   "id": "b7999d49-9f5e-4e68-a260-d85920fab12c",
   "metadata": {},
   "source": [
    "To calculate Sample Mean, We find the Mean $\\bar{X}$ of the Mean Distribution as follows"
   ]
  },
  {
   "cell_type": "code",
   "execution_count": 5,
   "id": "41e4e7ab-3931-4769-bbb7-d737385edb6d",
   "metadata": {},
   "outputs": [
    {
     "data": {
      "text/html": [
       "4.99081982317226"
      ],
      "text/latex": [
       "4.99081982317226"
      ],
      "text/markdown": [
       "4.99081982317226"
      ],
      "text/plain": [
       "[1] 4.99082"
      ]
     },
     "metadata": {},
     "output_type": "display_data"
    }
   ],
   "source": [
    "SampleMean <- mean(MeanDist$means)\n",
    "SampleMean"
   ]
  },
  {
   "cell_type": "markdown",
   "id": "49bb7d10-4702-42eb-b605-89a8c9d02d4d",
   "metadata": {},
   "source": [
    "This is very close to the theoretical mean."
   ]
  },
  {
   "cell_type": "markdown",
   "id": "f7d353ca-6dde-4ddd-939f-a1cb01e6bfaf",
   "metadata": {},
   "source": [
    "### Sample Variance vs Theoretical Variance\n",
    "\n",
    "The expected standard deviation $\\sigma$ of an exponential disturibution with rate $\\lambda$ and is \n",
    "$$\\sigma = \\frac{\\frac{1}{\\lambda}}{n}$$. \n",
    "The theoretical variance (Var) is simply the square of the theoretical standard deviation.  \n",
    "$$Var = \\sigma^2$$.\r\n"
   ]
  },
  {
   "cell_type": "code",
   "execution_count": 6,
   "id": "a9824f5b-166b-4ec1-8783-4361d721fb15",
   "metadata": {},
   "outputs": [
    {
     "data": {
      "text/html": [
       "0.125"
      ],
      "text/latex": [
       "0.125"
      ],
      "text/markdown": [
       "0.125"
      ],
      "text/plain": [
       "[1] 0.125"
      ]
     },
     "metadata": {},
     "output_type": "display_data"
    },
    {
     "data": {
      "text/html": [
       "0.015625"
      ],
      "text/latex": [
       "0.015625"
      ],
      "text/markdown": [
       "0.015625"
      ],
      "text/plain": [
       "[1] 0.015625"
      ]
     },
     "metadata": {},
     "output_type": "display_data"
    }
   ],
   "source": [
    "sigma = (1/lambda)/n\n",
    "sigma\n",
    "var=sigma^2\n",
    "var"
   ]
  },
  {
   "cell_type": "markdown",
   "id": "cb70541e-cd3f-4790-8d1a-49a2a5d6e8fa",
   "metadata": {},
   "source": [
    "This is the theoretical variance of the exponential distribution with 1000 simulations and rate $\\lambda$. \n",
    "To calculate the sample variance, we find the variance of the mean distribution as follows"
   ]
  },
  {
   "cell_type": "code",
   "execution_count": 7,
   "id": "fab1ee2a-b84e-44e8-a867-b0100f292477",
   "metadata": {},
   "outputs": [
    {
     "data": {
      "text/html": [
       "0.781855946940655"
      ],
      "text/latex": [
       "0.781855946940655"
      ],
      "text/markdown": [
       "0.781855946940655"
      ],
      "text/plain": [
       "[1] 0.7818559"
      ]
     },
     "metadata": {},
     "output_type": "display_data"
    },
    {
     "data": {
      "text/html": [
       "0.611298721766469"
      ],
      "text/latex": [
       "0.611298721766469"
      ],
      "text/markdown": [
       "0.611298721766469"
      ],
      "text/plain": [
       "[1] 0.6112987"
      ]
     },
     "metadata": {},
     "output_type": "display_data"
    }
   ],
   "source": [
    "Std = sd(MeanDist$means)\n",
    "Std\n",
    "SampleVar = var(MeanDist$means)\n",
    "SampleVar"
   ]
  },
  {
   "cell_type": "markdown",
   "id": "e9c0ff6e-026f-4755-86c6-5d1d89f1149c",
   "metadata": {},
   "source": [
    "**Comparison:**\n",
    "\n",
    "- We observed that the theoretical standard deviation **$\\sigma$** and the sample standard deviation **Std** are reasonably close, indicating that our simulated data aligns well with the expected distribution.\n",
    "- Variance is the square of standard deviation, so even minor differences in standard deviation can be slightly amplified when comparing variances. However, **var** and **SampleVar** are still reasonably close, further supporting the consistency between our sample and the theoretical distribution."
   ]
  },
  {
   "cell_type": "markdown",
   "id": "23818415-7614-416c-85fd-73c16537ed50",
   "metadata": {},
   "source": [
    "## Distribution\n",
    "<div style=\"text-align: justify;\">\r",
    "Traditionally, analyzing population means and standard deviations involves comparing them to theoretical expectations, often assuming a normal distribution. However, this comparison can sometimes lack depth or context. To address this, we've enriched the analysis by incorporating both calculated and expected means alongside standard deviations. This expanded approach allows for a more nuanced understanding of how observed population characteristics align with what we might anticipate under the normal distribution model. By examining discrepancies between calculated and expected means, we can potentially uncover hidden trends or unexpected deviations. Additionally, comparing standard deviations alongside means provides a more complete picture of how data is spread around the central tendency. This multifaceted approach, encompassing both means and standard deviations, sheds light on the relationship between actual population characteristics and the theoretical expectations of a normal distribution, potentially revealing valuable insights that might otherwise be missed.\n",
    "</div>\n",
    "\r\n"
   ]
  },
  {
   "cell_type": "code",
   "execution_count": 24,
   "id": "98ec0244-54c4-4efe-8f27-3785a4e6f513",
   "metadata": {},
   "outputs": [
    {
     "data": {
      "image/png": "[encoded data removed]",
      "text/plain": [
       "plot without title"
      ]
     },
     "metadata": {},
     "output_type": "display_data"
    }
   ],
   "source": [
    "# plot the means\n",
    "library(ggplot2)\n",
    "ggplot(data = MeanDist, aes(x = means)) + \n",
    "  geom_histogram(binwidth = 0.1, aes(y = ..density..), alpha = 0.2, na.rm = TRUE) + \n",
    "  stat_function(fun = dnorm, args = list(mean = mu, sd = Std), colour = \"red\", size = 1) + \n",
    "  geom_vline(xintercept = mu, size = 1, colour = \"#CC0000\") + \n",
    "  geom_density(colour = \"blue\", size = 1) +\n",
    "  geom_vline(xintercept = SampleMean, size = 1, colour = \"#0000CC\") + \n",
    "  scale_x_continuous(breaks = seq(mu - 3, mu + 3, 1), limits = c(mu - 3, mu + 3))"
   ]
  },
  {
   "cell_type": "markdown",
   "id": "02306c28-7b0b-4a4c-9372-ae36071bbf9c",
   "metadata": {},
   "source": [
    "The calculated distribution of means from randomly sampled exponential distributions, strikingly overlaps with the normal distribution defined by the corresponding expected values based on lambda"
   ]
  }
 ],
 "metadata": {
  "kernelspec": {
   "display_name": "R",
   "language": "R",
   "name": "ir"
  },
  "language_info": {
   "codemirror_mode": "r",
   "file_extension": ".r",
   "mimetype": "text/x-r-source",
   "name": "R",
   "pygments_lexer": "r",
   "version": "3.6.1"
  }
 },
 "nbformat": 4,
 "nbformat_minor": 5
}
