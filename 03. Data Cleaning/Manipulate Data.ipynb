{
 "cells": [
  {
   "cell_type": "markdown",
   "id": "56364ee0-72ec-44bd-9655-84a757863a51",
   "metadata": {},
   "source": [
    "Functions\n",
    "mutate, rename,arrange, filter, select, summarize # return dataframe as output\n",
    "Pipeline Operator %>%\n",
    "Libraries\n",
    "plyr, dplyr"
   ]
  },
  {
   "cell_type": "code",
   "execution_count": 21,
   "id": "61665c5e-171b-4d22-8087-9b98d71788ed",
   "metadata": {},
   "outputs": [
    {
     "data": {
      "text/html": [
       "<ol class=list-inline>\n",
       "\t<li>'Murder'</li>\n",
       "\t<li>'Assault'</li>\n",
       "\t<li>'UrbanPop'</li>\n",
       "\t<li>'Rape'</li>\n",
       "</ol>\n"
      ],
      "text/latex": [
       "\\begin{enumerate*}\n",
       "\\item 'Murder'\n",
       "\\item 'Assault'\n",
       "\\item 'UrbanPop'\n",
       "\\item 'Rape'\n",
       "\\end{enumerate*}\n"
      ],
      "text/markdown": [
       "1. 'Murder'\n",
       "2. 'Assault'\n",
       "3. 'UrbanPop'\n",
       "4. 'Rape'\n",
       "\n",
       "\n"
      ],
      "text/plain": [
       "[1] \"Murder\"   \"Assault\"  \"UrbanPop\" \"Rape\"    "
      ]
     },
     "metadata": {},
     "output_type": "display_data"
    },
    {
     "name": "stdout",
     "output_type": "stream",
     "text": [
      "'data.frame':\t50 obs. of  4 variables:\n",
      " $ Murder  : num  13.2 10 8.1 8.8 9 7.9 3.3 5.9 15.4 17.4 ...\n",
      " $ Assault : int  236 263 294 190 276 204 110 238 335 211 ...\n",
      " $ UrbanPop: int  58 48 80 50 91 78 77 72 80 60 ...\n",
      " $ Rape    : num  21.2 44.5 31 19.5 40.6 38.7 11.1 15.8 31.9 25.8 ...\n"
     ]
    }
   ],
   "source": [
    "library(dplyr)\n",
    "library(datasets)\n",
    "names(USArrests)\n",
    "str(USArrests)"
   ]
  },
  {
   "cell_type": "code",
   "execution_count": 26,
   "id": "b55898b6-b58b-446c-94ca-589ed24ac48e",
   "metadata": {},
   "outputs": [
    {
     "data": {
      "text/html": [
       "<table>\n",
       "<thead><tr><th></th><th scope=col>Rape</th></tr></thead>\n",
       "<tbody>\n",
       "\t<tr><th scope=row>Alabama</th><td>21.2</td></tr>\n",
       "\t<tr><th scope=row>Alaska</th><td>44.5</td></tr>\n",
       "\t<tr><th scope=row>Arizona</th><td>31.0</td></tr>\n",
       "\t<tr><th scope=row>Arkansas</th><td>19.5</td></tr>\n",
       "\t<tr><th scope=row>California</th><td>40.6</td></tr>\n",
       "\t<tr><th scope=row>Colorado</th><td>38.7</td></tr>\n",
       "</tbody>\n",
       "</table>\n"
      ],
      "text/latex": [
       "\\begin{tabular}{r|l}\n",
       "  & Rape\\\\\n",
       "\\hline\n",
       "\tAlabama & 21.2\\\\\n",
       "\tAlaska & 44.5\\\\\n",
       "\tArizona & 31.0\\\\\n",
       "\tArkansas & 19.5\\\\\n",
       "\tCalifornia & 40.6\\\\\n",
       "\tColorado & 38.7\\\\\n",
       "\\end{tabular}\n"
      ],
      "text/markdown": [
       "\n",
       "| <!--/--> | Rape |\n",
       "|---|---|\n",
       "| Alabama | 21.2 |\n",
       "| Alaska | 44.5 |\n",
       "| Arizona | 31.0 |\n",
       "| Arkansas | 19.5 |\n",
       "| California | 40.6 |\n",
       "| Colorado | 38.7 |\n",
       "\n"
      ],
      "text/plain": [
       "           Rape\n",
       "Alabama    21.2\n",
       "Alaska     44.5\n",
       "Arizona    31.0\n",
       "Arkansas   19.5\n",
       "California 40.6\n",
       "Colorado   38.7"
      ]
     },
     "metadata": {},
     "output_type": "display_data"
    }
   ],
   "source": [
    "head(select(USArrests, -(Murder:UrbanPop)))"
   ]
  },
  {
   "cell_type": "code",
   "execution_count": 28,
   "id": "9558868a-81cd-497d-ba83-22bc7c0443a4",
   "metadata": {},
   "outputs": [
    {
     "data": {
      "text/html": [
       "<table>\n",
       "<thead><tr><th></th><th scope=col>UrbanPop</th><th scope=col>Rape</th></tr></thead>\n",
       "<tbody>\n",
       "\t<tr><th scope=row>Alabama</th><td>58  </td><td>21.2</td></tr>\n",
       "\t<tr><th scope=row>Alaska</th><td>48  </td><td>44.5</td></tr>\n",
       "\t<tr><th scope=row>Arizona</th><td>80  </td><td>31.0</td></tr>\n",
       "\t<tr><th scope=row>Arkansas</th><td>50  </td><td>19.5</td></tr>\n",
       "\t<tr><th scope=row>California</th><td>91  </td><td>40.6</td></tr>\n",
       "\t<tr><th scope=row>Colorado</th><td>78  </td><td>38.7</td></tr>\n",
       "</tbody>\n",
       "</table>\n"
      ],
      "text/latex": [
       "\\begin{tabular}{r|ll}\n",
       "  & UrbanPop & Rape\\\\\n",
       "\\hline\n",
       "\tAlabama & 58   & 21.2\\\\\n",
       "\tAlaska & 48   & 44.5\\\\\n",
       "\tArizona & 80   & 31.0\\\\\n",
       "\tArkansas & 50   & 19.5\\\\\n",
       "\tCalifornia & 91   & 40.6\\\\\n",
       "\tColorado & 78   & 38.7\\\\\n",
       "\\end{tabular}\n"
      ],
      "text/markdown": [
       "\n",
       "| <!--/--> | UrbanPop | Rape |\n",
       "|---|---|---|\n",
       "| Alabama | 58   | 21.2 |\n",
       "| Alaska | 48   | 44.5 |\n",
       "| Arizona | 80   | 31.0 |\n",
       "| Arkansas | 50   | 19.5 |\n",
       "| California | 91   | 40.6 |\n",
       "| Colorado | 78   | 38.7 |\n",
       "\n"
      ],
      "text/plain": [
       "           UrbanPop Rape\n",
       "Alabama    58       21.2\n",
       "Alaska     48       44.5\n",
       "Arizona    80       31.0\n",
       "Arkansas   50       19.5\n",
       "California 91       40.6\n",
       "Colorado   78       38.7"
      ]
     },
     "metadata": {},
     "output_type": "display_data"
    }
   ],
   "source": [
    "i <- match(\"Murder\",names(USArrests))\n",
    "j <- match(\"Assault\", names(USArrests))\n",
    "head(select(USArrests, -(i:j)))"
   ]
  },
  {
   "cell_type": "code",
   "execution_count": 31,
   "id": "04296ae0-eff4-4614-a90e-4756994382a4",
   "metadata": {},
   "outputs": [
    {
     "data": {
      "text/html": [
       "<table>\n",
       "<thead><tr><th scope=col>Murder</th><th scope=col>Assault</th><th scope=col>UrbanPop</th><th scope=col>Rape</th></tr></thead>\n",
       "<tbody>\n",
       "\t<tr><td>13.2</td><td>236 </td><td>58  </td><td>21.2</td></tr>\n",
       "\t<tr><td> 8.1</td><td>294 </td><td>80  </td><td>31.0</td></tr>\n",
       "\t<tr><td> 9.0</td><td>276 </td><td>91  </td><td>40.6</td></tr>\n",
       "\t<tr><td> 7.9</td><td>204 </td><td>78  </td><td>38.7</td></tr>\n",
       "\t<tr><td> 5.9</td><td>238 </td><td>72  </td><td>15.8</td></tr>\n",
       "\t<tr><td>15.4</td><td>335 </td><td>80  </td><td>31.9</td></tr>\n",
       "\t<tr><td>17.4</td><td>211 </td><td>60  </td><td>25.8</td></tr>\n",
       "\t<tr><td>10.4</td><td>249 </td><td>83  </td><td>24.0</td></tr>\n",
       "\t<tr><td>15.4</td><td>249 </td><td>66  </td><td>22.2</td></tr>\n",
       "\t<tr><td>11.3</td><td>300 </td><td>67  </td><td>27.8</td></tr>\n",
       "\t<tr><td>12.1</td><td>255 </td><td>74  </td><td>35.1</td></tr>\n",
       "\t<tr><td>12.2</td><td>252 </td><td>81  </td><td>46.0</td></tr>\n",
       "\t<tr><td>11.4</td><td>285 </td><td>70  </td><td>32.1</td></tr>\n",
       "\t<tr><td>11.1</td><td>254 </td><td>86  </td><td>26.1</td></tr>\n",
       "\t<tr><td>12.7</td><td>201 </td><td>80  </td><td>25.5</td></tr>\n",
       "</tbody>\n",
       "</table>\n"
      ],
      "text/latex": [
       "\\begin{tabular}{r|llll}\n",
       " Murder & Assault & UrbanPop & Rape\\\\\n",
       "\\hline\n",
       "\t 13.2 & 236  & 58   & 21.2\\\\\n",
       "\t  8.1 & 294  & 80   & 31.0\\\\\n",
       "\t  9.0 & 276  & 91   & 40.6\\\\\n",
       "\t  7.9 & 204  & 78   & 38.7\\\\\n",
       "\t  5.9 & 238  & 72   & 15.8\\\\\n",
       "\t 15.4 & 335  & 80   & 31.9\\\\\n",
       "\t 17.4 & 211  & 60   & 25.8\\\\\n",
       "\t 10.4 & 249  & 83   & 24.0\\\\\n",
       "\t 15.4 & 249  & 66   & 22.2\\\\\n",
       "\t 11.3 & 300  & 67   & 27.8\\\\\n",
       "\t 12.1 & 255  & 74   & 35.1\\\\\n",
       "\t 12.2 & 252  & 81   & 46.0\\\\\n",
       "\t 11.4 & 285  & 70   & 32.1\\\\\n",
       "\t 11.1 & 254  & 86   & 26.1\\\\\n",
       "\t 12.7 & 201  & 80   & 25.5\\\\\n",
       "\\end{tabular}\n"
      ],
      "text/markdown": [
       "\n",
       "| Murder | Assault | UrbanPop | Rape |\n",
       "|---|---|---|---|\n",
       "| 13.2 | 236  | 58   | 21.2 |\n",
       "|  8.1 | 294  | 80   | 31.0 |\n",
       "|  9.0 | 276  | 91   | 40.6 |\n",
       "|  7.9 | 204  | 78   | 38.7 |\n",
       "|  5.9 | 238  | 72   | 15.8 |\n",
       "| 15.4 | 335  | 80   | 31.9 |\n",
       "| 17.4 | 211  | 60   | 25.8 |\n",
       "| 10.4 | 249  | 83   | 24.0 |\n",
       "| 15.4 | 249  | 66   | 22.2 |\n",
       "| 11.3 | 300  | 67   | 27.8 |\n",
       "| 12.1 | 255  | 74   | 35.1 |\n",
       "| 12.2 | 252  | 81   | 46.0 |\n",
       "| 11.4 | 285  | 70   | 32.1 |\n",
       "| 11.1 | 254  | 86   | 26.1 |\n",
       "| 12.7 | 201  | 80   | 25.5 |\n",
       "\n"
      ],
      "text/plain": [
       "   Murder Assault UrbanPop Rape\n",
       "1  13.2   236     58       21.2\n",
       "2   8.1   294     80       31.0\n",
       "3   9.0   276     91       40.6\n",
       "4   7.9   204     78       38.7\n",
       "5   5.9   238     72       15.8\n",
       "6  15.4   335     80       31.9\n",
       "7  17.4   211     60       25.8\n",
       "8  10.4   249     83       24.0\n",
       "9  15.4   249     66       22.2\n",
       "10 11.3   300     67       27.8\n",
       "11 12.1   255     74       35.1\n",
       "12 12.2   252     81       46.0\n",
       "13 11.4   285     70       32.1\n",
       "14 11.1   254     86       26.1\n",
       "15 12.7   201     80       25.5"
      ]
     },
     "metadata": {},
     "output_type": "display_data"
    }
   ],
   "source": [
    "filter(USArrests,UrbanPop > 50 & Assault > 200)"
   ]
  },
  {
   "cell_type": "code",
   "execution_count": 39,
   "id": "7009b3bc-9c4a-46bc-8b70-fa3eba21b025",
   "metadata": {},
   "outputs": [
    {
     "data": {
      "text/html": [
       "<table>\n",
       "<thead><tr><th scope=col>Murder</th><th scope=col>Assault</th><th scope=col>UrbanPop</th><th scope=col>Rape</th></tr></thead>\n",
       "<tbody>\n",
       "\t<tr><td>13.0</td><td>337 </td><td>45  </td><td>16.1</td></tr>\n",
       "\t<tr><td>15.4</td><td>335 </td><td>80  </td><td>31.9</td></tr>\n",
       "\t<tr><td>11.3</td><td>300 </td><td>67  </td><td>27.8</td></tr>\n",
       "</tbody>\n",
       "</table>\n"
      ],
      "text/latex": [
       "\\begin{tabular}{r|llll}\n",
       " Murder & Assault & UrbanPop & Rape\\\\\n",
       "\\hline\n",
       "\t 13.0 & 337  & 45   & 16.1\\\\\n",
       "\t 15.4 & 335  & 80   & 31.9\\\\\n",
       "\t 11.3 & 300  & 67   & 27.8\\\\\n",
       "\\end{tabular}\n"
      ],
      "text/markdown": [
       "\n",
       "| Murder | Assault | UrbanPop | Rape |\n",
       "|---|---|---|---|\n",
       "| 13.0 | 337  | 45   | 16.1 |\n",
       "| 15.4 | 335  | 80   | 31.9 |\n",
       "| 11.3 | 300  | 67   | 27.8 |\n",
       "\n"
      ],
      "text/plain": [
       "  Murder Assault UrbanPop Rape\n",
       "1 13.0   337     45       16.1\n",
       "2 15.4   335     80       31.9\n",
       "3 11.3   300     67       27.8"
      ]
     },
     "metadata": {},
     "output_type": "display_data"
    }
   ],
   "source": [
    "head(arrange(USArrests, desc(Assault)),3)"
   ]
  },
  {
   "cell_type": "code",
   "execution_count": 38,
   "id": "a34e8689-6116-40fb-82e0-f43660d5eb80",
   "metadata": {},
   "outputs": [
    {
     "data": {
      "text/html": [
       "<table>\n",
       "<thead><tr><th></th><th scope=col>Mur</th><th scope=col>Assault</th><th scope=col>UrbanPop</th><th scope=col>Rp</th></tr></thead>\n",
       "<tbody>\n",
       "\t<tr><th scope=row>Alabama</th><td>13.2</td><td>236 </td><td>58  </td><td>21.2</td></tr>\n",
       "\t<tr><th scope=row>Alaska</th><td>10.0</td><td>263 </td><td>48  </td><td>44.5</td></tr>\n",
       "\t<tr><th scope=row>Arizona</th><td> 8.1</td><td>294 </td><td>80  </td><td>31.0</td></tr>\n",
       "</tbody>\n",
       "</table>\n"
      ],
      "text/latex": [
       "\\begin{tabular}{r|llll}\n",
       "  & Mur & Assault & UrbanPop & Rp\\\\\n",
       "\\hline\n",
       "\tAlabama & 13.2 & 236  & 58   & 21.2\\\\\n",
       "\tAlaska & 10.0 & 263  & 48   & 44.5\\\\\n",
       "\tArizona &  8.1 & 294  & 80   & 31.0\\\\\n",
       "\\end{tabular}\n"
      ],
      "text/markdown": [
       "\n",
       "| <!--/--> | Mur | Assault | UrbanPop | Rp |\n",
       "|---|---|---|---|---|\n",
       "| Alabama | 13.2 | 236  | 58   | 21.2 |\n",
       "| Alaska | 10.0 | 263  | 48   | 44.5 |\n",
       "| Arizona |  8.1 | 294  | 80   | 31.0 |\n",
       "\n"
      ],
      "text/plain": [
       "        Mur  Assault UrbanPop Rp  \n",
       "Alabama 13.2 236     58       21.2\n",
       "Alaska  10.0 263     48       44.5\n",
       "Arizona  8.1 294     80       31.0"
      ]
     },
     "metadata": {},
     "output_type": "display_data"
    }
   ],
   "source": [
    "head(rename(USArrests, Mur= Murder, Rp = Rape ),3)"
   ]
  },
  {
   "cell_type": "code",
   "execution_count": 45,
   "id": "c18238f8-d333-4516-9a91-75207c8b4582",
   "metadata": {},
   "outputs": [
    {
     "data": {
      "text/html": [
       "<table>\n",
       "<thead><tr><th></th><th scope=col>Murder</th><th scope=col>Assault</th><th scope=col>UrbanPop</th><th scope=col>Rape</th><th scope=col>Ppc</th></tr></thead>\n",
       "<tbody>\n",
       "\t<tr><th scope=row>Alabama</th><td>13.2</td><td>236 </td><td>58  </td><td>21.2</td><td>0.58</td></tr>\n",
       "\t<tr><th scope=row>Alaska</th><td>10.0</td><td>263 </td><td>48  </td><td>44.5</td><td>0.48</td></tr>\n",
       "\t<tr><th scope=row>Arizona</th><td> 8.1</td><td>294 </td><td>80  </td><td>31.0</td><td>0.80</td></tr>\n",
       "\t<tr><th scope=row>Arkansas</th><td> 8.8</td><td>190 </td><td>50  </td><td>19.5</td><td>0.50</td></tr>\n",
       "\t<tr><th scope=row>California</th><td> 9.0</td><td>276 </td><td>91  </td><td>40.6</td><td>0.91</td></tr>\n",
       "\t<tr><th scope=row>Colorado</th><td> 7.9</td><td>204 </td><td>78  </td><td>38.7</td><td>0.78</td></tr>\n",
       "</tbody>\n",
       "</table>\n"
      ],
      "text/latex": [
       "\\begin{tabular}{r|lllll}\n",
       "  & Murder & Assault & UrbanPop & Rape & Ppc\\\\\n",
       "\\hline\n",
       "\tAlabama & 13.2 & 236  & 58   & 21.2 & 0.58\\\\\n",
       "\tAlaska & 10.0 & 263  & 48   & 44.5 & 0.48\\\\\n",
       "\tArizona &  8.1 & 294  & 80   & 31.0 & 0.80\\\\\n",
       "\tArkansas &  8.8 & 190  & 50   & 19.5 & 0.50\\\\\n",
       "\tCalifornia &  9.0 & 276  & 91   & 40.6 & 0.91\\\\\n",
       "\tColorado &  7.9 & 204  & 78   & 38.7 & 0.78\\\\\n",
       "\\end{tabular}\n"
      ],
      "text/markdown": [
       "\n",
       "| <!--/--> | Murder | Assault | UrbanPop | Rape | Ppc |\n",
       "|---|---|---|---|---|---|\n",
       "| Alabama | 13.2 | 236  | 58   | 21.2 | 0.58 |\n",
       "| Alaska | 10.0 | 263  | 48   | 44.5 | 0.48 |\n",
       "| Arizona |  8.1 | 294  | 80   | 31.0 | 0.80 |\n",
       "| Arkansas |  8.8 | 190  | 50   | 19.5 | 0.50 |\n",
       "| California |  9.0 | 276  | 91   | 40.6 | 0.91 |\n",
       "| Colorado |  7.9 | 204  | 78   | 38.7 | 0.78 |\n",
       "\n"
      ],
      "text/plain": [
       "           Murder Assault UrbanPop Rape Ppc \n",
       "Alabama    13.2   236     58       21.2 0.58\n",
       "Alaska     10.0   263     48       44.5 0.48\n",
       "Arizona     8.1   294     80       31.0 0.80\n",
       "Arkansas    8.8   190     50       19.5 0.50\n",
       "California  9.0   276     91       40.6 0.91\n",
       "Colorado    7.9   204     78       38.7 0.78"
      ]
     },
     "metadata": {},
     "output_type": "display_data"
    },
    {
     "data": {
      "text/html": [
       "<table>\n",
       "<thead><tr><th scope=col>Murder</th><th scope=col>Assault</th><th scope=col>UrbanPop</th><th scope=col>Rape</th><th scope=col>Ppc</th><th scope=col>RppPop</th></tr></thead>\n",
       "<tbody>\n",
       "\t<tr><td>13.2     </td><td>236      </td><td>58       </td><td>21.2     </td><td>0.58     </td><td>0.3655172</td></tr>\n",
       "\t<tr><td>10.0     </td><td>263      </td><td>48       </td><td>44.5     </td><td>0.48     </td><td>0.9270833</td></tr>\n",
       "\t<tr><td> 8.1     </td><td>294      </td><td>80       </td><td>31.0     </td><td>0.80     </td><td>0.3875000</td></tr>\n",
       "\t<tr><td> 8.8     </td><td>190      </td><td>50       </td><td>19.5     </td><td>0.50     </td><td>0.3900000</td></tr>\n",
       "\t<tr><td> 9.0     </td><td>276      </td><td>91       </td><td>40.6     </td><td>0.91     </td><td>0.4461538</td></tr>\n",
       "\t<tr><td> 7.9     </td><td>204      </td><td>78       </td><td>38.7     </td><td>0.78     </td><td>0.4961538</td></tr>\n",
       "</tbody>\n",
       "</table>\n"
      ],
      "text/latex": [
       "\\begin{tabular}{r|llllll}\n",
       " Murder & Assault & UrbanPop & Rape & Ppc & RppPop\\\\\n",
       "\\hline\n",
       "\t 13.2      & 236       & 58        & 21.2      & 0.58      & 0.3655172\\\\\n",
       "\t 10.0      & 263       & 48        & 44.5      & 0.48      & 0.9270833\\\\\n",
       "\t  8.1      & 294       & 80        & 31.0      & 0.80      & 0.3875000\\\\\n",
       "\t  8.8      & 190       & 50        & 19.5      & 0.50      & 0.3900000\\\\\n",
       "\t  9.0      & 276       & 91        & 40.6      & 0.91      & 0.4461538\\\\\n",
       "\t  7.9      & 204       & 78        & 38.7      & 0.78      & 0.4961538\\\\\n",
       "\\end{tabular}\n"
      ],
      "text/markdown": [
       "\n",
       "| Murder | Assault | UrbanPop | Rape | Ppc | RppPop |\n",
       "|---|---|---|---|---|---|\n",
       "| 13.2      | 236       | 58        | 21.2      | 0.58      | 0.3655172 |\n",
       "| 10.0      | 263       | 48        | 44.5      | 0.48      | 0.9270833 |\n",
       "|  8.1      | 294       | 80        | 31.0      | 0.80      | 0.3875000 |\n",
       "|  8.8      | 190       | 50        | 19.5      | 0.50      | 0.3900000 |\n",
       "|  9.0      | 276       | 91        | 40.6      | 0.91      | 0.4461538 |\n",
       "|  7.9      | 204       | 78        | 38.7      | 0.78      | 0.4961538 |\n",
       "\n"
      ],
      "text/plain": [
       "  Murder Assault UrbanPop Rape Ppc  RppPop   \n",
       "1 13.2   236     58       21.2 0.58 0.3655172\n",
       "2 10.0   263     48       44.5 0.48 0.9270833\n",
       "3  8.1   294     80       31.0 0.80 0.3875000\n",
       "4  8.8   190     50       19.5 0.50 0.3900000\n",
       "5  9.0   276     91       40.6 0.91 0.4461538\n",
       "6  7.9   204     78       38.7 0.78 0.4961538"
      ]
     },
     "metadata": {},
     "output_type": "display_data"
    }
   ],
   "source": [
    "USArrests$Ppc <- USArrests$UrbanPop/100\n",
    "head(USArrests)\n",
    "head(mutate(USArrests,RppPop = Rape/UrbanPop))"
   ]
  },
  {
   "cell_type": "code",
   "execution_count": 46,
   "id": "a92cc4ca-e0e0-498d-a05c-bc6043364c75",
   "metadata": {},
   "outputs": [
    {
     "data": {
      "text/html": [
       "<table>\n",
       "<thead><tr><th scope=col>Ozone</th><th scope=col>Solar.R</th><th scope=col>Wind</th><th scope=col>Temp</th><th scope=col>Month</th><th scope=col>Day</th></tr></thead>\n",
       "<tbody>\n",
       "\t<tr><td>41  </td><td>190 </td><td> 7.4</td><td>67  </td><td>5   </td><td>1   </td></tr>\n",
       "\t<tr><td>36  </td><td>118 </td><td> 8.0</td><td>72  </td><td>5   </td><td>2   </td></tr>\n",
       "\t<tr><td>12  </td><td>149 </td><td>12.6</td><td>74  </td><td>5   </td><td>3   </td></tr>\n",
       "</tbody>\n",
       "</table>\n"
      ],
      "text/latex": [
       "\\begin{tabular}{r|llllll}\n",
       " Ozone & Solar.R & Wind & Temp & Month & Day\\\\\n",
       "\\hline\n",
       "\t 41   & 190  &  7.4 & 67   & 5    & 1   \\\\\n",
       "\t 36   & 118  &  8.0 & 72   & 5    & 2   \\\\\n",
       "\t 12   & 149  & 12.6 & 74   & 5    & 3   \\\\\n",
       "\\end{tabular}\n"
      ],
      "text/markdown": [
       "\n",
       "| Ozone | Solar.R | Wind | Temp | Month | Day |\n",
       "|---|---|---|---|---|---|\n",
       "| 41   | 190  |  7.4 | 67   | 5    | 1    |\n",
       "| 36   | 118  |  8.0 | 72   | 5    | 2    |\n",
       "| 12   | 149  | 12.6 | 74   | 5    | 3    |\n",
       "\n"
      ],
      "text/plain": [
       "  Ozone Solar.R Wind Temp Month Day\n",
       "1 41    190      7.4 67   5     1  \n",
       "2 36    118      8.0 72   5     2  \n",
       "3 12    149     12.6 74   5     3  "
      ]
     },
     "metadata": {},
     "output_type": "display_data"
    }
   ],
   "source": [
    "head(airquality,3)"
   ]
  },
  {
   "cell_type": "code",
   "execution_count": 68,
   "id": "044ba42d-cb93-42e8-a2d0-ec8dc9906dbc",
   "metadata": {},
   "outputs": [
    {
     "data": {
      "text/html": [
       "<table>\n",
       "<thead><tr><th scope=col>Ozone</th><th scope=col>Solar.R</th><th scope=col>Wind</th><th scope=col>Temp</th><th scope=col>Month</th><th scope=col>Day</th></tr></thead>\n",
       "<tbody>\n",
       "\t<tr><td> 41 </td><td>190 </td><td> 7.4</td><td>67  </td><td>5   </td><td> 1  </td></tr>\n",
       "\t<tr><td> 36 </td><td>118 </td><td> 8.0</td><td>72  </td><td>5   </td><td> 2  </td></tr>\n",
       "\t<tr><td> 12 </td><td>149 </td><td>12.6</td><td>74  </td><td>5   </td><td> 3  </td></tr>\n",
       "\t<tr><td> 18 </td><td>313 </td><td>11.5</td><td>62  </td><td>5   </td><td> 4  </td></tr>\n",
       "\t<tr><td> NA </td><td> NA </td><td>14.3</td><td>56  </td><td>5   </td><td> 5  </td></tr>\n",
       "\t<tr><td> 28 </td><td> NA </td><td>14.9</td><td>66  </td><td>5   </td><td> 6  </td></tr>\n",
       "\t<tr><td> 23 </td><td>299 </td><td> 8.6</td><td>65  </td><td>5   </td><td> 7  </td></tr>\n",
       "\t<tr><td> 19 </td><td> 99 </td><td>13.8</td><td>59  </td><td>5   </td><td> 8  </td></tr>\n",
       "\t<tr><td>  8 </td><td> 19 </td><td>20.1</td><td>61  </td><td>5   </td><td> 9  </td></tr>\n",
       "\t<tr><td> NA </td><td>194 </td><td> 8.6</td><td>69  </td><td>5   </td><td>10  </td></tr>\n",
       "\t<tr><td>  7 </td><td> NA </td><td> 6.9</td><td>74  </td><td>5   </td><td>11  </td></tr>\n",
       "\t<tr><td> 16 </td><td>256 </td><td> 9.7</td><td>69  </td><td>5   </td><td>12  </td></tr>\n",
       "\t<tr><td> 11 </td><td>290 </td><td> 9.2</td><td>66  </td><td>5   </td><td>13  </td></tr>\n",
       "\t<tr><td> 14 </td><td>274 </td><td>10.9</td><td>68  </td><td>5   </td><td>14  </td></tr>\n",
       "\t<tr><td> 18 </td><td> 65 </td><td>13.2</td><td>58  </td><td>5   </td><td>15  </td></tr>\n",
       "\t<tr><td> 14 </td><td>334 </td><td>11.5</td><td>64  </td><td>5   </td><td>16  </td></tr>\n",
       "\t<tr><td> 34 </td><td>307 </td><td>12.0</td><td>66  </td><td>5   </td><td>17  </td></tr>\n",
       "\t<tr><td>  6 </td><td> 78 </td><td>18.4</td><td>57  </td><td>5   </td><td>18  </td></tr>\n",
       "\t<tr><td> 30 </td><td>322 </td><td>11.5</td><td>68  </td><td>5   </td><td>19  </td></tr>\n",
       "\t<tr><td> 11 </td><td> 44 </td><td> 9.7</td><td>62  </td><td>5   </td><td>20  </td></tr>\n",
       "\t<tr><td>  1 </td><td>  8 </td><td> 9.7</td><td>59  </td><td>5   </td><td>21  </td></tr>\n",
       "\t<tr><td> 11 </td><td>320 </td><td>16.6</td><td>73  </td><td>5   </td><td>22  </td></tr>\n",
       "\t<tr><td>  4 </td><td> 25 </td><td> 9.7</td><td>61  </td><td>5   </td><td>23  </td></tr>\n",
       "\t<tr><td> 32 </td><td> 92 </td><td>12.0</td><td>61  </td><td>5   </td><td>24  </td></tr>\n",
       "\t<tr><td> NA </td><td> 66 </td><td>16.6</td><td>57  </td><td>5   </td><td>25  </td></tr>\n",
       "\t<tr><td> NA </td><td>266 </td><td>14.9</td><td>58  </td><td>5   </td><td>26  </td></tr>\n",
       "\t<tr><td> NA </td><td> NA </td><td> 8.0</td><td>57  </td><td>5   </td><td>27  </td></tr>\n",
       "\t<tr><td> 23 </td><td> 13 </td><td>12.0</td><td>67  </td><td>5   </td><td>28  </td></tr>\n",
       "\t<tr><td> 45 </td><td>252 </td><td>14.9</td><td>81  </td><td>5   </td><td>29  </td></tr>\n",
       "\t<tr><td>115 </td><td>223 </td><td> 5.7</td><td>79  </td><td>5   </td><td>30  </td></tr>\n",
       "\t<tr><td>...</td><td>...</td><td>...</td><td>...</td><td>...</td><td>...</td></tr>\n",
       "\t<tr><td>96  </td><td>167 </td><td> 6.9</td><td>91  </td><td>9   </td><td> 1  </td></tr>\n",
       "\t<tr><td>78  </td><td>197 </td><td> 5.1</td><td>92  </td><td>9   </td><td> 2  </td></tr>\n",
       "\t<tr><td>73  </td><td>183 </td><td> 2.8</td><td>93  </td><td>9   </td><td> 3  </td></tr>\n",
       "\t<tr><td>91  </td><td>189 </td><td> 4.6</td><td>93  </td><td>9   </td><td> 4  </td></tr>\n",
       "\t<tr><td>47  </td><td> 95 </td><td> 7.4</td><td>87  </td><td>9   </td><td> 5  </td></tr>\n",
       "\t<tr><td>32  </td><td> 92 </td><td>15.5</td><td>84  </td><td>9   </td><td> 6  </td></tr>\n",
       "\t<tr><td>20  </td><td>252 </td><td>10.9</td><td>80  </td><td>9   </td><td> 7  </td></tr>\n",
       "\t<tr><td>23  </td><td>220 </td><td>10.3</td><td>78  </td><td>9   </td><td> 8  </td></tr>\n",
       "\t<tr><td>21  </td><td>230 </td><td>10.9</td><td>75  </td><td>9   </td><td> 9  </td></tr>\n",
       "\t<tr><td>24  </td><td>259 </td><td> 9.7</td><td>73  </td><td>9   </td><td>10  </td></tr>\n",
       "\t<tr><td>44  </td><td>236 </td><td>14.9</td><td>81  </td><td>9   </td><td>11  </td></tr>\n",
       "\t<tr><td>21  </td><td>259 </td><td>15.5</td><td>76  </td><td>9   </td><td>12  </td></tr>\n",
       "\t<tr><td>28  </td><td>238 </td><td> 6.3</td><td>77  </td><td>9   </td><td>13  </td></tr>\n",
       "\t<tr><td> 9  </td><td> 24 </td><td>10.9</td><td>71  </td><td>9   </td><td>14  </td></tr>\n",
       "\t<tr><td>13  </td><td>112 </td><td>11.5</td><td>71  </td><td>9   </td><td>15  </td></tr>\n",
       "\t<tr><td>46  </td><td>237 </td><td> 6.9</td><td>78  </td><td>9   </td><td>16  </td></tr>\n",
       "\t<tr><td>18  </td><td>224 </td><td>13.8</td><td>67  </td><td>9   </td><td>17  </td></tr>\n",
       "\t<tr><td>13  </td><td> 27 </td><td>10.3</td><td>76  </td><td>9   </td><td>18  </td></tr>\n",
       "\t<tr><td>24  </td><td>238 </td><td>10.3</td><td>68  </td><td>9   </td><td>19  </td></tr>\n",
       "\t<tr><td>16  </td><td>201 </td><td> 8.0</td><td>82  </td><td>9   </td><td>20  </td></tr>\n",
       "\t<tr><td>13  </td><td>238 </td><td>12.6</td><td>64  </td><td>9   </td><td>21  </td></tr>\n",
       "\t<tr><td>23  </td><td> 14 </td><td> 9.2</td><td>71  </td><td>9   </td><td>22  </td></tr>\n",
       "\t<tr><td>36  </td><td>139 </td><td>10.3</td><td>81  </td><td>9   </td><td>23  </td></tr>\n",
       "\t<tr><td> 7  </td><td> 49 </td><td>10.3</td><td>69  </td><td>9   </td><td>24  </td></tr>\n",
       "\t<tr><td>14  </td><td> 20 </td><td>16.6</td><td>63  </td><td>9   </td><td>25  </td></tr>\n",
       "\t<tr><td>30  </td><td>193 </td><td> 6.9</td><td>70  </td><td>9   </td><td>26  </td></tr>\n",
       "\t<tr><td>NA  </td><td>145 </td><td>13.2</td><td>77  </td><td>9   </td><td>27  </td></tr>\n",
       "\t<tr><td>14  </td><td>191 </td><td>14.3</td><td>75  </td><td>9   </td><td>28  </td></tr>\n",
       "\t<tr><td>18  </td><td>131 </td><td> 8.0</td><td>76  </td><td>9   </td><td>29  </td></tr>\n",
       "\t<tr><td>20  </td><td>223 </td><td>11.5</td><td>68  </td><td>9   </td><td>30  </td></tr>\n",
       "</tbody>\n",
       "</table>\n"
      ],
      "text/latex": [
       "\\begin{tabular}{r|llllll}\n",
       " Ozone & Solar.R & Wind & Temp & Month & Day\\\\\n",
       "\\hline\n",
       "\t  41  & 190  &  7.4 & 67   & 5    &  1  \\\\\n",
       "\t  36  & 118  &  8.0 & 72   & 5    &  2  \\\\\n",
       "\t  12  & 149  & 12.6 & 74   & 5    &  3  \\\\\n",
       "\t  18  & 313  & 11.5 & 62   & 5    &  4  \\\\\n",
       "\t  NA  &  NA  & 14.3 & 56   & 5    &  5  \\\\\n",
       "\t  28  &  NA  & 14.9 & 66   & 5    &  6  \\\\\n",
       "\t  23  & 299  &  8.6 & 65   & 5    &  7  \\\\\n",
       "\t  19  &  99  & 13.8 & 59   & 5    &  8  \\\\\n",
       "\t   8  &  19  & 20.1 & 61   & 5    &  9  \\\\\n",
       "\t  NA  & 194  &  8.6 & 69   & 5    & 10  \\\\\n",
       "\t   7  &  NA  &  6.9 & 74   & 5    & 11  \\\\\n",
       "\t  16  & 256  &  9.7 & 69   & 5    & 12  \\\\\n",
       "\t  11  & 290  &  9.2 & 66   & 5    & 13  \\\\\n",
       "\t  14  & 274  & 10.9 & 68   & 5    & 14  \\\\\n",
       "\t  18  &  65  & 13.2 & 58   & 5    & 15  \\\\\n",
       "\t  14  & 334  & 11.5 & 64   & 5    & 16  \\\\\n",
       "\t  34  & 307  & 12.0 & 66   & 5    & 17  \\\\\n",
       "\t   6  &  78  & 18.4 & 57   & 5    & 18  \\\\\n",
       "\t  30  & 322  & 11.5 & 68   & 5    & 19  \\\\\n",
       "\t  11  &  44  &  9.7 & 62   & 5    & 20  \\\\\n",
       "\t   1  &   8  &  9.7 & 59   & 5    & 21  \\\\\n",
       "\t  11  & 320  & 16.6 & 73   & 5    & 22  \\\\\n",
       "\t   4  &  25  &  9.7 & 61   & 5    & 23  \\\\\n",
       "\t  32  &  92  & 12.0 & 61   & 5    & 24  \\\\\n",
       "\t  NA  &  66  & 16.6 & 57   & 5    & 25  \\\\\n",
       "\t  NA  & 266  & 14.9 & 58   & 5    & 26  \\\\\n",
       "\t  NA  &  NA  &  8.0 & 57   & 5    & 27  \\\\\n",
       "\t  23  &  13  & 12.0 & 67   & 5    & 28  \\\\\n",
       "\t  45  & 252  & 14.9 & 81   & 5    & 29  \\\\\n",
       "\t 115  & 223  &  5.7 & 79   & 5    & 30  \\\\\n",
       "\t ... & ... & ... & ... & ... & ...\\\\\n",
       "\t 96   & 167  &  6.9 & 91   & 9    &  1  \\\\\n",
       "\t 78   & 197  &  5.1 & 92   & 9    &  2  \\\\\n",
       "\t 73   & 183  &  2.8 & 93   & 9    &  3  \\\\\n",
       "\t 91   & 189  &  4.6 & 93   & 9    &  4  \\\\\n",
       "\t 47   &  95  &  7.4 & 87   & 9    &  5  \\\\\n",
       "\t 32   &  92  & 15.5 & 84   & 9    &  6  \\\\\n",
       "\t 20   & 252  & 10.9 & 80   & 9    &  7  \\\\\n",
       "\t 23   & 220  & 10.3 & 78   & 9    &  8  \\\\\n",
       "\t 21   & 230  & 10.9 & 75   & 9    &  9  \\\\\n",
       "\t 24   & 259  &  9.7 & 73   & 9    & 10  \\\\\n",
       "\t 44   & 236  & 14.9 & 81   & 9    & 11  \\\\\n",
       "\t 21   & 259  & 15.5 & 76   & 9    & 12  \\\\\n",
       "\t 28   & 238  &  6.3 & 77   & 9    & 13  \\\\\n",
       "\t  9   &  24  & 10.9 & 71   & 9    & 14  \\\\\n",
       "\t 13   & 112  & 11.5 & 71   & 9    & 15  \\\\\n",
       "\t 46   & 237  &  6.9 & 78   & 9    & 16  \\\\\n",
       "\t 18   & 224  & 13.8 & 67   & 9    & 17  \\\\\n",
       "\t 13   &  27  & 10.3 & 76   & 9    & 18  \\\\\n",
       "\t 24   & 238  & 10.3 & 68   & 9    & 19  \\\\\n",
       "\t 16   & 201  &  8.0 & 82   & 9    & 20  \\\\\n",
       "\t 13   & 238  & 12.6 & 64   & 9    & 21  \\\\\n",
       "\t 23   &  14  &  9.2 & 71   & 9    & 22  \\\\\n",
       "\t 36   & 139  & 10.3 & 81   & 9    & 23  \\\\\n",
       "\t  7   &  49  & 10.3 & 69   & 9    & 24  \\\\\n",
       "\t 14   &  20  & 16.6 & 63   & 9    & 25  \\\\\n",
       "\t 30   & 193  &  6.9 & 70   & 9    & 26  \\\\\n",
       "\t NA   & 145  & 13.2 & 77   & 9    & 27  \\\\\n",
       "\t 14   & 191  & 14.3 & 75   & 9    & 28  \\\\\n",
       "\t 18   & 131  &  8.0 & 76   & 9    & 29  \\\\\n",
       "\t 20   & 223  & 11.5 & 68   & 9    & 30  \\\\\n",
       "\\end{tabular}\n"
      ],
      "text/markdown": [
       "\n",
       "| Ozone | Solar.R | Wind | Temp | Month | Day |\n",
       "|---|---|---|---|---|---|\n",
       "|  41  | 190  |  7.4 | 67   | 5    |  1   |\n",
       "|  36  | 118  |  8.0 | 72   | 5    |  2   |\n",
       "|  12  | 149  | 12.6 | 74   | 5    |  3   |\n",
       "|  18  | 313  | 11.5 | 62   | 5    |  4   |\n",
       "|  NA  |  NA  | 14.3 | 56   | 5    |  5   |\n",
       "|  28  |  NA  | 14.9 | 66   | 5    |  6   |\n",
       "|  23  | 299  |  8.6 | 65   | 5    |  7   |\n",
       "|  19  |  99  | 13.8 | 59   | 5    |  8   |\n",
       "|   8  |  19  | 20.1 | 61   | 5    |  9   |\n",
       "|  NA  | 194  |  8.6 | 69   | 5    | 10   |\n",
       "|   7  |  NA  |  6.9 | 74   | 5    | 11   |\n",
       "|  16  | 256  |  9.7 | 69   | 5    | 12   |\n",
       "|  11  | 290  |  9.2 | 66   | 5    | 13   |\n",
       "|  14  | 274  | 10.9 | 68   | 5    | 14   |\n",
       "|  18  |  65  | 13.2 | 58   | 5    | 15   |\n",
       "|  14  | 334  | 11.5 | 64   | 5    | 16   |\n",
       "|  34  | 307  | 12.0 | 66   | 5    | 17   |\n",
       "|   6  |  78  | 18.4 | 57   | 5    | 18   |\n",
       "|  30  | 322  | 11.5 | 68   | 5    | 19   |\n",
       "|  11  |  44  |  9.7 | 62   | 5    | 20   |\n",
       "|   1  |   8  |  9.7 | 59   | 5    | 21   |\n",
       "|  11  | 320  | 16.6 | 73   | 5    | 22   |\n",
       "|   4  |  25  |  9.7 | 61   | 5    | 23   |\n",
       "|  32  |  92  | 12.0 | 61   | 5    | 24   |\n",
       "|  NA  |  66  | 16.6 | 57   | 5    | 25   |\n",
       "|  NA  | 266  | 14.9 | 58   | 5    | 26   |\n",
       "|  NA  |  NA  |  8.0 | 57   | 5    | 27   |\n",
       "|  23  |  13  | 12.0 | 67   | 5    | 28   |\n",
       "|  45  | 252  | 14.9 | 81   | 5    | 29   |\n",
       "| 115  | 223  |  5.7 | 79   | 5    | 30   |\n",
       "| ... | ... | ... | ... | ... | ... |\n",
       "| 96   | 167  |  6.9 | 91   | 9    |  1   |\n",
       "| 78   | 197  |  5.1 | 92   | 9    |  2   |\n",
       "| 73   | 183  |  2.8 | 93   | 9    |  3   |\n",
       "| 91   | 189  |  4.6 | 93   | 9    |  4   |\n",
       "| 47   |  95  |  7.4 | 87   | 9    |  5   |\n",
       "| 32   |  92  | 15.5 | 84   | 9    |  6   |\n",
       "| 20   | 252  | 10.9 | 80   | 9    |  7   |\n",
       "| 23   | 220  | 10.3 | 78   | 9    |  8   |\n",
       "| 21   | 230  | 10.9 | 75   | 9    |  9   |\n",
       "| 24   | 259  |  9.7 | 73   | 9    | 10   |\n",
       "| 44   | 236  | 14.9 | 81   | 9    | 11   |\n",
       "| 21   | 259  | 15.5 | 76   | 9    | 12   |\n",
       "| 28   | 238  |  6.3 | 77   | 9    | 13   |\n",
       "|  9   |  24  | 10.9 | 71   | 9    | 14   |\n",
       "| 13   | 112  | 11.5 | 71   | 9    | 15   |\n",
       "| 46   | 237  |  6.9 | 78   | 9    | 16   |\n",
       "| 18   | 224  | 13.8 | 67   | 9    | 17   |\n",
       "| 13   |  27  | 10.3 | 76   | 9    | 18   |\n",
       "| 24   | 238  | 10.3 | 68   | 9    | 19   |\n",
       "| 16   | 201  |  8.0 | 82   | 9    | 20   |\n",
       "| 13   | 238  | 12.6 | 64   | 9    | 21   |\n",
       "| 23   |  14  |  9.2 | 71   | 9    | 22   |\n",
       "| 36   | 139  | 10.3 | 81   | 9    | 23   |\n",
       "|  7   |  49  | 10.3 | 69   | 9    | 24   |\n",
       "| 14   |  20  | 16.6 | 63   | 9    | 25   |\n",
       "| 30   | 193  |  6.9 | 70   | 9    | 26   |\n",
       "| NA   | 145  | 13.2 | 77   | 9    | 27   |\n",
       "| 14   | 191  | 14.3 | 75   | 9    | 28   |\n",
       "| 18   | 131  |  8.0 | 76   | 9    | 29   |\n",
       "| 20   | 223  | 11.5 | 68   | 9    | 30   |\n",
       "\n"
      ],
      "text/plain": [
       "    Ozone Solar.R Wind Temp Month Day\n",
       "1    41   190      7.4 67   5      1 \n",
       "2    36   118      8.0 72   5      2 \n",
       "3    12   149     12.6 74   5      3 \n",
       "4    18   313     11.5 62   5      4 \n",
       "5    NA    NA     14.3 56   5      5 \n",
       "6    28    NA     14.9 66   5      6 \n",
       "7    23   299      8.6 65   5      7 \n",
       "8    19    99     13.8 59   5      8 \n",
       "9     8    19     20.1 61   5      9 \n",
       "10   NA   194      8.6 69   5     10 \n",
       "11    7    NA      6.9 74   5     11 \n",
       "12   16   256      9.7 69   5     12 \n",
       "13   11   290      9.2 66   5     13 \n",
       "14   14   274     10.9 68   5     14 \n",
       "15   18    65     13.2 58   5     15 \n",
       "16   14   334     11.5 64   5     16 \n",
       "17   34   307     12.0 66   5     17 \n",
       "18    6    78     18.4 57   5     18 \n",
       "19   30   322     11.5 68   5     19 \n",
       "20   11    44      9.7 62   5     20 \n",
       "21    1     8      9.7 59   5     21 \n",
       "22   11   320     16.6 73   5     22 \n",
       "23    4    25      9.7 61   5     23 \n",
       "24   32    92     12.0 61   5     24 \n",
       "25   NA    66     16.6 57   5     25 \n",
       "26   NA   266     14.9 58   5     26 \n",
       "27   NA    NA      8.0 57   5     27 \n",
       "28   23    13     12.0 67   5     28 \n",
       "29   45   252     14.9 81   5     29 \n",
       "30  115   223      5.7 79   5     30 \n",
       "... ...   ...     ...  ...  ...   ...\n",
       "124 96    167      6.9 91   9      1 \n",
       "125 78    197      5.1 92   9      2 \n",
       "126 73    183      2.8 93   9      3 \n",
       "127 91    189      4.6 93   9      4 \n",
       "128 47     95      7.4 87   9      5 \n",
       "129 32     92     15.5 84   9      6 \n",
       "130 20    252     10.9 80   9      7 \n",
       "131 23    220     10.3 78   9      8 \n",
       "132 21    230     10.9 75   9      9 \n",
       "133 24    259      9.7 73   9     10 \n",
       "134 44    236     14.9 81   9     11 \n",
       "135 21    259     15.5 76   9     12 \n",
       "136 28    238      6.3 77   9     13 \n",
       "137  9     24     10.9 71   9     14 \n",
       "138 13    112     11.5 71   9     15 \n",
       "139 46    237      6.9 78   9     16 \n",
       "140 18    224     13.8 67   9     17 \n",
       "141 13     27     10.3 76   9     18 \n",
       "142 24    238     10.3 68   9     19 \n",
       "143 16    201      8.0 82   9     20 \n",
       "144 13    238     12.6 64   9     21 \n",
       "145 23     14      9.2 71   9     22 \n",
       "146 36    139     10.3 81   9     23 \n",
       "147  7     49     10.3 69   9     24 \n",
       "148 14     20     16.6 63   9     25 \n",
       "149 30    193      6.9 70   9     26 \n",
       "150 NA    145     13.2 77   9     27 \n",
       "151 14    191     14.3 75   9     28 \n",
       "152 18    131      8.0 76   9     29 \n",
       "153 20    223     11.5 68   9     30 "
      ]
     },
     "metadata": {},
     "output_type": "display_data"
    }
   ],
   "source": [
    "group_by(airquality, Temp)"
   ]
  },
  {
   "cell_type": "code",
   "execution_count": null,
   "id": "6412503f-d5cd-4944-ad0b-56bf5199e55a",
   "metadata": {},
   "outputs": [],
   "source": []
  }
 ],
 "metadata": {
  "kernelspec": {
   "display_name": "R",
   "language": "R",
   "name": "ir"
  },
  "language_info": {
   "codemirror_mode": "r",
   "file_extension": ".r",
   "mimetype": "text/x-r-source",
   "name": "R",
   "pygments_lexer": "r",
   "version": "3.6.1"
  }
 },
 "nbformat": 4,
 "nbformat_minor": 5
}
