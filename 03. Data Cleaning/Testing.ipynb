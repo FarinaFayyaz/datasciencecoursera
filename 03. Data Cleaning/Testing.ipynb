{
 "cells": [
  {
   "cell_type": "markdown",
   "id": "996c4cd4-db39-4100-9d09-f0ea2d626a69",
   "metadata": {},
   "source": [
    "# Getting and Cleaning Data Project\n",
    "Author: Farina Fayyaz\n",
    "Data Zip File Location: [UC Irvine Repo] (https://d396qusza40orc.cloudfront.net/getdata%2Fprojectfiles%2FUCI%20HAR%20Dataset.zip)\n",
    "\n",
    "# Goal of the Project\n",
    "1. A tidy data set\n",
    "2. A link to a Github repository with your script for performing the analysis\n",
    "3. A code book that describes the variables, the data, and any transformations or work that you performed to clean up the data called CodeBook.md.\n",
    "4. You should also include a README.md in the repo with your scripts. This repo explains how all of the scripts work and how they are connected.\n",
    "5. Analysis R Script\n",
    "\n",
    "# Content\n",
    "| Goal | Item | Link to Item |\n",
    "|---|---|---|\n",
    "| The run_analysis.R script that performs all the analysis| run_analysis.R | [R Script Link](https://github.com/FarinaFayyaz/datasciencecoursera/blob/main/03.%20Data%20Cleaning/run_analysis.r) |\n",
    "| Tidy Dataset  | Clean Dataset | [Dataset Link](insert link here) |\n",
    "| Github Repository | Repository | [Repository Link](https://github.com/FarinaFayyaz/datasciencecoursera/tree/main/03.%20Data%20Cleaning) |\n",
    "| The CodeBook.md with description of all the variables in the final tidy data set | Codebook.md | [Codebook Link](insert link here) |\n",
    "| This README.md with all the instructions to run and explanations | README.md | [File Link](http://localhost:8888/edit/Course%20Project%2FREADME.md) |\n",
    "\n",
    "# To Perform the run_analysis.R file\n",
    "* Check for Tidyverse: Make sure you have the \"tidyverse\" collection of packages installed in your R environment. If you don't, run this command in your R session: install.packages(\"tidyverse\")\n",
    "* Clone the Repository: Obtain a copy of the project's repository onto your computer.\n",
    "* Navigate to the Directory: Open R and use the setwd() function to set your working directory to the project's home directory (the main folder where the run_analysis.R script is located).\n",
    "* Run the Script: Execute the following command in your R session to initiate the analysis: source(\"run_analysis.R\")\n",
    "\n",
    "# How it works\n",
    "These are the steps followed in the run_analysis.r script\n",
    "\n",
    "1. Load the dependence (tidyverse)\n",
    "```\n",
    "library(tidyverse)\n",
    "```\n",
    "2. Retrieve and extract the data. Verify the existence of the data directory; if absent, create it. Download the file and unzip it to \"Data\" directory. \"Data/UCI HAR Dataset\" will contain the requisite files.\n",
    "```\n",
    "path <- getwd()\n",
    "#Creating Data subdirectory\n",
    "if (!dir.exists(\"Data\")) {\n",
    "    dir.create(\"Data\")\n",
    "}\n",
    "\n",
    "#Downloading Dataset\n",
    "download.file(\"https://d396qusza40orc.cloudfront.net/getdata%2Fprojectfiles%2FUCI%20HAR%20Dataset.zip\",\"path/Data/test.zip\")\n",
    "unzip(\"Data/test.zip\",exdir=\"Data\")\r",
    "```\n",
    "3. Read the features.txt file, that contains the names of the variables and store them in a character vector\r",
    "```\n",
    "features <- fread('./Data/UCI HAR Dataset/features.txt', col.names = c(\"index\", \"featureNames\")\n",
    "```\n"
   ]
  },
  {
   "cell_type": "code",
   "execution_count": null,
   "id": "8029284f-2cdb-4996-b8c8-cfcc829ad1da",
   "metadata": {},
   "outputs": [],
   "source": []
  }
 ],
 "metadata": {
  "kernelspec": {
   "display_name": "R",
   "language": "R",
   "name": "ir"
  },
  "language_info": {
   "codemirror_mode": "r",
   "file_extension": ".r",
   "mimetype": "text/x-r-source",
   "name": "R",
   "pygments_lexer": "r",
   "version": "3.6.1"
  }
 },
 "nbformat": 4,
 "nbformat_minor": 5
}
