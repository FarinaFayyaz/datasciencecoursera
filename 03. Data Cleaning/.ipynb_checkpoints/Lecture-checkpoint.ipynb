{
 "cells": [
  {
   "cell_type": "markdown",
   "id": "f51631b6-b09d-4b5e-b0b7-aaa917ac526d",
   "metadata": {},
   "source": [
    "set.seed(13435)\n",
    "X <- data.frame(\"var1\"=sample(1:5),\"var2\"=sample(6:10),\"var3\"=sample(11:15))\n",
    "X <- X[sample(1:5),]; X$var2[c(1,3)]=NA\n",
    "X"
   ]
  },
  {
   "cell_type": "code",
   "execution_count": 6,
   "id": "a3e32757-53da-4761-bc17-4d2a508f6e1f",
   "metadata": {},
   "outputs": [
    {
     "data": {
      "text/html": [
       "<ol class=list-inline>\n",
       "\t<li>2</li>\n",
       "\t<li>4</li>\n",
       "</ol>\n"
      ],
      "text/latex": [
       "\\begin{enumerate*}\n",
       "\\item 2\n",
       "\\item 4\n",
       "\\end{enumerate*}\n"
      ],
      "text/markdown": [
       "1. 2\n",
       "2. 4\n",
       "\n",
       "\n"
      ],
      "text/plain": [
       "[1] 2 4"
      ]
     },
     "metadata": {},
     "output_type": "display_data"
    }
   ],
   "source": [
    "X[1:2,\"var1\"]"
   ]
  },
  {
   "cell_type": "code",
   "execution_count": 11,
   "id": "b7cb23ad-0039-4c5d-90e0-05eec7c71baa",
   "metadata": {},
   "outputs": [
    {
     "data": {
      "text/html": [
       "<table>\n",
       "<thead><tr><th></th><th scope=col>var1</th><th scope=col>var2</th><th scope=col>var3</th></tr></thead>\n",
       "<tbody>\n",
       "\t<tr><th scope=row>5</th><td>2 </td><td>NA</td><td>11</td></tr>\n",
       "\t<tr><th scope=row>1</th><td>3 </td><td>NA</td><td>14</td></tr>\n",
       "\t<tr><th scope=row>2</th><td>1 </td><td> 7</td><td>15</td></tr>\n",
       "</tbody>\n",
       "</table>\n"
      ],
      "text/latex": [
       "\\begin{tabular}{r|lll}\n",
       "  & var1 & var2 & var3\\\\\n",
       "\\hline\n",
       "\t5 & 2  & NA & 11\\\\\n",
       "\t1 & 3  & NA & 14\\\\\n",
       "\t2 & 1  &  7 & 15\\\\\n",
       "\\end{tabular}\n"
      ],
      "text/markdown": [
       "\n",
       "| <!--/--> | var1 | var2 | var3 |\n",
       "|---|---|---|---|\n",
       "| 5 | 2  | NA | 11 |\n",
       "| 1 | 3  | NA | 14 |\n",
       "| 2 | 1  |  7 | 15 |\n",
       "\n"
      ],
      "text/plain": [
       "  var1 var2 var3\n",
       "5 2    NA   11  \n",
       "1 3    NA   14  \n",
       "2 1     7   15  "
      ]
     },
     "metadata": {},
     "output_type": "display_data"
    }
   ],
   "source": [
    "X[which(X$var1 <=3 ),]"
   ]
  },
  {
   "cell_type": "code",
   "execution_count": 13,
   "id": "3a82d0dc-8c9a-45db-8663-8d8e6c5c95ec",
   "metadata": {},
   "outputs": [
    {
     "data": {
      "text/html": [
       "<ol class=list-inline>\n",
       "\t<li>2</li>\n",
       "\t<li>5</li>\n",
       "</ol>\n"
      ],
      "text/latex": [
       "\\begin{enumerate*}\n",
       "\\item 2\n",
       "\\item 5\n",
       "\\end{enumerate*}\n"
      ],
      "text/markdown": [
       "1. 2\n",
       "2. 5\n",
       "\n",
       "\n"
      ],
      "text/plain": [
       "[1] 2 5"
      ]
     },
     "metadata": {},
     "output_type": "display_data"
    }
   ],
   "source": [
    "which(X$var1 >3)"
   ]
  },
  {
   "cell_type": "code",
   "execution_count": 24,
   "id": "51e68178-c53c-43f4-8b22-cf1eac02cc83",
   "metadata": {},
   "outputs": [
    {
     "data": {
      "text/html": [
       "<table>\n",
       "<thead><tr><th></th><th scope=col>var1</th><th scope=col>var2</th><th scope=col>var3</th></tr></thead>\n",
       "<tbody>\n",
       "\t<tr><th scope=row>5</th><td>2 </td><td>NA</td><td>11</td></tr>\n",
       "\t<tr><th scope=row>4</th><td>4 </td><td>10</td><td>12</td></tr>\n",
       "\t<tr><th scope=row>1</th><td>3 </td><td>NA</td><td>14</td></tr>\n",
       "\t<tr><th scope=row>2</th><td>1 </td><td> 7</td><td>15</td></tr>\n",
       "\t<tr><th scope=row>3</th><td>5 </td><td> 6</td><td>13</td></tr>\n",
       "</tbody>\n",
       "</table>\n"
      ],
      "text/latex": [
       "\\begin{tabular}{r|lll}\n",
       "  & var1 & var2 & var3\\\\\n",
       "\\hline\n",
       "\t5 & 2  & NA & 11\\\\\n",
       "\t4 & 4  & 10 & 12\\\\\n",
       "\t1 & 3  & NA & 14\\\\\n",
       "\t2 & 1  &  7 & 15\\\\\n",
       "\t3 & 5  &  6 & 13\\\\\n",
       "\\end{tabular}\n"
      ],
      "text/markdown": [
       "\n",
       "| <!--/--> | var1 | var2 | var3 |\n",
       "|---|---|---|---|\n",
       "| 5 | 2  | NA | 11 |\n",
       "| 4 | 4  | 10 | 12 |\n",
       "| 1 | 3  | NA | 14 |\n",
       "| 2 | 1  |  7 | 15 |\n",
       "| 3 | 5  |  6 | 13 |\n",
       "\n"
      ],
      "text/plain": [
       "  var1 var2 var3\n",
       "5 2    NA   11  \n",
       "4 4    10   12  \n",
       "1 3    NA   14  \n",
       "2 1     7   15  \n",
       "3 5     6   13  "
      ]
     },
     "metadata": {},
     "output_type": "display_data"
    }
   ],
   "source": [
    "X[sort(X$var1,decreasing=FALSE),]"
   ]
  },
  {
   "cell_type": "code",
   "execution_count": 29,
   "id": "692421fd-0c13-4f67-850c-133c8a9d6b49",
   "metadata": {},
   "outputs": [
    {
     "data": {
      "text/html": [
       "<table>\n",
       "<thead><tr><th scope=col>var1</th><th scope=col>var2</th><th scope=col>var3</th><th scope=col>var4</th></tr></thead>\n",
       "<tbody>\n",
       "\t<tr><td>5         </td><td> 6        </td><td>13        </td><td>-0.9261035</td></tr>\n",
       "\t<tr><td>4         </td><td>10        </td><td>12        </td><td> 2.5437602</td></tr>\n",
       "\t<tr><td>3         </td><td>NA        </td><td>14        </td><td> 1.5545298</td></tr>\n",
       "\t<tr><td>2         </td><td>NA        </td><td>11        </td><td>-0.4150458</td></tr>\n",
       "\t<tr><td>1         </td><td> 7        </td><td>15        </td><td>-0.6192328</td></tr>\n",
       "</tbody>\n",
       "</table>\n"
      ],
      "text/latex": [
       "\\begin{tabular}{r|llll}\n",
       " var1 & var2 & var3 & var4\\\\\n",
       "\\hline\n",
       "\t 5          &  6         & 13         & -0.9261035\\\\\n",
       "\t 4          & 10         & 12         &  2.5437602\\\\\n",
       "\t 3          & NA         & 14         &  1.5545298\\\\\n",
       "\t 2          & NA         & 11         & -0.4150458\\\\\n",
       "\t 1          &  7         & 15         & -0.6192328\\\\\n",
       "\\end{tabular}\n"
      ],
      "text/markdown": [
       "\n",
       "| var1 | var2 | var3 | var4 |\n",
       "|---|---|---|---|\n",
       "| 5          |  6         | 13         | -0.9261035 |\n",
       "| 4          | 10         | 12         |  2.5437602 |\n",
       "| 3          | NA         | 14         |  1.5545298 |\n",
       "| 2          | NA         | 11         | -0.4150458 |\n",
       "| 1          |  7         | 15         | -0.6192328 |\n",
       "\n"
      ],
      "text/plain": [
       "  var1 var2 var3 var4      \n",
       "1 5     6   13   -0.9261035\n",
       "2 4    10   12    2.5437602\n",
       "3 3    NA   14    1.5545298\n",
       "4 2    NA   11   -0.4150458\n",
       "5 1     7   15   -0.6192328"
      ]
     },
     "metadata": {},
     "output_type": "display_data"
    },
    {
     "data": {
      "text/html": [
       "<table>\n",
       "<thead><tr><th></th><th scope=col>var1</th><th scope=col>var2</th><th scope=col>var3</th><th scope=col>var4</th></tr></thead>\n",
       "<tbody>\n",
       "\t<tr><th scope=row>5</th><td>2          </td><td>NA         </td><td>11         </td><td>-0.66549949</td></tr>\n",
       "\t<tr><th scope=row>4</th><td>4          </td><td>10         </td><td>12         </td><td>-0.02166735</td></tr>\n",
       "\t<tr><th scope=row>1</th><td>3          </td><td>NA         </td><td>14         </td><td>-0.17411953</td></tr>\n",
       "\t<tr><th scope=row>2</th><td>1          </td><td> 7         </td><td>15         </td><td> 0.23900438</td></tr>\n",
       "\t<tr><th scope=row>3</th><td>5          </td><td> 6         </td><td>13         </td><td>-1.83245959</td></tr>\n",
       "</tbody>\n",
       "</table>\n"
      ],
      "text/latex": [
       "\\begin{tabular}{r|llll}\n",
       "  & var1 & var2 & var3 & var4\\\\\n",
       "\\hline\n",
       "\t5 & 2           & NA          & 11          & -0.66549949\\\\\n",
       "\t4 & 4           & 10          & 12          & -0.02166735\\\\\n",
       "\t1 & 3           & NA          & 14          & -0.17411953\\\\\n",
       "\t2 & 1           &  7          & 15          &  0.23900438\\\\\n",
       "\t3 & 5           &  6          & 13          & -1.83245959\\\\\n",
       "\\end{tabular}\n"
      ],
      "text/markdown": [
       "\n",
       "| <!--/--> | var1 | var2 | var3 | var4 |\n",
       "|---|---|---|---|---|\n",
       "| 5 | 2           | NA          | 11          | -0.66549949 |\n",
       "| 4 | 4           | 10          | 12          | -0.02166735 |\n",
       "| 1 | 3           | NA          | 14          | -0.17411953 |\n",
       "| 2 | 1           |  7          | 15          |  0.23900438 |\n",
       "| 3 | 5           |  6          | 13          | -1.83245959 |\n",
       "\n"
      ],
      "text/plain": [
       "  var1 var2 var3 var4       \n",
       "5 2    NA   11   -0.66549949\n",
       "4 4    10   12   -0.02166735\n",
       "1 3    NA   14   -0.17411953\n",
       "2 1     7   15    0.23900438\n",
       "3 5     6   13   -1.83245959"
      ]
     },
     "metadata": {},
     "output_type": "display_data"
    }
   ],
   "source": [
    "library(plyr)\n",
    "arrange(X,desc(var1))\n",
    "X$var4 <- rnorm(5)\n",
    "X"
   ]
  },
  {
   "cell_type": "code",
   "execution_count": 30,
   "id": "4a86bbb4-f771-44b6-a65e-e3f0592259dc",
   "metadata": {},
   "outputs": [],
   "source": [
    "X <- cbind(X,rnorm(5))"
   ]
  },
  {
   "cell_type": "code",
   "execution_count": 31,
   "id": "6d8f72e9-09b9-43a7-a29d-71f10b66a053",
   "metadata": {},
   "outputs": [
    {
     "data": {
      "text/html": [
       "<table>\n",
       "<thead><tr><th></th><th scope=col>var1</th><th scope=col>var2</th><th scope=col>var3</th><th scope=col>var4</th><th scope=col>rnorm(5)</th></tr></thead>\n",
       "<tbody>\n",
       "\t<tr><th scope=row>5</th><td>2          </td><td>NA         </td><td>11         </td><td>-0.66549949</td><td>-0.03718739</td></tr>\n",
       "\t<tr><th scope=row>4</th><td>4          </td><td>10         </td><td>12         </td><td>-0.02166735</td><td>-0.44051699</td></tr>\n",
       "\t<tr><th scope=row>1</th><td>3          </td><td>NA         </td><td>14         </td><td>-0.17411953</td><td>-1.44826359</td></tr>\n",
       "\t<tr><th scope=row>2</th><td>1          </td><td> 7         </td><td>15         </td><td> 0.23900438</td><td>-0.51824571</td></tr>\n",
       "\t<tr><th scope=row>3</th><td>5          </td><td> 6         </td><td>13         </td><td>-1.83245959</td><td> 0.75852718</td></tr>\n",
       "</tbody>\n",
       "</table>\n"
      ],
      "text/latex": [
       "\\begin{tabular}{r|lllll}\n",
       "  & var1 & var2 & var3 & var4 & rnorm(5)\\\\\n",
       "\\hline\n",
       "\t5 & 2           & NA          & 11          & -0.66549949 & -0.03718739\\\\\n",
       "\t4 & 4           & 10          & 12          & -0.02166735 & -0.44051699\\\\\n",
       "\t1 & 3           & NA          & 14          & -0.17411953 & -1.44826359\\\\\n",
       "\t2 & 1           &  7          & 15          &  0.23900438 & -0.51824571\\\\\n",
       "\t3 & 5           &  6          & 13          & -1.83245959 &  0.75852718\\\\\n",
       "\\end{tabular}\n"
      ],
      "text/markdown": [
       "\n",
       "| <!--/--> | var1 | var2 | var3 | var4 | rnorm(5) |\n",
       "|---|---|---|---|---|---|\n",
       "| 5 | 2           | NA          | 11          | -0.66549949 | -0.03718739 |\n",
       "| 4 | 4           | 10          | 12          | -0.02166735 | -0.44051699 |\n",
       "| 1 | 3           | NA          | 14          | -0.17411953 | -1.44826359 |\n",
       "| 2 | 1           |  7          | 15          |  0.23900438 | -0.51824571 |\n",
       "| 3 | 5           |  6          | 13          | -1.83245959 |  0.75852718 |\n",
       "\n"
      ],
      "text/plain": [
       "  var1 var2 var3 var4        rnorm(5)   \n",
       "5 2    NA   11   -0.66549949 -0.03718739\n",
       "4 4    10   12   -0.02166735 -0.44051699\n",
       "1 3    NA   14   -0.17411953 -1.44826359\n",
       "2 1     7   15    0.23900438 -0.51824571\n",
       "3 5     6   13   -1.83245959  0.75852718"
      ]
     },
     "metadata": {},
     "output_type": "display_data"
    }
   ],
   "source": [
    "X"
   ]
  },
  {
   "cell_type": "code",
   "execution_count": 2,
   "id": "4ac74ab7-0d25-42d1-9870-a546d7ff4f8e",
   "metadata": {},
   "outputs": [
    {
     "data": {
      "text/html": [
       "<table>\n",
       "<thead><tr><th scope=col>OBJECTID</th><th scope=col>Station</th><th scope=col>GPS.Coordinate.North</th><th scope=col>GPS.Coordinate.West</th><th scope=col>Parameter</th><th scope=col>Lab</th><th scope=col>Result</th><th scope=col>Unit</th><th scope=col>datetime</th></tr></thead>\n",
       "<tbody>\n",
       "\t<tr><td> 1                      </td><td>HAMILTON AVE.           </td><td>39.33673                </td><td>-76.53967               </td><td>Copper_Total            </td><td>Martel                  </td><td>10                      </td><td>ug/L                    </td><td>4/3/1995 13:30          </td></tr>\n",
       "\t<tr><td> 2                      </td><td>HAMILTON AVE.           </td><td>39.33673                </td><td>-76.53967               </td><td>Fecal Coliform          </td><td>Martel                  </td><td>2400                    </td><td>MPN/100ml               </td><td>4/3/1995 13:30          </td></tr>\n",
       "\t<tr><td> 3                      </td><td>HAMILTON AVE.           </td><td>39.33673                </td><td>-76.53967               </td><td>Lead_Total              </td><td>Martel                  </td><td>40                      </td><td>ug/L                    </td><td>4/3/1995 13:30          </td></tr>\n",
       "\t<tr><td> 4                                                                  </td><td>HAMILTON AVE.                                                       </td><td>39.33673                                                            </td><td>-76.53967                                                           </td><td><span style=white-space:pre-wrap>Oil &amp; Grease            </span></td><td>Martel                                                              </td><td><span style=white-space:pre-wrap>2.8  </span>                       </td><td><span style=white-space:pre-wrap>mg/L     </span>                   </td><td>4/3/1995 13:30                                                      </td></tr>\n",
       "\t<tr><td> 5                      </td><td>HAMILTON AVE.           </td><td>39.33673                </td><td>-76.53967               </td><td>Zinc_Total              </td><td>Martel                  </td><td>20                      </td><td>ug/L                    </td><td>4/3/1995 13:30          </td></tr>\n",
       "\t<tr><td> 6                      </td><td>RADECKE AVE.            </td><td>39.33036                </td><td>-76.53478               </td><td>Copper_Total            </td><td>Martel                  </td><td>20                      </td><td>ug/L                    </td><td>4/3/1995 15:40          </td></tr>\n",
       "\t<tr><td> 7                      </td><td>RADECKE AVE.            </td><td>39.33036                </td><td>-76.53478               </td><td>Fecal Coliform          </td><td>Martel                  </td><td>43                      </td><td>MPN/100ml               </td><td>4/3/1995 15:40          </td></tr>\n",
       "\t<tr><td> 8                      </td><td>RADECKE AVE.            </td><td>39.33036                </td><td>-76.53478               </td><td>Lead_Total              </td><td>Martel                  </td><td>30                      </td><td>ug/L                    </td><td>4/3/1995 15:40          </td></tr>\n",
       "\t<tr><td> 9                                                                  </td><td>RADECKE AVE.                                                        </td><td>39.33036                                                            </td><td>-76.53478                                                           </td><td><span style=white-space:pre-wrap>Oil &amp; Grease            </span></td><td>Martel                                                              </td><td><span style=white-space:pre-wrap>&lt;2   </span>                    </td><td><span style=white-space:pre-wrap>mg/L     </span>                   </td><td>4/3/1995 15:40                                                      </td></tr>\n",
       "\t<tr><td>10                      </td><td>RADECKE AVE.            </td><td>39.33036                </td><td>-76.53478               </td><td>Zinc_Total              </td><td>Martel                  </td><td>30                      </td><td>ug/L                    </td><td>4/3/1995 15:40          </td></tr>\n",
       "\t<tr><td>11                                                              </td><td>HAMILTON AVE.                                                   </td><td>39.33673                                                        </td><td>-76.53967                                                       </td><td><span style=white-space:pre-wrap>BOD5                    </span></td><td>Martel                                                          </td><td><span style=white-space:pre-wrap>&lt;2   </span>                </td><td><span style=white-space:pre-wrap>mg/L     </span>               </td><td>4/5/1995 11:30                                                  </td></tr>\n",
       "\t<tr><td>12                                                              </td><td>HAMILTON AVE.                                                   </td><td>39.33673                                                        </td><td>-76.53967                                                       </td><td><span style=white-space:pre-wrap>Cadmium_Total           </span></td><td>Martel                                                          </td><td><span style=white-space:pre-wrap>&lt;10  </span>                </td><td><span style=white-space:pre-wrap>ug/L     </span>               </td><td>4/5/1995 11:30                                                  </td></tr>\n",
       "\t<tr><td>13                      </td><td>HAMILTON AVE.           </td><td>39.33673                </td><td>-76.53967               </td><td>Copper_Total            </td><td>Martel                  </td><td>10                      </td><td>ug/L                    </td><td>4/5/1995 11:30          </td></tr>\n",
       "\t<tr><td>14                      </td><td>HAMILTON AVE.           </td><td>39.33673                </td><td>-76.53967               </td><td>Fecal Coliform          </td><td>Martel                  </td><td>1100                    </td><td>MPN/100ml               </td><td>4/5/1995 11:30          </td></tr>\n",
       "\t<tr><td>15                      </td><td>HAMILTON AVE.           </td><td>39.33673                </td><td>-76.53967               </td><td>Lead_Total              </td><td>Martel                  </td><td>90                      </td><td>ug/L                    </td><td>4/5/1995 11:30          </td></tr>\n",
       "\t<tr><td>16                      </td><td>HAMILTON AVE.           </td><td>39.33673                </td><td>-76.53967               </td><td>Nitrate+Nitrite-Nitrogen</td><td>Martel                  </td><td>2.89                    </td><td>mg/L                    </td><td>4/5/1995 11:30          </td></tr>\n",
       "\t<tr><td>17                                                                  </td><td>HAMILTON AVE.                                                       </td><td>39.33673                                                            </td><td>-76.53967                                                           </td><td><span style=white-space:pre-wrap>Oil &amp; Grease            </span></td><td>Martel                                                              </td><td>&lt;2.0                                                             </td><td><span style=white-space:pre-wrap>mg/L     </span>                   </td><td>4/5/1995 11:30                                                      </td></tr>\n",
       "\t<tr><td>18                                                              </td><td>HAMILTON AVE.                                                   </td><td>39.33673                                                        </td><td>-76.53967                                                       </td><td><span style=white-space:pre-wrap>Suspended Solids        </span></td><td>Martel                                                          </td><td><span style=white-space:pre-wrap>&lt;1   </span>                </td><td><span style=white-space:pre-wrap>mg/L     </span>               </td><td>4/5/1995 11:30                                                  </td></tr>\n",
       "\t<tr><td>19                      </td><td>HAMILTON AVE.           </td><td>39.33673                </td><td>-76.53967               </td><td>TKN                     </td><td>Martel                  </td><td>1.3                     </td><td>mg/L                    </td><td>4/5/1995 11:30          </td></tr>\n",
       "\t<tr><td>20                                                              </td><td>HAMILTON AVE.                                                   </td><td>39.33673                                                        </td><td>-76.53967                                                       </td><td><span style=white-space:pre-wrap>Total Phosphorus        </span></td><td>Martel                                                          </td><td>&lt;0.05                                                        </td><td><span style=white-space:pre-wrap>mg/L     </span>               </td><td>4/5/1995 11:30                                                  </td></tr>\n",
       "\t<tr><td>21                      </td><td>HAMILTON AVE.           </td><td>39.33673                </td><td>-76.53967               </td><td>Zinc_Total              </td><td>Martel                  </td><td>30                      </td><td>ug/L                    </td><td>4/5/1995 11:30          </td></tr>\n",
       "\t<tr><td>22                                                              </td><td>RADECKE AVE.                                                    </td><td>39.33036                                                        </td><td>-76.53478                                                       </td><td><span style=white-space:pre-wrap>BOD5                    </span></td><td>Martel                                                          </td><td><span style=white-space:pre-wrap>&lt;2   </span>                </td><td><span style=white-space:pre-wrap>mg/L     </span>               </td><td>4/5/1995 13:30                                                  </td></tr>\n",
       "\t<tr><td>23                                                              </td><td>RADECKE AVE.                                                    </td><td>39.33036                                                        </td><td>-76.53478                                                       </td><td><span style=white-space:pre-wrap>Cadmium_Total           </span></td><td>Martel                                                          </td><td><span style=white-space:pre-wrap>&lt;10  </span>                </td><td><span style=white-space:pre-wrap>ug/L     </span>               </td><td>4/5/1995 13:30                                                  </td></tr>\n",
       "\t<tr><td>24                      </td><td>RADECKE AVE.            </td><td>39.33036                </td><td>-76.53478               </td><td>Copper_Total            </td><td>Martel                  </td><td>10                      </td><td>ug/L                    </td><td>4/5/1995 13:30          </td></tr>\n",
       "\t<tr><td>25                      </td><td>RADECKE AVE.            </td><td>39.33036                </td><td>-76.53478               </td><td>Fecal Coliform          </td><td>Martel                  </td><td>1100                    </td><td>MPN/100ml               </td><td>4/5/1995 13:30          </td></tr>\n",
       "\t<tr><td>26                      </td><td>RADECKE AVE.            </td><td>39.33036                </td><td>-76.53478               </td><td>Lead_Total              </td><td>Martel                  </td><td>90                      </td><td>ug/L                    </td><td>4/5/1995 13:30          </td></tr>\n",
       "\t<tr><td>27                      </td><td>RADECKE AVE.            </td><td>39.33036                </td><td>-76.53478               </td><td>Nitrate+Nitrite-Nitrogen</td><td>Martel                  </td><td>1.21                    </td><td>mg/L                    </td><td>4/5/1995 13:30          </td></tr>\n",
       "\t<tr><td>28                                                                  </td><td>RADECKE AVE.                                                        </td><td>39.33036                                                            </td><td>-76.53478                                                           </td><td><span style=white-space:pre-wrap>Oil &amp; Grease            </span></td><td>Martel                                                              </td><td>&lt;2.0                                                             </td><td><span style=white-space:pre-wrap>mg/L     </span>                   </td><td>4/5/1995 13:30                                                      </td></tr>\n",
       "\t<tr><td>29                                                              </td><td>RADECKE AVE.                                                    </td><td>39.33036                                                        </td><td>-76.53478                                                       </td><td><span style=white-space:pre-wrap>Suspended Solids        </span></td><td>Martel                                                          </td><td><span style=white-space:pre-wrap>&lt;1   </span>                </td><td><span style=white-space:pre-wrap>mg/L     </span>               </td><td>4/5/1995 13:30                                                  </td></tr>\n",
       "\t<tr><td>30                      </td><td>RADECKE AVE.            </td><td>39.33036                </td><td>-76.53478               </td><td>TKN                     </td><td>Martel                  </td><td>0.6                     </td><td>mg/L                    </td><td>4/5/1995 13:30          </td></tr>\n",
       "\t<tr><td>...</td><td>...</td><td>...</td><td>...</td><td>...</td><td>...</td><td>...</td><td>...</td><td>...</td></tr>\n",
       "\t<tr><td>449784                 </td><td>FOREST PARK OUTFALL 84\"</td><td>39.31865               </td><td>-76.70419              </td><td>Chlorine_Spec          </td><td>WQM Field              </td><td>0.02                   </td><td>mg/L                   </td><td>12/29/2023 11:25       </td></tr>\n",
       "\t<tr><td>449785                 </td><td>FOREST PARK OUTFALL 84\"</td><td>39.31865               </td><td>-76.70419              </td><td>Conductivity           </td><td>WQM Field              </td><td>608                    </td><td>umhos                  </td><td>12/29/2023 11:25       </td></tr>\n",
       "\t<tr><td>449786                 </td><td>FOREST PARK OUTFALL 84\"</td><td>39.31865               </td><td>-76.70419              </td><td>Dissolved Oxygen       </td><td>WQM Field              </td><td>10.64                  </td><td>mg/L                   </td><td>12/29/2023 11:25       </td></tr>\n",
       "\t<tr><td>449787                 </td><td>FOREST PARK OUTFALL 84\"</td><td>39.31865               </td><td>-76.70419              </td><td>Hach Ammonia-Nitrogen  </td><td>WQM Field              </td><td>0                      </td><td>mg/L                   </td><td>12/29/2023 11:25       </td></tr>\n",
       "\t<tr><td>449788                 </td><td>FOREST PARK OUTFALL 84\"</td><td>39.31865               </td><td>-76.70419              </td><td>pH                     </td><td>WQM Field              </td><td>7.98                   </td><td>pH units               </td><td>12/29/2023 11:25       </td></tr>\n",
       "\t<tr><td>449789                 </td><td>FOREST PARK OUTFALL 84\"</td><td>39.31865               </td><td>-76.70419              </td><td>Water Temperature      </td><td>WQM Field              </td><td>11.8                   </td><td>degrees Celsius        </td><td>12/29/2023 11:25       </td></tr>\n",
       "\t<tr><td>449790                                                             </td><td><span style=white-space:pre-wrap>CLIFTON &amp; FAIRFAX      </span></td><td>39.31756                                                           </td><td>-76.69252                                                          </td><td><span style=white-space:pre-wrap>Chlorine_Spec        </span>      </td><td>WQM Field                                                          </td><td>0.07                                                               </td><td><span style=white-space:pre-wrap>mg/L           </span>            </td><td>12/29/2023 11:44                                                   </td></tr>\n",
       "\t<tr><td>449791                                                             </td><td><span style=white-space:pre-wrap>CLIFTON &amp; FAIRFAX      </span></td><td>39.31756                                                           </td><td>-76.69252                                                          </td><td><span style=white-space:pre-wrap>Conductivity         </span>      </td><td>WQM Field                                                          </td><td><span style=white-space:pre-wrap>576  </span>                      </td><td><span style=white-space:pre-wrap>umhos          </span>            </td><td>12/29/2023 11:44                                                   </td></tr>\n",
       "\t<tr><td>449792                                                             </td><td><span style=white-space:pre-wrap>CLIFTON &amp; FAIRFAX      </span></td><td>39.31756                                                           </td><td>-76.69252                                                          </td><td><span style=white-space:pre-wrap>Dissolved Oxygen     </span>      </td><td>WQM Field                                                          </td><td>10.72                                                              </td><td><span style=white-space:pre-wrap>mg/L           </span>            </td><td>12/29/2023 11:44                                                   </td></tr>\n",
       "\t<tr><td>449793                                                             </td><td><span style=white-space:pre-wrap>CLIFTON &amp; FAIRFAX      </span></td><td>39.31756                                                           </td><td>-76.69252                                                          </td><td>Hach Ammonia-Nitrogen                                              </td><td>WQM Field                                                          </td><td>0.13                                                               </td><td><span style=white-space:pre-wrap>mg/L           </span>            </td><td>12/29/2023 11:44                                                   </td></tr>\n",
       "\t<tr><td>449794                                                             </td><td><span style=white-space:pre-wrap>CLIFTON &amp; FAIRFAX      </span></td><td>39.31756                                                           </td><td>-76.69252                                                          </td><td><span style=white-space:pre-wrap>pH                   </span>      </td><td>WQM Field                                                          </td><td>8.08                                                               </td><td><span style=white-space:pre-wrap>pH units       </span>            </td><td>12/29/2023 11:44                                                   </td></tr>\n",
       "\t<tr><td>449795                                                             </td><td><span style=white-space:pre-wrap>CLIFTON &amp; FAIRFAX      </span></td><td>39.31756                                                           </td><td>-76.69252                                                          </td><td><span style=white-space:pre-wrap>Water Temperature    </span>      </td><td>WQM Field                                                          </td><td>11.9                                                               </td><td>degrees Celsius                                                    </td><td>12/29/2023 11:44                                                   </td></tr>\n",
       "\t<tr><td>449796                 </td><td>BRIARCLIFF OUTFALLS    </td><td>39.29819               </td><td>-76.70154              </td><td>Chlorine_Spec          </td><td>WQM Field              </td><td>0.1                    </td><td>mg/L                   </td><td>12/29/2023 12:07       </td></tr>\n",
       "\t<tr><td>449797                 </td><td>BRIARCLIFF OUTFALLS    </td><td>39.29819               </td><td>-76.70154              </td><td>Conductivity           </td><td>WQM Field              </td><td>567                    </td><td>umhos                  </td><td>12/29/2023 12:07       </td></tr>\n",
       "\t<tr><td>449798                 </td><td>BRIARCLIFF OUTFALLS    </td><td>39.29819               </td><td>-76.70154              </td><td>Dissolved Oxygen       </td><td>WQM Field              </td><td>10.7                   </td><td>mg/L                   </td><td>12/29/2023 12:07       </td></tr>\n",
       "\t<tr><td>449799                 </td><td>BRIARCLIFF OUTFALLS    </td><td>39.29819               </td><td>-76.70154              </td><td>Hach Ammonia-Nitrogen  </td><td>WQM Field              </td><td>0.14                   </td><td>mg/L                   </td><td>12/29/2023 12:07       </td></tr>\n",
       "\t<tr><td>449800                 </td><td>BRIARCLIFF OUTFALLS    </td><td>39.29819               </td><td>-76.70154              </td><td>pH                     </td><td>WQM Field              </td><td>8                      </td><td>pH units               </td><td>12/29/2023 12:07       </td></tr>\n",
       "\t<tr><td>449801                 </td><td>BRIARCLIFF OUTFALLS    </td><td>39.29819               </td><td>-76.70154              </td><td>Water Temperature      </td><td>WQM Field              </td><td>11.4                   </td><td>degrees Celsius        </td><td>12/29/2023 12:07       </td></tr>\n",
       "\t<tr><td>449802                 </td><td>LAZEAR RD. STREAM      </td><td>39.30460               </td><td>-76.68820              </td><td>Chlorine_Spec          </td><td>WQM Field              </td><td>0.02                   </td><td>mg/L                   </td><td>12/29/2023 13:48       </td></tr>\n",
       "\t<tr><td>449803                 </td><td>LAZEAR RD. STREAM      </td><td>39.30460               </td><td>-76.68820              </td><td>Conductivity           </td><td>WQM Field              </td><td>471                    </td><td>umhos                  </td><td>12/29/2023 13:48       </td></tr>\n",
       "\t<tr><td>449804                 </td><td>LAZEAR RD. STREAM      </td><td>39.30460               </td><td>-76.68820              </td><td>Dissolved Oxygen       </td><td>WQM Field              </td><td>10.72                  </td><td>mg/L                   </td><td>12/29/2023 13:48       </td></tr>\n",
       "\t<tr><td>449805                 </td><td>LAZEAR RD. STREAM      </td><td>39.30460               </td><td>-76.68820              </td><td>Hach Ammonia-Nitrogen  </td><td>WQM Field              </td><td>0                      </td><td>mg/L                   </td><td>12/29/2023 13:48       </td></tr>\n",
       "\t<tr><td>449806                 </td><td>LAZEAR RD. STREAM      </td><td>39.30460               </td><td>-76.68820              </td><td>pH                     </td><td>WQM Field              </td><td>7.52                   </td><td>pH units               </td><td>12/29/2023 13:48       </td></tr>\n",
       "\t<tr><td>449807                 </td><td>LAZEAR RD. STREAM      </td><td>39.30460               </td><td>-76.68820              </td><td>Water Temperature      </td><td>WQM Field              </td><td>10.6                   </td><td>degrees Celsius        </td><td>12/29/2023 13:48       </td></tr>\n",
       "\t<tr><td>449808                 </td><td>DEAD RUN DNST.         </td><td>39.30509               </td><td>-76.68639              </td><td>Chlorine_Spec          </td><td>WQM Field              </td><td>0.01                   </td><td>mg/L                   </td><td>12/29/2023 14:00       </td></tr>\n",
       "\t<tr><td>449809                 </td><td>DEAD RUN DNST.         </td><td>39.30509               </td><td>-76.68639              </td><td>Conductivity           </td><td>WQM Field              </td><td>589                    </td><td>umhos                  </td><td>12/29/2023 14:00       </td></tr>\n",
       "\t<tr><td>449810                 </td><td>DEAD RUN DNST.         </td><td>39.30509               </td><td>-76.68639              </td><td>Dissolved Oxygen       </td><td>WQM Field              </td><td>11.47                  </td><td>mg/L                   </td><td>12/29/2023 14:00       </td></tr>\n",
       "\t<tr><td>449811                 </td><td>DEAD RUN DNST.         </td><td>39.30509               </td><td>-76.68639              </td><td>Hach Ammonia-Nitrogen  </td><td>WQM Field              </td><td>0                      </td><td>mg/L                   </td><td>12/29/2023 14:00       </td></tr>\n",
       "\t<tr><td>449812                 </td><td>DEAD RUN DNST.         </td><td>39.30509               </td><td>-76.68639              </td><td>pH                     </td><td>WQM Field              </td><td>8.17                   </td><td>pH units               </td><td>12/29/2023 14:00       </td></tr>\n",
       "\t<tr><td>449813                 </td><td>DEAD RUN DNST.         </td><td>39.30509               </td><td>-76.68639              </td><td>Water Temperature      </td><td>WQM Field              </td><td>9.7                    </td><td>degrees Celsius        </td><td>12/29/2023 14:00       </td></tr>\n",
       "</tbody>\n",
       "</table>\n"
      ],
      "text/latex": [
       "\\begin{tabular}{r|lllllllll}\n",
       " OBJECTID & Station & GPS.Coordinate.North & GPS.Coordinate.West & Parameter & Lab & Result & Unit & datetime\\\\\n",
       "\\hline\n",
       "\t  1                         & HAMILTON AVE.              & 39.33673                   & -76.53967                  & Copper\\_Total             & Martel                     & 10                         & ug/L                       & 4/3/1995 13:30            \\\\\n",
       "\t  2                       & HAMILTON AVE.            & 39.33673                 & -76.53967                & Fecal Coliform           & Martel                   & 2400                     & MPN/100ml                & 4/3/1995 13:30          \\\\\n",
       "\t  3                         & HAMILTON AVE.              & 39.33673                   & -76.53967                  & Lead\\_Total               & Martel                     & 40                         & ug/L                       & 4/3/1995 13:30            \\\\\n",
       "\t  4                         & HAMILTON AVE.              & 39.33673                   & -76.53967                  & Oil \\& Grease             & Martel                     & 2.8                        & mg/L                       & 4/3/1995 13:30            \\\\\n",
       "\t  5                         & HAMILTON AVE.              & 39.33673                   & -76.53967                  & Zinc\\_Total               & Martel                     & 20                         & ug/L                       & 4/3/1995 13:30            \\\\\n",
       "\t  6                         & RADECKE AVE.               & 39.33036                   & -76.53478                  & Copper\\_Total             & Martel                     & 20                         & ug/L                       & 4/3/1995 15:40            \\\\\n",
       "\t  7                       & RADECKE AVE.             & 39.33036                 & -76.53478                & Fecal Coliform           & Martel                   & 43                       & MPN/100ml                & 4/3/1995 15:40          \\\\\n",
       "\t  8                         & RADECKE AVE.               & 39.33036                   & -76.53478                  & Lead\\_Total               & Martel                     & 30                         & ug/L                       & 4/3/1995 15:40            \\\\\n",
       "\t  9                         & RADECKE AVE.               & 39.33036                   & -76.53478                  & Oil \\& Grease             & Martel                     & <2                         & mg/L                       & 4/3/1995 15:40            \\\\\n",
       "\t 10                         & RADECKE AVE.               & 39.33036                   & -76.53478                  & Zinc\\_Total               & Martel                     & 30                         & ug/L                       & 4/3/1995 15:40            \\\\\n",
       "\t 11                       & HAMILTON AVE.            & 39.33673                 & -76.53967                & BOD5                     & Martel                   & <2                       & mg/L                     & 4/5/1995 11:30          \\\\\n",
       "\t 12                         & HAMILTON AVE.              & 39.33673                   & -76.53967                  & Cadmium\\_Total            & Martel                     & <10                        & ug/L                       & 4/5/1995 11:30            \\\\\n",
       "\t 13                         & HAMILTON AVE.              & 39.33673                   & -76.53967                  & Copper\\_Total             & Martel                     & 10                         & ug/L                       & 4/5/1995 11:30            \\\\\n",
       "\t 14                       & HAMILTON AVE.            & 39.33673                 & -76.53967                & Fecal Coliform           & Martel                   & 1100                     & MPN/100ml                & 4/5/1995 11:30          \\\\\n",
       "\t 15                         & HAMILTON AVE.              & 39.33673                   & -76.53967                  & Lead\\_Total               & Martel                     & 90                         & ug/L                       & 4/5/1995 11:30            \\\\\n",
       "\t 16                       & HAMILTON AVE.            & 39.33673                 & -76.53967                & Nitrate+Nitrite-Nitrogen & Martel                   & 2.89                     & mg/L                     & 4/5/1995 11:30          \\\\\n",
       "\t 17                         & HAMILTON AVE.              & 39.33673                   & -76.53967                  & Oil \\& Grease             & Martel                     & <2.0                       & mg/L                       & 4/5/1995 11:30            \\\\\n",
       "\t 18                       & HAMILTON AVE.            & 39.33673                 & -76.53967                & Suspended Solids         & Martel                   & <1                       & mg/L                     & 4/5/1995 11:30          \\\\\n",
       "\t 19                       & HAMILTON AVE.            & 39.33673                 & -76.53967                & TKN                      & Martel                   & 1.3                      & mg/L                     & 4/5/1995 11:30          \\\\\n",
       "\t 20                       & HAMILTON AVE.            & 39.33673                 & -76.53967                & Total Phosphorus         & Martel                   & <0.05                    & mg/L                     & 4/5/1995 11:30          \\\\\n",
       "\t 21                         & HAMILTON AVE.              & 39.33673                   & -76.53967                  & Zinc\\_Total               & Martel                     & 30                         & ug/L                       & 4/5/1995 11:30            \\\\\n",
       "\t 22                       & RADECKE AVE.             & 39.33036                 & -76.53478                & BOD5                     & Martel                   & <2                       & mg/L                     & 4/5/1995 13:30          \\\\\n",
       "\t 23                         & RADECKE AVE.               & 39.33036                   & -76.53478                  & Cadmium\\_Total            & Martel                     & <10                        & ug/L                       & 4/5/1995 13:30            \\\\\n",
       "\t 24                         & RADECKE AVE.               & 39.33036                   & -76.53478                  & Copper\\_Total             & Martel                     & 10                         & ug/L                       & 4/5/1995 13:30            \\\\\n",
       "\t 25                       & RADECKE AVE.             & 39.33036                 & -76.53478                & Fecal Coliform           & Martel                   & 1100                     & MPN/100ml                & 4/5/1995 13:30          \\\\\n",
       "\t 26                         & RADECKE AVE.               & 39.33036                   & -76.53478                  & Lead\\_Total               & Martel                     & 90                         & ug/L                       & 4/5/1995 13:30            \\\\\n",
       "\t 27                       & RADECKE AVE.             & 39.33036                 & -76.53478                & Nitrate+Nitrite-Nitrogen & Martel                   & 1.21                     & mg/L                     & 4/5/1995 13:30          \\\\\n",
       "\t 28                         & RADECKE AVE.               & 39.33036                   & -76.53478                  & Oil \\& Grease             & Martel                     & <2.0                       & mg/L                       & 4/5/1995 13:30            \\\\\n",
       "\t 29                       & RADECKE AVE.             & 39.33036                 & -76.53478                & Suspended Solids         & Martel                   & <1                       & mg/L                     & 4/5/1995 13:30          \\\\\n",
       "\t 30                       & RADECKE AVE.             & 39.33036                 & -76.53478                & TKN                      & Martel                   & 0.6                      & mg/L                     & 4/5/1995 13:30          \\\\\n",
       "\t ... & ... & ... & ... & ... & ... & ... & ... & ...\\\\\n",
       "\t 449784                  & FOREST PARK OUTFALL 84\" & 39.31865                & -76.70419               & Chlorine\\_Spec         & WQM Field               & 0.02                    & mg/L                    & 12/29/2023 11:25       \\\\\n",
       "\t 449785                  & FOREST PARK OUTFALL 84\" & 39.31865                & -76.70419               & Conductivity            & WQM Field               & 608                     & umhos                   & 12/29/2023 11:25       \\\\\n",
       "\t 449786                  & FOREST PARK OUTFALL 84\" & 39.31865                & -76.70419               & Dissolved Oxygen        & WQM Field               & 10.64                   & mg/L                    & 12/29/2023 11:25       \\\\\n",
       "\t 449787                  & FOREST PARK OUTFALL 84\" & 39.31865                & -76.70419               & Hach Ammonia-Nitrogen   & WQM Field               & 0                       & mg/L                    & 12/29/2023 11:25       \\\\\n",
       "\t 449788                  & FOREST PARK OUTFALL 84\" & 39.31865                & -76.70419               & pH                      & WQM Field               & 7.98                    & pH units                & 12/29/2023 11:25       \\\\\n",
       "\t 449789                  & FOREST PARK OUTFALL 84\" & 39.31865                & -76.70419               & Water Temperature       & WQM Field               & 11.8                    & degrees Celsius         & 12/29/2023 11:25       \\\\\n",
       "\t 449790                    & CLIFTON \\& FAIRFAX       & 39.31756                  & -76.69252                 & Chlorine\\_Spec           & WQM Field                 & 0.07                      & mg/L                      & 12/29/2023 11:44         \\\\\n",
       "\t 449791                    & CLIFTON \\& FAIRFAX       & 39.31756                  & -76.69252                 & Conductivity              & WQM Field                 & 576                       & umhos                     & 12/29/2023 11:44         \\\\\n",
       "\t 449792                    & CLIFTON \\& FAIRFAX       & 39.31756                  & -76.69252                 & Dissolved Oxygen          & WQM Field                 & 10.72                     & mg/L                      & 12/29/2023 11:44         \\\\\n",
       "\t 449793                    & CLIFTON \\& FAIRFAX       & 39.31756                  & -76.69252                 & Hach Ammonia-Nitrogen     & WQM Field                 & 0.13                      & mg/L                      & 12/29/2023 11:44         \\\\\n",
       "\t 449794                    & CLIFTON \\& FAIRFAX       & 39.31756                  & -76.69252                 & pH                        & WQM Field                 & 8.08                      & pH units                  & 12/29/2023 11:44         \\\\\n",
       "\t 449795                    & CLIFTON \\& FAIRFAX       & 39.31756                  & -76.69252                 & Water Temperature         & WQM Field                 & 11.9                      & degrees Celsius           & 12/29/2023 11:44         \\\\\n",
       "\t 449796                  & BRIARCLIFF OUTFALLS     & 39.29819                & -76.70154               & Chlorine\\_Spec         & WQM Field               & 0.1                     & mg/L                    & 12/29/2023 12:07       \\\\\n",
       "\t 449797                  & BRIARCLIFF OUTFALLS     & 39.29819                & -76.70154               & Conductivity            & WQM Field               & 567                     & umhos                   & 12/29/2023 12:07       \\\\\n",
       "\t 449798                  & BRIARCLIFF OUTFALLS     & 39.29819                & -76.70154               & Dissolved Oxygen        & WQM Field               & 10.7                    & mg/L                    & 12/29/2023 12:07       \\\\\n",
       "\t 449799                  & BRIARCLIFF OUTFALLS     & 39.29819                & -76.70154               & Hach Ammonia-Nitrogen   & WQM Field               & 0.14                    & mg/L                    & 12/29/2023 12:07       \\\\\n",
       "\t 449800                  & BRIARCLIFF OUTFALLS     & 39.29819                & -76.70154               & pH                      & WQM Field               & 8                       & pH units                & 12/29/2023 12:07       \\\\\n",
       "\t 449801                  & BRIARCLIFF OUTFALLS     & 39.29819                & -76.70154               & Water Temperature       & WQM Field               & 11.4                    & degrees Celsius         & 12/29/2023 12:07       \\\\\n",
       "\t 449802                  & LAZEAR RD. STREAM       & 39.30460                & -76.68820               & Chlorine\\_Spec         & WQM Field               & 0.02                    & mg/L                    & 12/29/2023 13:48       \\\\\n",
       "\t 449803                  & LAZEAR RD. STREAM       & 39.30460                & -76.68820               & Conductivity            & WQM Field               & 471                     & umhos                   & 12/29/2023 13:48       \\\\\n",
       "\t 449804                  & LAZEAR RD. STREAM       & 39.30460                & -76.68820               & Dissolved Oxygen        & WQM Field               & 10.72                   & mg/L                    & 12/29/2023 13:48       \\\\\n",
       "\t 449805                  & LAZEAR RD. STREAM       & 39.30460                & -76.68820               & Hach Ammonia-Nitrogen   & WQM Field               & 0                       & mg/L                    & 12/29/2023 13:48       \\\\\n",
       "\t 449806                  & LAZEAR RD. STREAM       & 39.30460                & -76.68820               & pH                      & WQM Field               & 7.52                    & pH units                & 12/29/2023 13:48       \\\\\n",
       "\t 449807                  & LAZEAR RD. STREAM       & 39.30460                & -76.68820               & Water Temperature       & WQM Field               & 10.6                    & degrees Celsius         & 12/29/2023 13:48       \\\\\n",
       "\t 449808                  & DEAD RUN DNST.          & 39.30509                & -76.68639               & Chlorine\\_Spec         & WQM Field               & 0.01                    & mg/L                    & 12/29/2023 14:00       \\\\\n",
       "\t 449809                  & DEAD RUN DNST.          & 39.30509                & -76.68639               & Conductivity            & WQM Field               & 589                     & umhos                   & 12/29/2023 14:00       \\\\\n",
       "\t 449810                  & DEAD RUN DNST.          & 39.30509                & -76.68639               & Dissolved Oxygen        & WQM Field               & 11.47                   & mg/L                    & 12/29/2023 14:00       \\\\\n",
       "\t 449811                  & DEAD RUN DNST.          & 39.30509                & -76.68639               & Hach Ammonia-Nitrogen   & WQM Field               & 0                       & mg/L                    & 12/29/2023 14:00       \\\\\n",
       "\t 449812                  & DEAD RUN DNST.          & 39.30509                & -76.68639               & pH                      & WQM Field               & 8.17                    & pH units                & 12/29/2023 14:00       \\\\\n",
       "\t 449813                  & DEAD RUN DNST.          & 39.30509                & -76.68639               & Water Temperature       & WQM Field               & 9.7                     & degrees Celsius         & 12/29/2023 14:00       \\\\\n",
       "\\end{tabular}\n"
      ],
      "text/markdown": [
       "\n",
       "| OBJECTID | Station | GPS.Coordinate.North | GPS.Coordinate.West | Parameter | Lab | Result | Unit | datetime |\n",
       "|---|---|---|---|---|---|---|---|---|\n",
       "|  1                       | HAMILTON AVE.            | 39.33673                 | -76.53967                | Copper_Total             | Martel                   | 10                       | ug/L                     | 4/3/1995 13:30           |\n",
       "|  2                       | HAMILTON AVE.            | 39.33673                 | -76.53967                | Fecal Coliform           | Martel                   | 2400                     | MPN/100ml                | 4/3/1995 13:30           |\n",
       "|  3                       | HAMILTON AVE.            | 39.33673                 | -76.53967                | Lead_Total               | Martel                   | 40                       | ug/L                     | 4/3/1995 13:30           |\n",
       "|  4                       | HAMILTON AVE.            | 39.33673                 | -76.53967                | Oil & Grease             | Martel                   | 2.8                      | mg/L                     | 4/3/1995 13:30           |\n",
       "|  5                       | HAMILTON AVE.            | 39.33673                 | -76.53967                | Zinc_Total               | Martel                   | 20                       | ug/L                     | 4/3/1995 13:30           |\n",
       "|  6                       | RADECKE AVE.             | 39.33036                 | -76.53478                | Copper_Total             | Martel                   | 20                       | ug/L                     | 4/3/1995 15:40           |\n",
       "|  7                       | RADECKE AVE.             | 39.33036                 | -76.53478                | Fecal Coliform           | Martel                   | 43                       | MPN/100ml                | 4/3/1995 15:40           |\n",
       "|  8                       | RADECKE AVE.             | 39.33036                 | -76.53478                | Lead_Total               | Martel                   | 30                       | ug/L                     | 4/3/1995 15:40           |\n",
       "|  9                       | RADECKE AVE.             | 39.33036                 | -76.53478                | Oil & Grease             | Martel                   | <2                       | mg/L                     | 4/3/1995 15:40           |\n",
       "| 10                       | RADECKE AVE.             | 39.33036                 | -76.53478                | Zinc_Total               | Martel                   | 30                       | ug/L                     | 4/3/1995 15:40           |\n",
       "| 11                       | HAMILTON AVE.            | 39.33673                 | -76.53967                | BOD5                     | Martel                   | <2                       | mg/L                     | 4/5/1995 11:30           |\n",
       "| 12                       | HAMILTON AVE.            | 39.33673                 | -76.53967                | Cadmium_Total            | Martel                   | <10                      | ug/L                     | 4/5/1995 11:30           |\n",
       "| 13                       | HAMILTON AVE.            | 39.33673                 | -76.53967                | Copper_Total             | Martel                   | 10                       | ug/L                     | 4/5/1995 11:30           |\n",
       "| 14                       | HAMILTON AVE.            | 39.33673                 | -76.53967                | Fecal Coliform           | Martel                   | 1100                     | MPN/100ml                | 4/5/1995 11:30           |\n",
       "| 15                       | HAMILTON AVE.            | 39.33673                 | -76.53967                | Lead_Total               | Martel                   | 90                       | ug/L                     | 4/5/1995 11:30           |\n",
       "| 16                       | HAMILTON AVE.            | 39.33673                 | -76.53967                | Nitrate+Nitrite-Nitrogen | Martel                   | 2.89                     | mg/L                     | 4/5/1995 11:30           |\n",
       "| 17                       | HAMILTON AVE.            | 39.33673                 | -76.53967                | Oil & Grease             | Martel                   | <2.0                     | mg/L                     | 4/5/1995 11:30           |\n",
       "| 18                       | HAMILTON AVE.            | 39.33673                 | -76.53967                | Suspended Solids         | Martel                   | <1                       | mg/L                     | 4/5/1995 11:30           |\n",
       "| 19                       | HAMILTON AVE.            | 39.33673                 | -76.53967                | TKN                      | Martel                   | 1.3                      | mg/L                     | 4/5/1995 11:30           |\n",
       "| 20                       | HAMILTON AVE.            | 39.33673                 | -76.53967                | Total Phosphorus         | Martel                   | <0.05                    | mg/L                     | 4/5/1995 11:30           |\n",
       "| 21                       | HAMILTON AVE.            | 39.33673                 | -76.53967                | Zinc_Total               | Martel                   | 30                       | ug/L                     | 4/5/1995 11:30           |\n",
       "| 22                       | RADECKE AVE.             | 39.33036                 | -76.53478                | BOD5                     | Martel                   | <2                       | mg/L                     | 4/5/1995 13:30           |\n",
       "| 23                       | RADECKE AVE.             | 39.33036                 | -76.53478                | Cadmium_Total            | Martel                   | <10                      | ug/L                     | 4/5/1995 13:30           |\n",
       "| 24                       | RADECKE AVE.             | 39.33036                 | -76.53478                | Copper_Total             | Martel                   | 10                       | ug/L                     | 4/5/1995 13:30           |\n",
       "| 25                       | RADECKE AVE.             | 39.33036                 | -76.53478                | Fecal Coliform           | Martel                   | 1100                     | MPN/100ml                | 4/5/1995 13:30           |\n",
       "| 26                       | RADECKE AVE.             | 39.33036                 | -76.53478                | Lead_Total               | Martel                   | 90                       | ug/L                     | 4/5/1995 13:30           |\n",
       "| 27                       | RADECKE AVE.             | 39.33036                 | -76.53478                | Nitrate+Nitrite-Nitrogen | Martel                   | 1.21                     | mg/L                     | 4/5/1995 13:30           |\n",
       "| 28                       | RADECKE AVE.             | 39.33036                 | -76.53478                | Oil & Grease             | Martel                   | <2.0                     | mg/L                     | 4/5/1995 13:30           |\n",
       "| 29                       | RADECKE AVE.             | 39.33036                 | -76.53478                | Suspended Solids         | Martel                   | <1                       | mg/L                     | 4/5/1995 13:30           |\n",
       "| 30                       | RADECKE AVE.             | 39.33036                 | -76.53478                | TKN                      | Martel                   | 0.6                      | mg/L                     | 4/5/1995 13:30           |\n",
       "| ... | ... | ... | ... | ... | ... | ... | ... | ... |\n",
       "| 449784                  | FOREST PARK OUTFALL 84\" | 39.31865                | -76.70419               | Chlorine_Spec           | WQM Field               | 0.02                    | mg/L                    | 12/29/2023 11:25        |\n",
       "| 449785                  | FOREST PARK OUTFALL 84\" | 39.31865                | -76.70419               | Conductivity            | WQM Field               | 608                     | umhos                   | 12/29/2023 11:25        |\n",
       "| 449786                  | FOREST PARK OUTFALL 84\" | 39.31865                | -76.70419               | Dissolved Oxygen        | WQM Field               | 10.64                   | mg/L                    | 12/29/2023 11:25        |\n",
       "| 449787                  | FOREST PARK OUTFALL 84\" | 39.31865                | -76.70419               | Hach Ammonia-Nitrogen   | WQM Field               | 0                       | mg/L                    | 12/29/2023 11:25        |\n",
       "| 449788                  | FOREST PARK OUTFALL 84\" | 39.31865                | -76.70419               | pH                      | WQM Field               | 7.98                    | pH units                | 12/29/2023 11:25        |\n",
       "| 449789                  | FOREST PARK OUTFALL 84\" | 39.31865                | -76.70419               | Water Temperature       | WQM Field               | 11.8                    | degrees Celsius         | 12/29/2023 11:25        |\n",
       "| 449790                  | CLIFTON & FAIRFAX       | 39.31756                | -76.69252               | Chlorine_Spec           | WQM Field               | 0.07                    | mg/L                    | 12/29/2023 11:44        |\n",
       "| 449791                  | CLIFTON & FAIRFAX       | 39.31756                | -76.69252               | Conductivity            | WQM Field               | 576                     | umhos                   | 12/29/2023 11:44        |\n",
       "| 449792                  | CLIFTON & FAIRFAX       | 39.31756                | -76.69252               | Dissolved Oxygen        | WQM Field               | 10.72                   | mg/L                    | 12/29/2023 11:44        |\n",
       "| 449793                  | CLIFTON & FAIRFAX       | 39.31756                | -76.69252               | Hach Ammonia-Nitrogen   | WQM Field               | 0.13                    | mg/L                    | 12/29/2023 11:44        |\n",
       "| 449794                  | CLIFTON & FAIRFAX       | 39.31756                | -76.69252               | pH                      | WQM Field               | 8.08                    | pH units                | 12/29/2023 11:44        |\n",
       "| 449795                  | CLIFTON & FAIRFAX       | 39.31756                | -76.69252               | Water Temperature       | WQM Field               | 11.9                    | degrees Celsius         | 12/29/2023 11:44        |\n",
       "| 449796                  | BRIARCLIFF OUTFALLS     | 39.29819                | -76.70154               | Chlorine_Spec           | WQM Field               | 0.1                     | mg/L                    | 12/29/2023 12:07        |\n",
       "| 449797                  | BRIARCLIFF OUTFALLS     | 39.29819                | -76.70154               | Conductivity            | WQM Field               | 567                     | umhos                   | 12/29/2023 12:07        |\n",
       "| 449798                  | BRIARCLIFF OUTFALLS     | 39.29819                | -76.70154               | Dissolved Oxygen        | WQM Field               | 10.7                    | mg/L                    | 12/29/2023 12:07        |\n",
       "| 449799                  | BRIARCLIFF OUTFALLS     | 39.29819                | -76.70154               | Hach Ammonia-Nitrogen   | WQM Field               | 0.14                    | mg/L                    | 12/29/2023 12:07        |\n",
       "| 449800                  | BRIARCLIFF OUTFALLS     | 39.29819                | -76.70154               | pH                      | WQM Field               | 8                       | pH units                | 12/29/2023 12:07        |\n",
       "| 449801                  | BRIARCLIFF OUTFALLS     | 39.29819                | -76.70154               | Water Temperature       | WQM Field               | 11.4                    | degrees Celsius         | 12/29/2023 12:07        |\n",
       "| 449802                  | LAZEAR RD. STREAM       | 39.30460                | -76.68820               | Chlorine_Spec           | WQM Field               | 0.02                    | mg/L                    | 12/29/2023 13:48        |\n",
       "| 449803                  | LAZEAR RD. STREAM       | 39.30460                | -76.68820               | Conductivity            | WQM Field               | 471                     | umhos                   | 12/29/2023 13:48        |\n",
       "| 449804                  | LAZEAR RD. STREAM       | 39.30460                | -76.68820               | Dissolved Oxygen        | WQM Field               | 10.72                   | mg/L                    | 12/29/2023 13:48        |\n",
       "| 449805                  | LAZEAR RD. STREAM       | 39.30460                | -76.68820               | Hach Ammonia-Nitrogen   | WQM Field               | 0                       | mg/L                    | 12/29/2023 13:48        |\n",
       "| 449806                  | LAZEAR RD. STREAM       | 39.30460                | -76.68820               | pH                      | WQM Field               | 7.52                    | pH units                | 12/29/2023 13:48        |\n",
       "| 449807                  | LAZEAR RD. STREAM       | 39.30460                | -76.68820               | Water Temperature       | WQM Field               | 10.6                    | degrees Celsius         | 12/29/2023 13:48        |\n",
       "| 449808                  | DEAD RUN DNST.          | 39.30509                | -76.68639               | Chlorine_Spec           | WQM Field               | 0.01                    | mg/L                    | 12/29/2023 14:00        |\n",
       "| 449809                  | DEAD RUN DNST.          | 39.30509                | -76.68639               | Conductivity            | WQM Field               | 589                     | umhos                   | 12/29/2023 14:00        |\n",
       "| 449810                  | DEAD RUN DNST.          | 39.30509                | -76.68639               | Dissolved Oxygen        | WQM Field               | 11.47                   | mg/L                    | 12/29/2023 14:00        |\n",
       "| 449811                  | DEAD RUN DNST.          | 39.30509                | -76.68639               | Hach Ammonia-Nitrogen   | WQM Field               | 0                       | mg/L                    | 12/29/2023 14:00        |\n",
       "| 449812                  | DEAD RUN DNST.          | 39.30509                | -76.68639               | pH                      | WQM Field               | 8.17                    | pH units                | 12/29/2023 14:00        |\n",
       "| 449813                  | DEAD RUN DNST.          | 39.30509                | -76.68639               | Water Temperature       | WQM Field               | 9.7                     | degrees Celsius         | 12/29/2023 14:00        |\n",
       "\n"
      ],
      "text/plain": [
       "       OBJECTID Station                 GPS.Coordinate.North\n",
       "1       1       HAMILTON AVE.           39.33673            \n",
       "2       2       HAMILTON AVE.           39.33673            \n",
       "3       3       HAMILTON AVE.           39.33673            \n",
       "4       4       HAMILTON AVE.           39.33673            \n",
       "5       5       HAMILTON AVE.           39.33673            \n",
       "6       6       RADECKE AVE.            39.33036            \n",
       "7       7       RADECKE AVE.            39.33036            \n",
       "8       8       RADECKE AVE.            39.33036            \n",
       "9       9       RADECKE AVE.            39.33036            \n",
       "10     10       RADECKE AVE.            39.33036            \n",
       "11     11       HAMILTON AVE.           39.33673            \n",
       "12     12       HAMILTON AVE.           39.33673            \n",
       "13     13       HAMILTON AVE.           39.33673            \n",
       "14     14       HAMILTON AVE.           39.33673            \n",
       "15     15       HAMILTON AVE.           39.33673            \n",
       "16     16       HAMILTON AVE.           39.33673            \n",
       "17     17       HAMILTON AVE.           39.33673            \n",
       "18     18       HAMILTON AVE.           39.33673            \n",
       "19     19       HAMILTON AVE.           39.33673            \n",
       "20     20       HAMILTON AVE.           39.33673            \n",
       "21     21       HAMILTON AVE.           39.33673            \n",
       "22     22       RADECKE AVE.            39.33036            \n",
       "23     23       RADECKE AVE.            39.33036            \n",
       "24     24       RADECKE AVE.            39.33036            \n",
       "25     25       RADECKE AVE.            39.33036            \n",
       "26     26       RADECKE AVE.            39.33036            \n",
       "27     27       RADECKE AVE.            39.33036            \n",
       "28     28       RADECKE AVE.            39.33036            \n",
       "29     29       RADECKE AVE.            39.33036            \n",
       "30     30       RADECKE AVE.            39.33036            \n",
       "...    ...      ...                     ...                 \n",
       "449784 449784   FOREST PARK OUTFALL 84\" 39.31865            \n",
       "449785 449785   FOREST PARK OUTFALL 84\" 39.31865            \n",
       "449786 449786   FOREST PARK OUTFALL 84\" 39.31865            \n",
       "449787 449787   FOREST PARK OUTFALL 84\" 39.31865            \n",
       "449788 449788   FOREST PARK OUTFALL 84\" 39.31865            \n",
       "449789 449789   FOREST PARK OUTFALL 84\" 39.31865            \n",
       "449790 449790   CLIFTON & FAIRFAX       39.31756            \n",
       "449791 449791   CLIFTON & FAIRFAX       39.31756            \n",
       "449792 449792   CLIFTON & FAIRFAX       39.31756            \n",
       "449793 449793   CLIFTON & FAIRFAX       39.31756            \n",
       "449794 449794   CLIFTON & FAIRFAX       39.31756            \n",
       "449795 449795   CLIFTON & FAIRFAX       39.31756            \n",
       "449796 449796   BRIARCLIFF OUTFALLS     39.29819            \n",
       "449797 449797   BRIARCLIFF OUTFALLS     39.29819            \n",
       "449798 449798   BRIARCLIFF OUTFALLS     39.29819            \n",
       "449799 449799   BRIARCLIFF OUTFALLS     39.29819            \n",
       "449800 449800   BRIARCLIFF OUTFALLS     39.29819            \n",
       "449801 449801   BRIARCLIFF OUTFALLS     39.29819            \n",
       "449802 449802   LAZEAR RD. STREAM       39.30460            \n",
       "449803 449803   LAZEAR RD. STREAM       39.30460            \n",
       "449804 449804   LAZEAR RD. STREAM       39.30460            \n",
       "449805 449805   LAZEAR RD. STREAM       39.30460            \n",
       "449806 449806   LAZEAR RD. STREAM       39.30460            \n",
       "449807 449807   LAZEAR RD. STREAM       39.30460            \n",
       "449808 449808   DEAD RUN DNST.          39.30509            \n",
       "449809 449809   DEAD RUN DNST.          39.30509            \n",
       "449810 449810   DEAD RUN DNST.          39.30509            \n",
       "449811 449811   DEAD RUN DNST.          39.30509            \n",
       "449812 449812   DEAD RUN DNST.          39.30509            \n",
       "449813 449813   DEAD RUN DNST.          39.30509            \n",
       "       GPS.Coordinate.West Parameter                Lab       Result\n",
       "1      -76.53967           Copper_Total             Martel    10    \n",
       "2      -76.53967           Fecal Coliform           Martel    2400  \n",
       "3      -76.53967           Lead_Total               Martel    40    \n",
       "4      -76.53967           Oil & Grease             Martel    2.8   \n",
       "5      -76.53967           Zinc_Total               Martel    20    \n",
       "6      -76.53478           Copper_Total             Martel    20    \n",
       "7      -76.53478           Fecal Coliform           Martel    43    \n",
       "8      -76.53478           Lead_Total               Martel    30    \n",
       "9      -76.53478           Oil & Grease             Martel    <2    \n",
       "10     -76.53478           Zinc_Total               Martel    30    \n",
       "11     -76.53967           BOD5                     Martel    <2    \n",
       "12     -76.53967           Cadmium_Total            Martel    <10   \n",
       "13     -76.53967           Copper_Total             Martel    10    \n",
       "14     -76.53967           Fecal Coliform           Martel    1100  \n",
       "15     -76.53967           Lead_Total               Martel    90    \n",
       "16     -76.53967           Nitrate+Nitrite-Nitrogen Martel    2.89  \n",
       "17     -76.53967           Oil & Grease             Martel    <2.0  \n",
       "18     -76.53967           Suspended Solids         Martel    <1    \n",
       "19     -76.53967           TKN                      Martel    1.3   \n",
       "20     -76.53967           Total Phosphorus         Martel    <0.05 \n",
       "21     -76.53967           Zinc_Total               Martel    30    \n",
       "22     -76.53478           BOD5                     Martel    <2    \n",
       "23     -76.53478           Cadmium_Total            Martel    <10   \n",
       "24     -76.53478           Copper_Total             Martel    10    \n",
       "25     -76.53478           Fecal Coliform           Martel    1100  \n",
       "26     -76.53478           Lead_Total               Martel    90    \n",
       "27     -76.53478           Nitrate+Nitrite-Nitrogen Martel    1.21  \n",
       "28     -76.53478           Oil & Grease             Martel    <2.0  \n",
       "29     -76.53478           Suspended Solids         Martel    <1    \n",
       "30     -76.53478           TKN                      Martel    0.6   \n",
       "...    ...                 ...                      ...       ...   \n",
       "449784 -76.70419           Chlorine_Spec            WQM Field 0.02  \n",
       "449785 -76.70419           Conductivity             WQM Field 608   \n",
       "449786 -76.70419           Dissolved Oxygen         WQM Field 10.64 \n",
       "449787 -76.70419           Hach Ammonia-Nitrogen    WQM Field 0     \n",
       "449788 -76.70419           pH                       WQM Field 7.98  \n",
       "449789 -76.70419           Water Temperature        WQM Field 11.8  \n",
       "449790 -76.69252           Chlorine_Spec            WQM Field 0.07  \n",
       "449791 -76.69252           Conductivity             WQM Field 576   \n",
       "449792 -76.69252           Dissolved Oxygen         WQM Field 10.72 \n",
       "449793 -76.69252           Hach Ammonia-Nitrogen    WQM Field 0.13  \n",
       "449794 -76.69252           pH                       WQM Field 8.08  \n",
       "449795 -76.69252           Water Temperature        WQM Field 11.9  \n",
       "449796 -76.70154           Chlorine_Spec            WQM Field 0.1   \n",
       "449797 -76.70154           Conductivity             WQM Field 567   \n",
       "449798 -76.70154           Dissolved Oxygen         WQM Field 10.7  \n",
       "449799 -76.70154           Hach Ammonia-Nitrogen    WQM Field 0.14  \n",
       "449800 -76.70154           pH                       WQM Field 8     \n",
       "449801 -76.70154           Water Temperature        WQM Field 11.4  \n",
       "449802 -76.68820           Chlorine_Spec            WQM Field 0.02  \n",
       "449803 -76.68820           Conductivity             WQM Field 471   \n",
       "449804 -76.68820           Dissolved Oxygen         WQM Field 10.72 \n",
       "449805 -76.68820           Hach Ammonia-Nitrogen    WQM Field 0     \n",
       "449806 -76.68820           pH                       WQM Field 7.52  \n",
       "449807 -76.68820           Water Temperature        WQM Field 10.6  \n",
       "449808 -76.68639           Chlorine_Spec            WQM Field 0.01  \n",
       "449809 -76.68639           Conductivity             WQM Field 589   \n",
       "449810 -76.68639           Dissolved Oxygen         WQM Field 11.47 \n",
       "449811 -76.68639           Hach Ammonia-Nitrogen    WQM Field 0     \n",
       "449812 -76.68639           pH                       WQM Field 8.17  \n",
       "449813 -76.68639           Water Temperature        WQM Field 9.7   \n",
       "       Unit            datetime        \n",
       "1      ug/L            4/3/1995 13:30  \n",
       "2      MPN/100ml       4/3/1995 13:30  \n",
       "3      ug/L            4/3/1995 13:30  \n",
       "4      mg/L            4/3/1995 13:30  \n",
       "5      ug/L            4/3/1995 13:30  \n",
       "6      ug/L            4/3/1995 15:40  \n",
       "7      MPN/100ml       4/3/1995 15:40  \n",
       "8      ug/L            4/3/1995 15:40  \n",
       "9      mg/L            4/3/1995 15:40  \n",
       "10     ug/L            4/3/1995 15:40  \n",
       "11     mg/L            4/5/1995 11:30  \n",
       "12     ug/L            4/5/1995 11:30  \n",
       "13     ug/L            4/5/1995 11:30  \n",
       "14     MPN/100ml       4/5/1995 11:30  \n",
       "15     ug/L            4/5/1995 11:30  \n",
       "16     mg/L            4/5/1995 11:30  \n",
       "17     mg/L            4/5/1995 11:30  \n",
       "18     mg/L            4/5/1995 11:30  \n",
       "19     mg/L            4/5/1995 11:30  \n",
       "20     mg/L            4/5/1995 11:30  \n",
       "21     ug/L            4/5/1995 11:30  \n",
       "22     mg/L            4/5/1995 13:30  \n",
       "23     ug/L            4/5/1995 13:30  \n",
       "24     ug/L            4/5/1995 13:30  \n",
       "25     MPN/100ml       4/5/1995 13:30  \n",
       "26     ug/L            4/5/1995 13:30  \n",
       "27     mg/L            4/5/1995 13:30  \n",
       "28     mg/L            4/5/1995 13:30  \n",
       "29     mg/L            4/5/1995 13:30  \n",
       "30     mg/L            4/5/1995 13:30  \n",
       "...    ...             ...             \n",
       "449784 mg/L            12/29/2023 11:25\n",
       "449785 umhos           12/29/2023 11:25\n",
       "449786 mg/L            12/29/2023 11:25\n",
       "449787 mg/L            12/29/2023 11:25\n",
       "449788 pH units        12/29/2023 11:25\n",
       "449789 degrees Celsius 12/29/2023 11:25\n",
       "449790 mg/L            12/29/2023 11:44\n",
       "449791 umhos           12/29/2023 11:44\n",
       "449792 mg/L            12/29/2023 11:44\n",
       "449793 mg/L            12/29/2023 11:44\n",
       "449794 pH units        12/29/2023 11:44\n",
       "449795 degrees Celsius 12/29/2023 11:44\n",
       "449796 mg/L            12/29/2023 12:07\n",
       "449797 umhos           12/29/2023 12:07\n",
       "449798 mg/L            12/29/2023 12:07\n",
       "449799 mg/L            12/29/2023 12:07\n",
       "449800 pH units        12/29/2023 12:07\n",
       "449801 degrees Celsius 12/29/2023 12:07\n",
       "449802 mg/L            12/29/2023 13:48\n",
       "449803 umhos           12/29/2023 13:48\n",
       "449804 mg/L            12/29/2023 13:48\n",
       "449805 mg/L            12/29/2023 13:48\n",
       "449806 pH units        12/29/2023 13:48\n",
       "449807 degrees Celsius 12/29/2023 13:48\n",
       "449808 mg/L            12/29/2023 14:00\n",
       "449809 umhos           12/29/2023 14:00\n",
       "449810 mg/L            12/29/2023 14:00\n",
       "449811 mg/L            12/29/2023 14:00\n",
       "449812 pH units        12/29/2023 14:00\n",
       "449813 degrees Celsius 12/29/2023 14:00"
      ]
     },
     "metadata": {},
     "output_type": "display_data"
    }
   ],
   "source": [
    "download.file(\"https://www.arcgis.com/sharing/rest/content/items/85f6cd8c0a8646d6b13239c83df51f83/data\",\"Data/water_quality.csv\")\n",
    "data <- read.csv(\"Data/water_quality.csv\")\n",
    "data"
   ]
  },
  {
   "cell_type": "code",
   "execution_count": 6,
   "id": "375983cb-cd4b-47dd-bb30-6a792751461b",
   "metadata": {},
   "outputs": [
    {
     "data": {
      "text/html": [
       "<table>\n",
       "<thead><tr><th></th><th scope=col>OBJECTID</th><th scope=col>Station</th><th scope=col>GPS.Coordinate.North</th><th scope=col>GPS.Coordinate.West</th><th scope=col>Parameter</th><th scope=col>Lab</th><th scope=col>Result</th><th scope=col>Unit</th><th scope=col>datetime</th></tr></thead>\n",
       "<tbody>\n",
       "\t<tr><th scope=row>6</th><td>  6                     </td><td>RADECKE AVE.            </td><td>39.33036                </td><td>-76.53478               </td><td>Copper_Total            </td><td>Martel                  </td><td>20                      </td><td>ug/L                    </td><td>4/3/1995 15:40          </td></tr>\n",
       "\t<tr><th scope=row>7</th><td>  7                     </td><td>RADECKE AVE.            </td><td>39.33036                </td><td>-76.53478               </td><td>Fecal Coliform          </td><td>Martel                  </td><td>43                      </td><td>MPN/100ml               </td><td>4/3/1995 15:40          </td></tr>\n",
       "\t<tr><th scope=row>8</th><td>  8                     </td><td>RADECKE AVE.            </td><td>39.33036                </td><td>-76.53478               </td><td>Lead_Total              </td><td>Martel                  </td><td>30                      </td><td>ug/L                    </td><td>4/3/1995 15:40          </td></tr>\n",
       "\t<tr><th scope=row>9</th><td><span style=white-space:pre-wrap>  9</span>                         </td><td>RADECKE AVE.                                                        </td><td>39.33036                                                            </td><td>-76.53478                                                           </td><td><span style=white-space:pre-wrap>Oil &amp; Grease            </span></td><td>Martel                                                              </td><td><span style=white-space:pre-wrap>&lt;2  </span>                     </td><td><span style=white-space:pre-wrap>mg/L     </span>                   </td><td>4/3/1995 15:40                                                      </td></tr>\n",
       "\t<tr><th scope=row>10</th><td> 10                     </td><td>RADECKE AVE.            </td><td>39.33036                </td><td>-76.53478               </td><td>Zinc_Total              </td><td>Martel                  </td><td>30                      </td><td>ug/L                    </td><td>4/3/1995 15:40          </td></tr>\n",
       "\t<tr><th scope=row>22</th><td> 22                                                             </td><td>RADECKE AVE.                                                    </td><td>39.33036                                                        </td><td>-76.53478                                                       </td><td><span style=white-space:pre-wrap>BOD5                    </span></td><td>Martel                                                          </td><td><span style=white-space:pre-wrap>&lt;2  </span>                 </td><td><span style=white-space:pre-wrap>mg/L     </span>               </td><td>4/5/1995 13:30                                                  </td></tr>\n",
       "\t<tr><th scope=row>23</th><td> 23                                                             </td><td>RADECKE AVE.                                                    </td><td>39.33036                                                        </td><td>-76.53478                                                       </td><td><span style=white-space:pre-wrap>Cadmium_Total           </span></td><td>Martel                                                          </td><td>&lt;10                                                          </td><td><span style=white-space:pre-wrap>ug/L     </span>               </td><td>4/5/1995 13:30                                                  </td></tr>\n",
       "\t<tr><th scope=row>24</th><td> 24                     </td><td>RADECKE AVE.            </td><td>39.33036                </td><td>-76.53478               </td><td>Copper_Total            </td><td>Martel                  </td><td>10                      </td><td>ug/L                    </td><td>4/5/1995 13:30          </td></tr>\n",
       "\t<tr><th scope=row>25</th><td> 25                     </td><td>RADECKE AVE.            </td><td>39.33036                </td><td>-76.53478               </td><td>Fecal Coliform          </td><td>Martel                  </td><td>1100                    </td><td>MPN/100ml               </td><td>4/5/1995 13:30          </td></tr>\n",
       "\t<tr><th scope=row>26</th><td> 26                     </td><td>RADECKE AVE.            </td><td>39.33036                </td><td>-76.53478               </td><td>Lead_Total              </td><td>Martel                  </td><td>90                      </td><td>ug/L                    </td><td>4/5/1995 13:30          </td></tr>\n",
       "\t<tr><th scope=row>27</th><td> 27                     </td><td>RADECKE AVE.            </td><td>39.33036                </td><td>-76.53478               </td><td>Nitrate+Nitrite-Nitrogen</td><td>Martel                  </td><td>1.21                    </td><td>mg/L                    </td><td>4/5/1995 13:30          </td></tr>\n",
       "\t<tr><th scope=row>28</th><td> 28                                                                 </td><td>RADECKE AVE.                                                        </td><td>39.33036                                                            </td><td>-76.53478                                                           </td><td><span style=white-space:pre-wrap>Oil &amp; Grease            </span></td><td>Martel                                                              </td><td>&lt;2.0                                                             </td><td><span style=white-space:pre-wrap>mg/L     </span>                   </td><td>4/5/1995 13:30                                                      </td></tr>\n",
       "\t<tr><th scope=row>29</th><td> 29                                                             </td><td>RADECKE AVE.                                                    </td><td>39.33036                                                        </td><td>-76.53478                                                       </td><td><span style=white-space:pre-wrap>Suspended Solids        </span></td><td>Martel                                                          </td><td><span style=white-space:pre-wrap>&lt;1  </span>                 </td><td><span style=white-space:pre-wrap>mg/L     </span>               </td><td>4/5/1995 13:30                                                  </td></tr>\n",
       "\t<tr><th scope=row>30</th><td> 30                     </td><td>RADECKE AVE.            </td><td>39.33036                </td><td>-76.53478               </td><td>TKN                     </td><td>Martel                  </td><td>0.6                     </td><td>mg/L                    </td><td>4/5/1995 13:30          </td></tr>\n",
       "\t<tr><th scope=row>31</th><td> 31                     </td><td>RADECKE AVE.            </td><td>39.33036                </td><td>-76.53478               </td><td>Total Phosphorus        </td><td>Martel                  </td><td>0.05                    </td><td>mg/L                    </td><td>4/5/1995 13:30          </td></tr>\n",
       "\t<tr><th scope=row>32</th><td> 32                     </td><td>RADECKE AVE.            </td><td>39.33036                </td><td>-76.53478               </td><td>Zinc_Total              </td><td>Martel                  </td><td>20                      </td><td>ug/L                    </td><td>4/5/1995 13:30          </td></tr>\n",
       "\t<tr><th scope=row>77</th><td> 77                                                             </td><td>RADECKE AVE.                                                    </td><td>39.33036                                                        </td><td>-76.53478                                                       </td><td><span style=white-space:pre-wrap>BOD5                    </span></td><td>Martel                                                          </td><td>&lt;2.0                                                         </td><td><span style=white-space:pre-wrap>mg/L     </span>               </td><td>5/15/1995 12:29                                                 </td></tr>\n",
       "\t<tr><th scope=row>78</th><td> 78                                                             </td><td>RADECKE AVE.                                                    </td><td>39.33036                                                        </td><td>-76.53478                                                       </td><td><span style=white-space:pre-wrap>Cadmium_Total           </span></td><td>Martel                                                          </td><td>&lt;10                                                          </td><td><span style=white-space:pre-wrap>ug/L     </span>               </td><td>5/15/1995 12:29                                                 </td></tr>\n",
       "\t<tr><th scope=row>79</th><td> 79                     </td><td>RADECKE AVE.            </td><td>39.33036                </td><td>-76.53478               </td><td>Copper_Total            </td><td>Martel                  </td><td>20                      </td><td>ug/L                    </td><td>5/15/1995 12:29         </td></tr>\n",
       "\t<tr><th scope=row>80</th><td> 80                     </td><td>RADECKE AVE.            </td><td>39.33036                </td><td>-76.53478               </td><td>Fecal Coliform          </td><td>Martel                  </td><td>4600                    </td><td>MPN/100ml               </td><td>5/15/1995 12:29         </td></tr>\n",
       "\t<tr><th scope=row>81</th><td> 81                     </td><td>RADECKE AVE.            </td><td>39.33036                </td><td>-76.53478               </td><td>Lead_Total              </td><td>Martel                  </td><td>60                      </td><td>ug/L                    </td><td>5/15/1995 12:29         </td></tr>\n",
       "\t<tr><th scope=row>82</th><td> 82                     </td><td>RADECKE AVE.            </td><td>39.33036                </td><td>-76.53478               </td><td>Nitrate+Nitrite-Nitrogen</td><td>Martel                  </td><td>1.28                    </td><td>mg/L                    </td><td>5/15/1995 12:29         </td></tr>\n",
       "\t<tr><th scope=row>83</th><td> 83                                                                 </td><td>RADECKE AVE.                                                        </td><td>39.33036                                                            </td><td>-76.53478                                                           </td><td><span style=white-space:pre-wrap>Oil &amp; Grease            </span></td><td>Martel                                                              </td><td>3.5                                                                 </td><td><span style=white-space:pre-wrap>mg/L     </span>                   </td><td>5/15/1995 12:29                                                     </td></tr>\n",
       "\t<tr><th scope=row>84</th><td> 84                     </td><td>RADECKE AVE.            </td><td>39.33036                </td><td>-76.53478               </td><td>Suspended Solids        </td><td>Martel                  </td><td>3                       </td><td>mg/L                    </td><td>5/15/1995 12:29         </td></tr>\n",
       "\t<tr><th scope=row>85</th><td> 85                     </td><td>RADECKE AVE.            </td><td>39.33036                </td><td>-76.53478               </td><td>TKN                     </td><td>Martel                  </td><td>1.1                     </td><td>mg/L                    </td><td>5/15/1995 12:29         </td></tr>\n",
       "\t<tr><th scope=row>86</th><td> 86                     </td><td>RADECKE AVE.            </td><td>39.33036                </td><td>-76.53478               </td><td>Total Phosphorus        </td><td>Martel                  </td><td>0.05                    </td><td>mg/L                    </td><td>5/15/1995 12:29         </td></tr>\n",
       "\t<tr><th scope=row>87</th><td> 87                     </td><td>RADECKE AVE.            </td><td>39.33036                </td><td>-76.53478               </td><td>Zinc_Total              </td><td>Martel                  </td><td>40                      </td><td>ug/L                    </td><td>5/15/1995 12:29         </td></tr>\n",
       "\t<tr><th scope=row>99</th><td> 99                                                             </td><td>RADECKE AVE.                                                    </td><td>39.33036                                                        </td><td>-76.53478                                                       </td><td><span style=white-space:pre-wrap>BOD5                    </span></td><td>Martel                                                          </td><td><span style=white-space:pre-wrap>&lt;2  </span>                 </td><td><span style=white-space:pre-wrap>mg/L     </span>               </td><td>5/30/1995 10:30                                                 </td></tr>\n",
       "\t<tr><th scope=row>100</th><td>100                                                             </td><td>RADECKE AVE.                                                    </td><td>39.33036                                                        </td><td>-76.53478                                                       </td><td><span style=white-space:pre-wrap>Cadmium_Total           </span></td><td>Martel                                                          </td><td>&lt;10                                                          </td><td><span style=white-space:pre-wrap>ug/L     </span>               </td><td>5/30/1995 10:30                                                 </td></tr>\n",
       "\t<tr><th scope=row>101</th><td>101                                                             </td><td>RADECKE AVE.                                                    </td><td>39.33036                                                        </td><td>-76.53478                                                       </td><td><span style=white-space:pre-wrap>Copper_Total            </span></td><td>Martel                                                          </td><td>&lt;10                                                          </td><td><span style=white-space:pre-wrap>ug/L     </span>               </td><td>5/30/1995 10:30                                                 </td></tr>\n",
       "\t<tr><th scope=row>...</th><td>...</td><td>...</td><td>...</td><td>...</td><td>...</td><td>...</td><td>...</td><td>...</td><td>...</td></tr>\n",
       "\t<tr><th scope=row>446566</th><td>446566                  </td><td>RADECKE AVE.            </td><td>39.33036                </td><td>-76.53478               </td><td>Chlorine_Spec           </td><td>WQM Field               </td><td>0                       </td><td>mg/L                    </td><td>11/6/2023 12:09         </td></tr>\n",
       "\t<tr><th scope=row>446567</th><td>446567                  </td><td>RADECKE AVE.            </td><td>39.33036                </td><td>-76.53478               </td><td>Conductivity            </td><td>WQM Field               </td><td>455                     </td><td>umhos                   </td><td>11/6/2023 12:09         </td></tr>\n",
       "\t<tr><th scope=row>446568</th><td>446568                  </td><td>RADECKE AVE.            </td><td>39.33036                </td><td>-76.53478               </td><td>Dissolved Oxygen        </td><td>WQM Field               </td><td>10.88                   </td><td>mg/L                    </td><td>11/6/2023 12:09         </td></tr>\n",
       "\t<tr><th scope=row>446569</th><td>446569                  </td><td>RADECKE AVE.            </td><td>39.33036                </td><td>-76.53478               </td><td>Hach Ammonia-Nitrogen   </td><td>WQM Field               </td><td>0.1                     </td><td>mg/L                    </td><td>11/6/2023 12:09         </td></tr>\n",
       "\t<tr><th scope=row>446570</th><td>446570                  </td><td>RADECKE AVE.            </td><td>39.33036                </td><td>-76.53478               </td><td>pH                      </td><td>WQM Field               </td><td>7.9                     </td><td>pH units                </td><td>11/6/2023 12:09         </td></tr>\n",
       "\t<tr><th scope=row>446571</th><td>446571                  </td><td>RADECKE AVE.            </td><td>39.33036                </td><td>-76.53478               </td><td>Water Temperature       </td><td>WQM Field               </td><td>12.2                    </td><td>degrees Celsius         </td><td>11/6/2023 12:09         </td></tr>\n",
       "\t<tr><th scope=row>448052</th><td>448052                  </td><td>RADECKE AVE.            </td><td>39.33036                </td><td>-76.53478               </td><td>Chlorine_Spec           </td><td>WQM Field               </td><td>0                       </td><td>mg/L                    </td><td>11/28/2023 12:59        </td></tr>\n",
       "\t<tr><th scope=row>448053</th><td>448053                  </td><td>RADECKE AVE.            </td><td>39.33036                </td><td>-76.53478               </td><td>Conductivity            </td><td>WQM Field               </td><td>418                     </td><td>umhos                   </td><td>11/28/2023 12:59        </td></tr>\n",
       "\t<tr><th scope=row>448054</th><td>448054                  </td><td>RADECKE AVE.            </td><td>39.33036                </td><td>-76.53478               </td><td>Dissolved Oxygen        </td><td>WQM Field               </td><td>11.38                   </td><td>mg/L                    </td><td>11/28/2023 12:59        </td></tr>\n",
       "\t<tr><th scope=row>448055</th><td>448055                  </td><td>RADECKE AVE.            </td><td>39.33036                </td><td>-76.53478               </td><td>E. Coli                 </td><td>ALS-MDT                 </td><td>2420                    </td><td>MPN/100ml               </td><td>11/28/2023 12:59        </td></tr>\n",
       "\t<tr><th scope=row>448056</th><td>448056                  </td><td>RADECKE AVE.            </td><td>39.33036                </td><td>-76.53478               </td><td>Hach Ammonia-Nitrogen   </td><td>WQM Field               </td><td>0.08                    </td><td>mg/L                    </td><td>11/28/2023 12:59        </td></tr>\n",
       "\t<tr><th scope=row>448057</th><td>448057                  </td><td>RADECKE AVE.            </td><td>39.33036                </td><td>-76.53478               </td><td>Hardness                </td><td>ALS-MDT                 </td><td>140                     </td><td>mg/L                    </td><td>11/28/2023 12:59        </td></tr>\n",
       "\t<tr><th scope=row>448058</th><td>448058                  </td><td>RADECKE AVE.            </td><td>39.33036                </td><td>-76.53478               </td><td>Nitrate+Nitrite-Nitrogen</td><td>ALS-MDT                 </td><td>0.91                    </td><td>mg/L                    </td><td>11/28/2023 12:59        </td></tr>\n",
       "\t<tr><th scope=row>448059</th><td>448059                  </td><td>RADECKE AVE.            </td><td>39.33036                </td><td>-76.53478               </td><td>pH                      </td><td>WQM Field               </td><td>8.2                     </td><td>pH units                </td><td>11/28/2023 12:59        </td></tr>\n",
       "\t<tr><th scope=row>448060</th><td>448060                  </td><td>RADECKE AVE.            </td><td>39.33036                </td><td>-76.53478               </td><td>Suspended Solids        </td><td>BRWWTP Lab              </td><td>1.2                     </td><td>mg/L                    </td><td>11/28/2023 12:59        </td></tr>\n",
       "\t<tr><th scope=row>448061</th><td>448061                  </td><td>RADECKE AVE.            </td><td>39.33036                </td><td>-76.53478               </td><td>TKN                     </td><td>ALS-MDT                 </td><td>0.6                     </td><td>mg/L                    </td><td>11/28/2023 12:59        </td></tr>\n",
       "\t<tr><th scope=row>448062</th><td>448062                  </td><td>RADECKE AVE.            </td><td>39.33036                </td><td>-76.53478               </td><td>Total Phosphorus        </td><td>ALS-MDT                 </td><td>0.028                   </td><td>mg/L                    </td><td>11/28/2023 12:59        </td></tr>\n",
       "\t<tr><th scope=row>448063</th><td>448063                  </td><td>RADECKE AVE.            </td><td>39.33036                </td><td>-76.53478               </td><td>Water Temperature       </td><td>WQM Field               </td><td>5.6                     </td><td>degrees Celsius         </td><td>11/28/2023 12:59        </td></tr>\n",
       "\t<tr><th scope=row>449556</th><td>449556                  </td><td>RADECKE AVE.            </td><td>39.33036                </td><td>-76.53478               </td><td>Chlorine_Spec           </td><td>WQM Field               </td><td>0.02                    </td><td>mg/L                    </td><td>12/19/2023 11:13        </td></tr>\n",
       "\t<tr><th scope=row>449557</th><td>449557                  </td><td>RADECKE AVE.            </td><td>39.33036                </td><td>-76.53478               </td><td>Conductivity            </td><td>WQM Field               </td><td>406                     </td><td>umhos                   </td><td>12/19/2023 11:13        </td></tr>\n",
       "\t<tr><th scope=row>449558</th><td>449558                  </td><td>RADECKE AVE.            </td><td>39.33036                </td><td>-76.53478               </td><td>Dissolved Oxygen        </td><td>WQM Field               </td><td>11.57                   </td><td>mg/L                    </td><td>12/19/2023 11:13        </td></tr>\n",
       "\t<tr><th scope=row>449559</th><td>449559                                                          </td><td>RADECKE AVE.                                                    </td><td>39.33036                                                        </td><td>-76.53478                                                       </td><td><span style=white-space:pre-wrap>E. Coli                 </span></td><td><span style=white-space:pre-wrap>ALS-MDT   </span>              </td><td>&gt;2419.6                                                      </td><td><span style=white-space:pre-wrap>MPN/100ml      </span>         </td><td>12/19/2023 11:13                                                </td></tr>\n",
       "\t<tr><th scope=row>449560</th><td>449560                  </td><td>RADECKE AVE.            </td><td>39.33036                </td><td>-76.53478               </td><td>Hach Ammonia-Nitrogen   </td><td>WQM Field               </td><td>0.01                    </td><td>mg/L                    </td><td>12/19/2023 11:13        </td></tr>\n",
       "\t<tr><th scope=row>449561</th><td>449561                  </td><td>RADECKE AVE.            </td><td>39.33036                </td><td>-76.53478               </td><td>Hardness                </td><td>ALS-MDT                 </td><td>147                     </td><td>mg/L                    </td><td>12/19/2023 11:13        </td></tr>\n",
       "\t<tr><th scope=row>449562</th><td>449562                  </td><td>RADECKE AVE.            </td><td>39.33036                </td><td>-76.53478               </td><td>Nitrate+Nitrite-Nitrogen</td><td>ALS-MDT                 </td><td>2.27                    </td><td>mg/L                    </td><td>12/19/2023 11:13        </td></tr>\n",
       "\t<tr><th scope=row>449563</th><td>449563                  </td><td>RADECKE AVE.            </td><td>39.33036                </td><td>-76.53478               </td><td>pH                      </td><td>WQM Field               </td><td>7.68                    </td><td>pH units                </td><td>12/19/2023 11:13        </td></tr>\n",
       "\t<tr><th scope=row>449564</th><td>449564                                                          </td><td>RADECKE AVE.                                                    </td><td>39.33036                                                        </td><td>-76.53478                                                       </td><td><span style=white-space:pre-wrap>Suspended Solids        </span></td><td>BRWWTP Lab                                                      </td><td><span style=white-space:pre-wrap>&lt;1     </span>              </td><td><span style=white-space:pre-wrap>mg/L           </span>         </td><td>12/19/2023 11:13                                                </td></tr>\n",
       "\t<tr><th scope=row>449565</th><td>449565                  </td><td>RADECKE AVE.            </td><td>39.33036                </td><td>-76.53478               </td><td>TKN                     </td><td>ALS-MDT                 </td><td>0.6                     </td><td>mg/L                    </td><td>12/19/2023 11:13        </td></tr>\n",
       "\t<tr><th scope=row>449566</th><td>449566                  </td><td>RADECKE AVE.            </td><td>39.33036                </td><td>-76.53478               </td><td>Total Phosphorus        </td><td>ALS-MDT                 </td><td>0.058                   </td><td>mg/L                    </td><td>12/19/2023 11:13        </td></tr>\n",
       "\t<tr><th scope=row>449567</th><td>449567                  </td><td>RADECKE AVE.            </td><td>39.33036                </td><td>-76.53478               </td><td>Water Temperature       </td><td>WQM Field               </td><td>8.6                     </td><td>degrees Celsius         </td><td>12/19/2023 11:13        </td></tr>\n",
       "</tbody>\n",
       "</table>\n"
      ],
      "text/latex": [
       "\\begin{tabular}{r|lllllllll}\n",
       "  & OBJECTID & Station & GPS.Coordinate.North & GPS.Coordinate.West & Parameter & Lab & Result & Unit & datetime\\\\\n",
       "\\hline\n",
       "\t6 &   6                        & RADECKE AVE.               & 39.33036                   & -76.53478                  & Copper\\_Total             & Martel                     & 20                         & ug/L                       & 4/3/1995 15:40            \\\\\n",
       "\t7 &   7                      & RADECKE AVE.             & 39.33036                 & -76.53478                & Fecal Coliform           & Martel                   & 43                       & MPN/100ml                & 4/3/1995 15:40          \\\\\n",
       "\t8 &   8                        & RADECKE AVE.               & 39.33036                   & -76.53478                  & Lead\\_Total               & Martel                     & 30                         & ug/L                       & 4/3/1995 15:40            \\\\\n",
       "\t9 &   9                        & RADECKE AVE.               & 39.33036                   & -76.53478                  & Oil \\& Grease             & Martel                     & <2                         & mg/L                       & 4/3/1995 15:40            \\\\\n",
       "\t10 &  10                        & RADECKE AVE.               & 39.33036                   & -76.53478                  & Zinc\\_Total               & Martel                     & 30                         & ug/L                       & 4/3/1995 15:40            \\\\\n",
       "\t22 &  22                      & RADECKE AVE.             & 39.33036                 & -76.53478                & BOD5                     & Martel                   & <2                       & mg/L                     & 4/5/1995 13:30          \\\\\n",
       "\t23 &  23                        & RADECKE AVE.               & 39.33036                   & -76.53478                  & Cadmium\\_Total            & Martel                     & <10                        & ug/L                       & 4/5/1995 13:30            \\\\\n",
       "\t24 &  24                        & RADECKE AVE.               & 39.33036                   & -76.53478                  & Copper\\_Total             & Martel                     & 10                         & ug/L                       & 4/5/1995 13:30            \\\\\n",
       "\t25 &  25                      & RADECKE AVE.             & 39.33036                 & -76.53478                & Fecal Coliform           & Martel                   & 1100                     & MPN/100ml                & 4/5/1995 13:30          \\\\\n",
       "\t26 &  26                        & RADECKE AVE.               & 39.33036                   & -76.53478                  & Lead\\_Total               & Martel                     & 90                         & ug/L                       & 4/5/1995 13:30            \\\\\n",
       "\t27 &  27                      & RADECKE AVE.             & 39.33036                 & -76.53478                & Nitrate+Nitrite-Nitrogen & Martel                   & 1.21                     & mg/L                     & 4/5/1995 13:30          \\\\\n",
       "\t28 &  28                        & RADECKE AVE.               & 39.33036                   & -76.53478                  & Oil \\& Grease             & Martel                     & <2.0                       & mg/L                       & 4/5/1995 13:30            \\\\\n",
       "\t29 &  29                      & RADECKE AVE.             & 39.33036                 & -76.53478                & Suspended Solids         & Martel                   & <1                       & mg/L                     & 4/5/1995 13:30          \\\\\n",
       "\t30 &  30                      & RADECKE AVE.             & 39.33036                 & -76.53478                & TKN                      & Martel                   & 0.6                      & mg/L                     & 4/5/1995 13:30          \\\\\n",
       "\t31 &  31                      & RADECKE AVE.             & 39.33036                 & -76.53478                & Total Phosphorus         & Martel                   & 0.05                     & mg/L                     & 4/5/1995 13:30          \\\\\n",
       "\t32 &  32                        & RADECKE AVE.               & 39.33036                   & -76.53478                  & Zinc\\_Total               & Martel                     & 20                         & ug/L                       & 4/5/1995 13:30            \\\\\n",
       "\t77 &  77                      & RADECKE AVE.             & 39.33036                 & -76.53478                & BOD5                     & Martel                   & <2.0                     & mg/L                     & 5/15/1995 12:29         \\\\\n",
       "\t78 &  78                        & RADECKE AVE.               & 39.33036                   & -76.53478                  & Cadmium\\_Total            & Martel                     & <10                        & ug/L                       & 5/15/1995 12:29           \\\\\n",
       "\t79 &  79                        & RADECKE AVE.               & 39.33036                   & -76.53478                  & Copper\\_Total             & Martel                     & 20                         & ug/L                       & 5/15/1995 12:29           \\\\\n",
       "\t80 &  80                      & RADECKE AVE.             & 39.33036                 & -76.53478                & Fecal Coliform           & Martel                   & 4600                     & MPN/100ml                & 5/15/1995 12:29         \\\\\n",
       "\t81 &  81                        & RADECKE AVE.               & 39.33036                   & -76.53478                  & Lead\\_Total               & Martel                     & 60                         & ug/L                       & 5/15/1995 12:29           \\\\\n",
       "\t82 &  82                      & RADECKE AVE.             & 39.33036                 & -76.53478                & Nitrate+Nitrite-Nitrogen & Martel                   & 1.28                     & mg/L                     & 5/15/1995 12:29         \\\\\n",
       "\t83 &  83                        & RADECKE AVE.               & 39.33036                   & -76.53478                  & Oil \\& Grease             & Martel                     & 3.5                        & mg/L                       & 5/15/1995 12:29           \\\\\n",
       "\t84 &  84                      & RADECKE AVE.             & 39.33036                 & -76.53478                & Suspended Solids         & Martel                   & 3                        & mg/L                     & 5/15/1995 12:29         \\\\\n",
       "\t85 &  85                      & RADECKE AVE.             & 39.33036                 & -76.53478                & TKN                      & Martel                   & 1.1                      & mg/L                     & 5/15/1995 12:29         \\\\\n",
       "\t86 &  86                      & RADECKE AVE.             & 39.33036                 & -76.53478                & Total Phosphorus         & Martel                   & 0.05                     & mg/L                     & 5/15/1995 12:29         \\\\\n",
       "\t87 &  87                        & RADECKE AVE.               & 39.33036                   & -76.53478                  & Zinc\\_Total               & Martel                     & 40                         & ug/L                       & 5/15/1995 12:29           \\\\\n",
       "\t99 &  99                      & RADECKE AVE.             & 39.33036                 & -76.53478                & BOD5                     & Martel                   & <2                       & mg/L                     & 5/30/1995 10:30         \\\\\n",
       "\t100 & 100                        & RADECKE AVE.               & 39.33036                   & -76.53478                  & Cadmium\\_Total            & Martel                     & <10                        & ug/L                       & 5/30/1995 10:30           \\\\\n",
       "\t101 & 101                        & RADECKE AVE.               & 39.33036                   & -76.53478                  & Copper\\_Total             & Martel                     & <10                        & ug/L                       & 5/30/1995 10:30           \\\\\n",
       "\t... & ... & ... & ... & ... & ... & ... & ... & ... & ...\\\\\n",
       "\t446566 & 446566                     & RADECKE AVE.               & 39.33036                   & -76.53478                  & Chlorine\\_Spec            & WQM Field                  & 0                          & mg/L                       & 11/6/2023 12:09           \\\\\n",
       "\t446567 & 446567                   & RADECKE AVE.             & 39.33036                 & -76.53478                & Conductivity             & WQM Field                & 455                      & umhos                    & 11/6/2023 12:09         \\\\\n",
       "\t446568 & 446568                   & RADECKE AVE.             & 39.33036                 & -76.53478                & Dissolved Oxygen         & WQM Field                & 10.88                    & mg/L                     & 11/6/2023 12:09         \\\\\n",
       "\t446569 & 446569                   & RADECKE AVE.             & 39.33036                 & -76.53478                & Hach Ammonia-Nitrogen    & WQM Field                & 0.1                      & mg/L                     & 11/6/2023 12:09         \\\\\n",
       "\t446570 & 446570                   & RADECKE AVE.             & 39.33036                 & -76.53478                & pH                       & WQM Field                & 7.9                      & pH units                 & 11/6/2023 12:09         \\\\\n",
       "\t446571 & 446571                   & RADECKE AVE.             & 39.33036                 & -76.53478                & Water Temperature        & WQM Field                & 12.2                     & degrees Celsius          & 11/6/2023 12:09         \\\\\n",
       "\t448052 & 448052                     & RADECKE AVE.               & 39.33036                   & -76.53478                  & Chlorine\\_Spec            & WQM Field                  & 0                          & mg/L                       & 11/28/2023 12:59          \\\\\n",
       "\t448053 & 448053                   & RADECKE AVE.             & 39.33036                 & -76.53478                & Conductivity             & WQM Field                & 418                      & umhos                    & 11/28/2023 12:59        \\\\\n",
       "\t448054 & 448054                   & RADECKE AVE.             & 39.33036                 & -76.53478                & Dissolved Oxygen         & WQM Field                & 11.38                    & mg/L                     & 11/28/2023 12:59        \\\\\n",
       "\t448055 & 448055                   & RADECKE AVE.             & 39.33036                 & -76.53478                & E. Coli                  & ALS-MDT                  & 2420                     & MPN/100ml                & 11/28/2023 12:59        \\\\\n",
       "\t448056 & 448056                   & RADECKE AVE.             & 39.33036                 & -76.53478                & Hach Ammonia-Nitrogen    & WQM Field                & 0.08                     & mg/L                     & 11/28/2023 12:59        \\\\\n",
       "\t448057 & 448057                   & RADECKE AVE.             & 39.33036                 & -76.53478                & Hardness                 & ALS-MDT                  & 140                      & mg/L                     & 11/28/2023 12:59        \\\\\n",
       "\t448058 & 448058                   & RADECKE AVE.             & 39.33036                 & -76.53478                & Nitrate+Nitrite-Nitrogen & ALS-MDT                  & 0.91                     & mg/L                     & 11/28/2023 12:59        \\\\\n",
       "\t448059 & 448059                   & RADECKE AVE.             & 39.33036                 & -76.53478                & pH                       & WQM Field                & 8.2                      & pH units                 & 11/28/2023 12:59        \\\\\n",
       "\t448060 & 448060                   & RADECKE AVE.             & 39.33036                 & -76.53478                & Suspended Solids         & BRWWTP Lab               & 1.2                      & mg/L                     & 11/28/2023 12:59        \\\\\n",
       "\t448061 & 448061                   & RADECKE AVE.             & 39.33036                 & -76.53478                & TKN                      & ALS-MDT                  & 0.6                      & mg/L                     & 11/28/2023 12:59        \\\\\n",
       "\t448062 & 448062                   & RADECKE AVE.             & 39.33036                 & -76.53478                & Total Phosphorus         & ALS-MDT                  & 0.028                    & mg/L                     & 11/28/2023 12:59        \\\\\n",
       "\t448063 & 448063                   & RADECKE AVE.             & 39.33036                 & -76.53478                & Water Temperature        & WQM Field                & 5.6                      & degrees Celsius          & 11/28/2023 12:59        \\\\\n",
       "\t449556 & 449556                     & RADECKE AVE.               & 39.33036                   & -76.53478                  & Chlorine\\_Spec            & WQM Field                  & 0.02                       & mg/L                       & 12/19/2023 11:13          \\\\\n",
       "\t449557 & 449557                   & RADECKE AVE.             & 39.33036                 & -76.53478                & Conductivity             & WQM Field                & 406                      & umhos                    & 12/19/2023 11:13        \\\\\n",
       "\t449558 & 449558                   & RADECKE AVE.             & 39.33036                 & -76.53478                & Dissolved Oxygen         & WQM Field                & 11.57                    & mg/L                     & 12/19/2023 11:13        \\\\\n",
       "\t449559 & 449559                   & RADECKE AVE.             & 39.33036                 & -76.53478                & E. Coli                  & ALS-MDT                  & >2419.6                  & MPN/100ml                & 12/19/2023 11:13        \\\\\n",
       "\t449560 & 449560                   & RADECKE AVE.             & 39.33036                 & -76.53478                & Hach Ammonia-Nitrogen    & WQM Field                & 0.01                     & mg/L                     & 12/19/2023 11:13        \\\\\n",
       "\t449561 & 449561                   & RADECKE AVE.             & 39.33036                 & -76.53478                & Hardness                 & ALS-MDT                  & 147                      & mg/L                     & 12/19/2023 11:13        \\\\\n",
       "\t449562 & 449562                   & RADECKE AVE.             & 39.33036                 & -76.53478                & Nitrate+Nitrite-Nitrogen & ALS-MDT                  & 2.27                     & mg/L                     & 12/19/2023 11:13        \\\\\n",
       "\t449563 & 449563                   & RADECKE AVE.             & 39.33036                 & -76.53478                & pH                       & WQM Field                & 7.68                     & pH units                 & 12/19/2023 11:13        \\\\\n",
       "\t449564 & 449564                   & RADECKE AVE.             & 39.33036                 & -76.53478                & Suspended Solids         & BRWWTP Lab               & <1                       & mg/L                     & 12/19/2023 11:13        \\\\\n",
       "\t449565 & 449565                   & RADECKE AVE.             & 39.33036                 & -76.53478                & TKN                      & ALS-MDT                  & 0.6                      & mg/L                     & 12/19/2023 11:13        \\\\\n",
       "\t449566 & 449566                   & RADECKE AVE.             & 39.33036                 & -76.53478                & Total Phosphorus         & ALS-MDT                  & 0.058                    & mg/L                     & 12/19/2023 11:13        \\\\\n",
       "\t449567 & 449567                   & RADECKE AVE.             & 39.33036                 & -76.53478                & Water Temperature        & WQM Field                & 8.6                      & degrees Celsius          & 12/19/2023 11:13        \\\\\n",
       "\\end{tabular}\n"
      ],
      "text/markdown": [
       "\n",
       "| <!--/--> | OBJECTID | Station | GPS.Coordinate.North | GPS.Coordinate.West | Parameter | Lab | Result | Unit | datetime |\n",
       "|---|---|---|---|---|---|---|---|---|---|\n",
       "| 6 |   6                      | RADECKE AVE.             | 39.33036                 | -76.53478                | Copper_Total             | Martel                   | 20                       | ug/L                     | 4/3/1995 15:40           |\n",
       "| 7 |   7                      | RADECKE AVE.             | 39.33036                 | -76.53478                | Fecal Coliform           | Martel                   | 43                       | MPN/100ml                | 4/3/1995 15:40           |\n",
       "| 8 |   8                      | RADECKE AVE.             | 39.33036                 | -76.53478                | Lead_Total               | Martel                   | 30                       | ug/L                     | 4/3/1995 15:40           |\n",
       "| 9 |   9                      | RADECKE AVE.             | 39.33036                 | -76.53478                | Oil & Grease             | Martel                   | <2                       | mg/L                     | 4/3/1995 15:40           |\n",
       "| 10 |  10                      | RADECKE AVE.             | 39.33036                 | -76.53478                | Zinc_Total               | Martel                   | 30                       | ug/L                     | 4/3/1995 15:40           |\n",
       "| 22 |  22                      | RADECKE AVE.             | 39.33036                 | -76.53478                | BOD5                     | Martel                   | <2                       | mg/L                     | 4/5/1995 13:30           |\n",
       "| 23 |  23                      | RADECKE AVE.             | 39.33036                 | -76.53478                | Cadmium_Total            | Martel                   | <10                      | ug/L                     | 4/5/1995 13:30           |\n",
       "| 24 |  24                      | RADECKE AVE.             | 39.33036                 | -76.53478                | Copper_Total             | Martel                   | 10                       | ug/L                     | 4/5/1995 13:30           |\n",
       "| 25 |  25                      | RADECKE AVE.             | 39.33036                 | -76.53478                | Fecal Coliform           | Martel                   | 1100                     | MPN/100ml                | 4/5/1995 13:30           |\n",
       "| 26 |  26                      | RADECKE AVE.             | 39.33036                 | -76.53478                | Lead_Total               | Martel                   | 90                       | ug/L                     | 4/5/1995 13:30           |\n",
       "| 27 |  27                      | RADECKE AVE.             | 39.33036                 | -76.53478                | Nitrate+Nitrite-Nitrogen | Martel                   | 1.21                     | mg/L                     | 4/5/1995 13:30           |\n",
       "| 28 |  28                      | RADECKE AVE.             | 39.33036                 | -76.53478                | Oil & Grease             | Martel                   | <2.0                     | mg/L                     | 4/5/1995 13:30           |\n",
       "| 29 |  29                      | RADECKE AVE.             | 39.33036                 | -76.53478                | Suspended Solids         | Martel                   | <1                       | mg/L                     | 4/5/1995 13:30           |\n",
       "| 30 |  30                      | RADECKE AVE.             | 39.33036                 | -76.53478                | TKN                      | Martel                   | 0.6                      | mg/L                     | 4/5/1995 13:30           |\n",
       "| 31 |  31                      | RADECKE AVE.             | 39.33036                 | -76.53478                | Total Phosphorus         | Martel                   | 0.05                     | mg/L                     | 4/5/1995 13:30           |\n",
       "| 32 |  32                      | RADECKE AVE.             | 39.33036                 | -76.53478                | Zinc_Total               | Martel                   | 20                       | ug/L                     | 4/5/1995 13:30           |\n",
       "| 77 |  77                      | RADECKE AVE.             | 39.33036                 | -76.53478                | BOD5                     | Martel                   | <2.0                     | mg/L                     | 5/15/1995 12:29          |\n",
       "| 78 |  78                      | RADECKE AVE.             | 39.33036                 | -76.53478                | Cadmium_Total            | Martel                   | <10                      | ug/L                     | 5/15/1995 12:29          |\n",
       "| 79 |  79                      | RADECKE AVE.             | 39.33036                 | -76.53478                | Copper_Total             | Martel                   | 20                       | ug/L                     | 5/15/1995 12:29          |\n",
       "| 80 |  80                      | RADECKE AVE.             | 39.33036                 | -76.53478                | Fecal Coliform           | Martel                   | 4600                     | MPN/100ml                | 5/15/1995 12:29          |\n",
       "| 81 |  81                      | RADECKE AVE.             | 39.33036                 | -76.53478                | Lead_Total               | Martel                   | 60                       | ug/L                     | 5/15/1995 12:29          |\n",
       "| 82 |  82                      | RADECKE AVE.             | 39.33036                 | -76.53478                | Nitrate+Nitrite-Nitrogen | Martel                   | 1.28                     | mg/L                     | 5/15/1995 12:29          |\n",
       "| 83 |  83                      | RADECKE AVE.             | 39.33036                 | -76.53478                | Oil & Grease             | Martel                   | 3.5                      | mg/L                     | 5/15/1995 12:29          |\n",
       "| 84 |  84                      | RADECKE AVE.             | 39.33036                 | -76.53478                | Suspended Solids         | Martel                   | 3                        | mg/L                     | 5/15/1995 12:29          |\n",
       "| 85 |  85                      | RADECKE AVE.             | 39.33036                 | -76.53478                | TKN                      | Martel                   | 1.1                      | mg/L                     | 5/15/1995 12:29          |\n",
       "| 86 |  86                      | RADECKE AVE.             | 39.33036                 | -76.53478                | Total Phosphorus         | Martel                   | 0.05                     | mg/L                     | 5/15/1995 12:29          |\n",
       "| 87 |  87                      | RADECKE AVE.             | 39.33036                 | -76.53478                | Zinc_Total               | Martel                   | 40                       | ug/L                     | 5/15/1995 12:29          |\n",
       "| 99 |  99                      | RADECKE AVE.             | 39.33036                 | -76.53478                | BOD5                     | Martel                   | <2                       | mg/L                     | 5/30/1995 10:30          |\n",
       "| 100 | 100                      | RADECKE AVE.             | 39.33036                 | -76.53478                | Cadmium_Total            | Martel                   | <10                      | ug/L                     | 5/30/1995 10:30          |\n",
       "| 101 | 101                      | RADECKE AVE.             | 39.33036                 | -76.53478                | Copper_Total             | Martel                   | <10                      | ug/L                     | 5/30/1995 10:30          |\n",
       "| ... | ... | ... | ... | ... | ... | ... | ... | ... | ... |\n",
       "| 446566 | 446566                   | RADECKE AVE.             | 39.33036                 | -76.53478                | Chlorine_Spec            | WQM Field                | 0                        | mg/L                     | 11/6/2023 12:09          |\n",
       "| 446567 | 446567                   | RADECKE AVE.             | 39.33036                 | -76.53478                | Conductivity             | WQM Field                | 455                      | umhos                    | 11/6/2023 12:09          |\n",
       "| 446568 | 446568                   | RADECKE AVE.             | 39.33036                 | -76.53478                | Dissolved Oxygen         | WQM Field                | 10.88                    | mg/L                     | 11/6/2023 12:09          |\n",
       "| 446569 | 446569                   | RADECKE AVE.             | 39.33036                 | -76.53478                | Hach Ammonia-Nitrogen    | WQM Field                | 0.1                      | mg/L                     | 11/6/2023 12:09          |\n",
       "| 446570 | 446570                   | RADECKE AVE.             | 39.33036                 | -76.53478                | pH                       | WQM Field                | 7.9                      | pH units                 | 11/6/2023 12:09          |\n",
       "| 446571 | 446571                   | RADECKE AVE.             | 39.33036                 | -76.53478                | Water Temperature        | WQM Field                | 12.2                     | degrees Celsius          | 11/6/2023 12:09          |\n",
       "| 448052 | 448052                   | RADECKE AVE.             | 39.33036                 | -76.53478                | Chlorine_Spec            | WQM Field                | 0                        | mg/L                     | 11/28/2023 12:59         |\n",
       "| 448053 | 448053                   | RADECKE AVE.             | 39.33036                 | -76.53478                | Conductivity             | WQM Field                | 418                      | umhos                    | 11/28/2023 12:59         |\n",
       "| 448054 | 448054                   | RADECKE AVE.             | 39.33036                 | -76.53478                | Dissolved Oxygen         | WQM Field                | 11.38                    | mg/L                     | 11/28/2023 12:59         |\n",
       "| 448055 | 448055                   | RADECKE AVE.             | 39.33036                 | -76.53478                | E. Coli                  | ALS-MDT                  | 2420                     | MPN/100ml                | 11/28/2023 12:59         |\n",
       "| 448056 | 448056                   | RADECKE AVE.             | 39.33036                 | -76.53478                | Hach Ammonia-Nitrogen    | WQM Field                | 0.08                     | mg/L                     | 11/28/2023 12:59         |\n",
       "| 448057 | 448057                   | RADECKE AVE.             | 39.33036                 | -76.53478                | Hardness                 | ALS-MDT                  | 140                      | mg/L                     | 11/28/2023 12:59         |\n",
       "| 448058 | 448058                   | RADECKE AVE.             | 39.33036                 | -76.53478                | Nitrate+Nitrite-Nitrogen | ALS-MDT                  | 0.91                     | mg/L                     | 11/28/2023 12:59         |\n",
       "| 448059 | 448059                   | RADECKE AVE.             | 39.33036                 | -76.53478                | pH                       | WQM Field                | 8.2                      | pH units                 | 11/28/2023 12:59         |\n",
       "| 448060 | 448060                   | RADECKE AVE.             | 39.33036                 | -76.53478                | Suspended Solids         | BRWWTP Lab               | 1.2                      | mg/L                     | 11/28/2023 12:59         |\n",
       "| 448061 | 448061                   | RADECKE AVE.             | 39.33036                 | -76.53478                | TKN                      | ALS-MDT                  | 0.6                      | mg/L                     | 11/28/2023 12:59         |\n",
       "| 448062 | 448062                   | RADECKE AVE.             | 39.33036                 | -76.53478                | Total Phosphorus         | ALS-MDT                  | 0.028                    | mg/L                     | 11/28/2023 12:59         |\n",
       "| 448063 | 448063                   | RADECKE AVE.             | 39.33036                 | -76.53478                | Water Temperature        | WQM Field                | 5.6                      | degrees Celsius          | 11/28/2023 12:59         |\n",
       "| 449556 | 449556                   | RADECKE AVE.             | 39.33036                 | -76.53478                | Chlorine_Spec            | WQM Field                | 0.02                     | mg/L                     | 12/19/2023 11:13         |\n",
       "| 449557 | 449557                   | RADECKE AVE.             | 39.33036                 | -76.53478                | Conductivity             | WQM Field                | 406                      | umhos                    | 12/19/2023 11:13         |\n",
       "| 449558 | 449558                   | RADECKE AVE.             | 39.33036                 | -76.53478                | Dissolved Oxygen         | WQM Field                | 11.57                    | mg/L                     | 12/19/2023 11:13         |\n",
       "| 449559 | 449559                   | RADECKE AVE.             | 39.33036                 | -76.53478                | E. Coli                  | ALS-MDT                  | >2419.6                  | MPN/100ml                | 12/19/2023 11:13         |\n",
       "| 449560 | 449560                   | RADECKE AVE.             | 39.33036                 | -76.53478                | Hach Ammonia-Nitrogen    | WQM Field                | 0.01                     | mg/L                     | 12/19/2023 11:13         |\n",
       "| 449561 | 449561                   | RADECKE AVE.             | 39.33036                 | -76.53478                | Hardness                 | ALS-MDT                  | 147                      | mg/L                     | 12/19/2023 11:13         |\n",
       "| 449562 | 449562                   | RADECKE AVE.             | 39.33036                 | -76.53478                | Nitrate+Nitrite-Nitrogen | ALS-MDT                  | 2.27                     | mg/L                     | 12/19/2023 11:13         |\n",
       "| 449563 | 449563                   | RADECKE AVE.             | 39.33036                 | -76.53478                | pH                       | WQM Field                | 7.68                     | pH units                 | 12/19/2023 11:13         |\n",
       "| 449564 | 449564                   | RADECKE AVE.             | 39.33036                 | -76.53478                | Suspended Solids         | BRWWTP Lab               | <1                       | mg/L                     | 12/19/2023 11:13         |\n",
       "| 449565 | 449565                   | RADECKE AVE.             | 39.33036                 | -76.53478                | TKN                      | ALS-MDT                  | 0.6                      | mg/L                     | 12/19/2023 11:13         |\n",
       "| 449566 | 449566                   | RADECKE AVE.             | 39.33036                 | -76.53478                | Total Phosphorus         | ALS-MDT                  | 0.058                    | mg/L                     | 12/19/2023 11:13         |\n",
       "| 449567 | 449567                   | RADECKE AVE.             | 39.33036                 | -76.53478                | Water Temperature        | WQM Field                | 8.6                      | degrees Celsius          | 12/19/2023 11:13         |\n",
       "\n"
      ],
      "text/plain": [
       "       OBJECTID Station      GPS.Coordinate.North GPS.Coordinate.West\n",
       "6        6      RADECKE AVE. 39.33036             -76.53478          \n",
       "7        7      RADECKE AVE. 39.33036             -76.53478          \n",
       "8        8      RADECKE AVE. 39.33036             -76.53478          \n",
       "9        9      RADECKE AVE. 39.33036             -76.53478          \n",
       "10      10      RADECKE AVE. 39.33036             -76.53478          \n",
       "22      22      RADECKE AVE. 39.33036             -76.53478          \n",
       "23      23      RADECKE AVE. 39.33036             -76.53478          \n",
       "24      24      RADECKE AVE. 39.33036             -76.53478          \n",
       "25      25      RADECKE AVE. 39.33036             -76.53478          \n",
       "26      26      RADECKE AVE. 39.33036             -76.53478          \n",
       "27      27      RADECKE AVE. 39.33036             -76.53478          \n",
       "28      28      RADECKE AVE. 39.33036             -76.53478          \n",
       "29      29      RADECKE AVE. 39.33036             -76.53478          \n",
       "30      30      RADECKE AVE. 39.33036             -76.53478          \n",
       "31      31      RADECKE AVE. 39.33036             -76.53478          \n",
       "32      32      RADECKE AVE. 39.33036             -76.53478          \n",
       "77      77      RADECKE AVE. 39.33036             -76.53478          \n",
       "78      78      RADECKE AVE. 39.33036             -76.53478          \n",
       "79      79      RADECKE AVE. 39.33036             -76.53478          \n",
       "80      80      RADECKE AVE. 39.33036             -76.53478          \n",
       "81      81      RADECKE AVE. 39.33036             -76.53478          \n",
       "82      82      RADECKE AVE. 39.33036             -76.53478          \n",
       "83      83      RADECKE AVE. 39.33036             -76.53478          \n",
       "84      84      RADECKE AVE. 39.33036             -76.53478          \n",
       "85      85      RADECKE AVE. 39.33036             -76.53478          \n",
       "86      86      RADECKE AVE. 39.33036             -76.53478          \n",
       "87      87      RADECKE AVE. 39.33036             -76.53478          \n",
       "99      99      RADECKE AVE. 39.33036             -76.53478          \n",
       "100    100      RADECKE AVE. 39.33036             -76.53478          \n",
       "101    101      RADECKE AVE. 39.33036             -76.53478          \n",
       "...    ...      ...          ...                  ...                \n",
       "446566 446566   RADECKE AVE. 39.33036             -76.53478          \n",
       "446567 446567   RADECKE AVE. 39.33036             -76.53478          \n",
       "446568 446568   RADECKE AVE. 39.33036             -76.53478          \n",
       "446569 446569   RADECKE AVE. 39.33036             -76.53478          \n",
       "446570 446570   RADECKE AVE. 39.33036             -76.53478          \n",
       "446571 446571   RADECKE AVE. 39.33036             -76.53478          \n",
       "448052 448052   RADECKE AVE. 39.33036             -76.53478          \n",
       "448053 448053   RADECKE AVE. 39.33036             -76.53478          \n",
       "448054 448054   RADECKE AVE. 39.33036             -76.53478          \n",
       "448055 448055   RADECKE AVE. 39.33036             -76.53478          \n",
       "448056 448056   RADECKE AVE. 39.33036             -76.53478          \n",
       "448057 448057   RADECKE AVE. 39.33036             -76.53478          \n",
       "448058 448058   RADECKE AVE. 39.33036             -76.53478          \n",
       "448059 448059   RADECKE AVE. 39.33036             -76.53478          \n",
       "448060 448060   RADECKE AVE. 39.33036             -76.53478          \n",
       "448061 448061   RADECKE AVE. 39.33036             -76.53478          \n",
       "448062 448062   RADECKE AVE. 39.33036             -76.53478          \n",
       "448063 448063   RADECKE AVE. 39.33036             -76.53478          \n",
       "449556 449556   RADECKE AVE. 39.33036             -76.53478          \n",
       "449557 449557   RADECKE AVE. 39.33036             -76.53478          \n",
       "449558 449558   RADECKE AVE. 39.33036             -76.53478          \n",
       "449559 449559   RADECKE AVE. 39.33036             -76.53478          \n",
       "449560 449560   RADECKE AVE. 39.33036             -76.53478          \n",
       "449561 449561   RADECKE AVE. 39.33036             -76.53478          \n",
       "449562 449562   RADECKE AVE. 39.33036             -76.53478          \n",
       "449563 449563   RADECKE AVE. 39.33036             -76.53478          \n",
       "449564 449564   RADECKE AVE. 39.33036             -76.53478          \n",
       "449565 449565   RADECKE AVE. 39.33036             -76.53478          \n",
       "449566 449566   RADECKE AVE. 39.33036             -76.53478          \n",
       "449567 449567   RADECKE AVE. 39.33036             -76.53478          \n",
       "       Parameter                Lab        Result  Unit           \n",
       "6      Copper_Total             Martel     20      ug/L           \n",
       "7      Fecal Coliform           Martel     43      MPN/100ml      \n",
       "8      Lead_Total               Martel     30      ug/L           \n",
       "9      Oil & Grease             Martel     <2      mg/L           \n",
       "10     Zinc_Total               Martel     30      ug/L           \n",
       "22     BOD5                     Martel     <2      mg/L           \n",
       "23     Cadmium_Total            Martel     <10     ug/L           \n",
       "24     Copper_Total             Martel     10      ug/L           \n",
       "25     Fecal Coliform           Martel     1100    MPN/100ml      \n",
       "26     Lead_Total               Martel     90      ug/L           \n",
       "27     Nitrate+Nitrite-Nitrogen Martel     1.21    mg/L           \n",
       "28     Oil & Grease             Martel     <2.0    mg/L           \n",
       "29     Suspended Solids         Martel     <1      mg/L           \n",
       "30     TKN                      Martel     0.6     mg/L           \n",
       "31     Total Phosphorus         Martel     0.05    mg/L           \n",
       "32     Zinc_Total               Martel     20      ug/L           \n",
       "77     BOD5                     Martel     <2.0    mg/L           \n",
       "78     Cadmium_Total            Martel     <10     ug/L           \n",
       "79     Copper_Total             Martel     20      ug/L           \n",
       "80     Fecal Coliform           Martel     4600    MPN/100ml      \n",
       "81     Lead_Total               Martel     60      ug/L           \n",
       "82     Nitrate+Nitrite-Nitrogen Martel     1.28    mg/L           \n",
       "83     Oil & Grease             Martel     3.5     mg/L           \n",
       "84     Suspended Solids         Martel     3       mg/L           \n",
       "85     TKN                      Martel     1.1     mg/L           \n",
       "86     Total Phosphorus         Martel     0.05    mg/L           \n",
       "87     Zinc_Total               Martel     40      ug/L           \n",
       "99     BOD5                     Martel     <2      mg/L           \n",
       "100    Cadmium_Total            Martel     <10     ug/L           \n",
       "101    Copper_Total             Martel     <10     ug/L           \n",
       "...    ...                      ...        ...     ...            \n",
       "446566 Chlorine_Spec            WQM Field  0       mg/L           \n",
       "446567 Conductivity             WQM Field  455     umhos          \n",
       "446568 Dissolved Oxygen         WQM Field  10.88   mg/L           \n",
       "446569 Hach Ammonia-Nitrogen    WQM Field  0.1     mg/L           \n",
       "446570 pH                       WQM Field  7.9     pH units       \n",
       "446571 Water Temperature        WQM Field  12.2    degrees Celsius\n",
       "448052 Chlorine_Spec            WQM Field  0       mg/L           \n",
       "448053 Conductivity             WQM Field  418     umhos          \n",
       "448054 Dissolved Oxygen         WQM Field  11.38   mg/L           \n",
       "448055 E. Coli                  ALS-MDT    2420    MPN/100ml      \n",
       "448056 Hach Ammonia-Nitrogen    WQM Field  0.08    mg/L           \n",
       "448057 Hardness                 ALS-MDT    140     mg/L           \n",
       "448058 Nitrate+Nitrite-Nitrogen ALS-MDT    0.91    mg/L           \n",
       "448059 pH                       WQM Field  8.2     pH units       \n",
       "448060 Suspended Solids         BRWWTP Lab 1.2     mg/L           \n",
       "448061 TKN                      ALS-MDT    0.6     mg/L           \n",
       "448062 Total Phosphorus         ALS-MDT    0.028   mg/L           \n",
       "448063 Water Temperature        WQM Field  5.6     degrees Celsius\n",
       "449556 Chlorine_Spec            WQM Field  0.02    mg/L           \n",
       "449557 Conductivity             WQM Field  406     umhos          \n",
       "449558 Dissolved Oxygen         WQM Field  11.57   mg/L           \n",
       "449559 E. Coli                  ALS-MDT    >2419.6 MPN/100ml      \n",
       "449560 Hach Ammonia-Nitrogen    WQM Field  0.01    mg/L           \n",
       "449561 Hardness                 ALS-MDT    147     mg/L           \n",
       "449562 Nitrate+Nitrite-Nitrogen ALS-MDT    2.27    mg/L           \n",
       "449563 pH                       WQM Field  7.68    pH units       \n",
       "449564 Suspended Solids         BRWWTP Lab <1      mg/L           \n",
       "449565 TKN                      ALS-MDT    0.6     mg/L           \n",
       "449566 Total Phosphorus         ALS-MDT    0.058   mg/L           \n",
       "449567 Water Temperature        WQM Field  8.6     degrees Celsius\n",
       "       datetime        \n",
       "6      4/3/1995 15:40  \n",
       "7      4/3/1995 15:40  \n",
       "8      4/3/1995 15:40  \n",
       "9      4/3/1995 15:40  \n",
       "10     4/3/1995 15:40  \n",
       "22     4/5/1995 13:30  \n",
       "23     4/5/1995 13:30  \n",
       "24     4/5/1995 13:30  \n",
       "25     4/5/1995 13:30  \n",
       "26     4/5/1995 13:30  \n",
       "27     4/5/1995 13:30  \n",
       "28     4/5/1995 13:30  \n",
       "29     4/5/1995 13:30  \n",
       "30     4/5/1995 13:30  \n",
       "31     4/5/1995 13:30  \n",
       "32     4/5/1995 13:30  \n",
       "77     5/15/1995 12:29 \n",
       "78     5/15/1995 12:29 \n",
       "79     5/15/1995 12:29 \n",
       "80     5/15/1995 12:29 \n",
       "81     5/15/1995 12:29 \n",
       "82     5/15/1995 12:29 \n",
       "83     5/15/1995 12:29 \n",
       "84     5/15/1995 12:29 \n",
       "85     5/15/1995 12:29 \n",
       "86     5/15/1995 12:29 \n",
       "87     5/15/1995 12:29 \n",
       "99     5/30/1995 10:30 \n",
       "100    5/30/1995 10:30 \n",
       "101    5/30/1995 10:30 \n",
       "...    ...             \n",
       "446566 11/6/2023 12:09 \n",
       "446567 11/6/2023 12:09 \n",
       "446568 11/6/2023 12:09 \n",
       "446569 11/6/2023 12:09 \n",
       "446570 11/6/2023 12:09 \n",
       "446571 11/6/2023 12:09 \n",
       "448052 11/28/2023 12:59\n",
       "448053 11/28/2023 12:59\n",
       "448054 11/28/2023 12:59\n",
       "448055 11/28/2023 12:59\n",
       "448056 11/28/2023 12:59\n",
       "448057 11/28/2023 12:59\n",
       "448058 11/28/2023 12:59\n",
       "448059 11/28/2023 12:59\n",
       "448060 11/28/2023 12:59\n",
       "448061 11/28/2023 12:59\n",
       "448062 11/28/2023 12:59\n",
       "448063 11/28/2023 12:59\n",
       "449556 12/19/2023 11:13\n",
       "449557 12/19/2023 11:13\n",
       "449558 12/19/2023 11:13\n",
       "449559 12/19/2023 11:13\n",
       "449560 12/19/2023 11:13\n",
       "449561 12/19/2023 11:13\n",
       "449562 12/19/2023 11:13\n",
       "449563 12/19/2023 11:13\n",
       "449564 12/19/2023 11:13\n",
       "449565 12/19/2023 11:13\n",
       "449566 12/19/2023 11:13\n",
       "449567 12/19/2023 11:13"
      ]
     },
     "metadata": {},
     "output_type": "display_data"
    }
   ],
   "source": [
    "data[which(data$GPS.Coordinate.North==39.33036),]"
   ]
  },
  {
   "cell_type": "code",
   "execution_count": 7,
   "id": "a1c341c6-9720-4df0-a091-40a76efaf62e",
   "metadata": {},
   "outputs": [
    {
     "name": "stdout",
     "output_type": "stream",
     "text": [
      "'data.frame':\t449813 obs. of  9 variables:\n",
      " $ OBJECTID            : int  1 2 3 4 5 6 7 8 9 10 ...\n",
      " $ Station             : Factor w/ 164 levels \"1201 S PACA ST\",..: 77 77 77 77 77 135 135 135 135 135 ...\n",
      " $ GPS.Coordinate.North: num  39.3 39.3 39.3 39.3 39.3 ...\n",
      " $ GPS.Coordinate.West : num  -76.5 -76.5 -76.5 -76.5 -76.5 ...\n",
      " $ Parameter           : Factor w/ 49 levels \"Ammonia-Nitrogen\",..: 19 23 30 33 49 19 23 30 33 49 ...\n",
      " $ Lab                 : Factor w/ 9 levels \"ALS-MDT\",\"Ashburton Lab\",..: 5 5 5 5 5 5 5 5 5 5 ...\n",
      " $ Result              : Factor w/ 15362 levels \"-0.01\",\"-0.02\",..: 2244 7703 10384 6504 6593 6593 10677 9016 82 9016 ...\n",
      " $ Unit                : Factor w/ 8 levels \"degrees Celsius\",..: 7 4 7 3 7 7 4 7 3 7 ...\n",
      " $ datetime            : Factor w/ 54844 levels \"1/10/2002 11:00\",..: 30320 30320 30320 30320 30320 30321 30321 30321 30321 30321 ...\n"
     ]
    }
   ],
   "source": [
    "str(data)"
   ]
  },
  {
   "cell_type": "code",
   "execution_count": 11,
   "id": "2fc37333-22e3-4860-8095-44175158d3c1",
   "metadata": {},
   "outputs": [
    {
     "data": {
      "text/html": [
       "<dl class=dl-horizontal>\n",
       "\t<dt>20%</dt>\n",
       "\t\t<dd>89963.4</dd>\n",
       "\t<dt>50%</dt>\n",
       "\t\t<dd>224907</dd>\n",
       "</dl>\n"
      ],
      "text/latex": [
       "\\begin{description*}\n",
       "\\item[20\\textbackslash{}\\%] 89963.4\n",
       "\\item[50\\textbackslash{}\\%] 224907\n",
       "\\end{description*}\n"
      ],
      "text/markdown": [
       "20%\n",
       ":   89963.450%\n",
       ":   224907\n",
       "\n"
      ],
      "text/plain": [
       "     20%      50% \n",
       " 89963.4 224907.0 "
      ]
     },
     "metadata": {},
     "output_type": "display_data"
    }
   ],
   "source": [
    "quantile(data$OBJECTID,probs=c(0.2,0.5),na.rm=FALSE)"
   ]
  },
  {
   "cell_type": "code",
   "execution_count": 17,
   "id": "7b942368-8bdd-4404-a4fb-b824c8fbc284",
   "metadata": {},
   "outputs": [
    {
     "data": {
      "text/html": [
       "<table>\n",
       "<thead><tr><th scope=col>OBJECTID</th><th scope=col>Station</th><th scope=col>GPS.Coordinate.North</th><th scope=col>GPS.Coordinate.West</th><th scope=col>Parameter</th><th scope=col>Lab</th><th scope=col>Result</th><th scope=col>Unit</th><th scope=col>datetime</th></tr></thead>\n",
       "<tbody>\n",
       "\t<tr><td>1             </td><td>HAMILTON AVE. </td><td>39.33673      </td><td>-76.53967     </td><td>Copper_Total  </td><td>Martel        </td><td>10            </td><td>ug/L          </td><td>4/3/1995 13:30</td></tr>\n",
       "</tbody>\n",
       "</table>\n"
      ],
      "text/latex": [
       "\\begin{tabular}{r|lllllllll}\n",
       " OBJECTID & Station & GPS.Coordinate.North & GPS.Coordinate.West & Parameter & Lab & Result & Unit & datetime\\\\\n",
       "\\hline\n",
       "\t 1              & HAMILTON AVE.  & 39.33673       & -76.53967      & Copper\\_Total & Martel         & 10             & ug/L           & 4/3/1995 13:30\\\\\n",
       "\\end{tabular}\n"
      ],
      "text/markdown": [
       "\n",
       "| OBJECTID | Station | GPS.Coordinate.North | GPS.Coordinate.West | Parameter | Lab | Result | Unit | datetime |\n",
       "|---|---|---|---|---|---|---|---|---|\n",
       "| 1              | HAMILTON AVE.  | 39.33673       | -76.53967      | Copper_Total   | Martel         | 10             | ug/L           | 4/3/1995 13:30 |\n",
       "\n"
      ],
      "text/plain": [
       "  OBJECTID Station       GPS.Coordinate.North GPS.Coordinate.West Parameter   \n",
       "1 1        HAMILTON AVE. 39.33673             -76.53967           Copper_Total\n",
       "  Lab    Result Unit datetime      \n",
       "1 Martel 10     ug/L 4/3/1995 13:30"
      ]
     },
     "metadata": {},
     "output_type": "display_data"
    }
   ],
   "source": [
    "data[1,]"
   ]
  },
  {
   "cell_type": "code",
   "execution_count": 32,
   "id": "68a67759-7a2f-48d1-93b8-5b93983281c6",
   "metadata": {},
   "outputs": [
    {
     "data": {
      "text/html": [
       "0"
      ],
      "text/latex": [
       "0"
      ],
      "text/markdown": [
       "0"
      ],
      "text/plain": [
       "[1] 0"
      ]
     },
     "metadata": {},
     "output_type": "display_data"
    }
   ],
   "source": [
    "sum(is.na(data))"
   ]
  },
  {
   "cell_type": "code",
   "execution_count": 31,
   "id": "3cc87f84-5533-4b49-88b4-11cb56346600",
   "metadata": {},
   "outputs": [],
   "source": [
    "data[4,1] <- 4"
   ]
  },
  {
   "cell_type": "code",
   "execution_count": 35,
   "id": "2d943375-9ec9-4e36-9aa8-724a88666233",
   "metadata": {},
   "outputs": [
    {
     "data": {
      "text/html": [
       "TRUE"
      ],
      "text/latex": [
       "TRUE"
      ],
      "text/markdown": [
       "TRUE"
      ],
      "text/plain": [
       "[1] TRUE"
      ]
     },
     "metadata": {},
     "output_type": "display_data"
    }
   ],
   "source": [
    "all(colSums(is.na(data))==0)"
   ]
  },
  {
   "cell_type": "code",
   "execution_count": 36,
   "id": "338325d4-07ca-4d48-9fdf-c05a42c6726f",
   "metadata": {},
   "outputs": [
    {
     "data": {
      "text/plain": [
       "\n",
       " FALSE   TRUE \n",
       "449811      2 "
      ]
     },
     "metadata": {},
     "output_type": "display_data"
    }
   ],
   "source": [
    "table(data$OBJECTID %in% c(1,2))"
   ]
  },
  {
   "cell_type": "code",
   "execution_count": 38,
   "id": "331d36d2-9e29-421b-81c8-656e59d4e45e",
   "metadata": {},
   "outputs": [
    {
     "data": {
      "text/html": [
       "<table>\n",
       "<thead><tr><th scope=col>OBJECTID</th><th scope=col>Station</th><th scope=col>GPS.Coordinate.North</th><th scope=col>GPS.Coordinate.West</th><th scope=col>Parameter</th><th scope=col>Lab</th><th scope=col>Result</th><th scope=col>Unit</th><th scope=col>datetime</th></tr></thead>\n",
       "<tbody>\n",
       "\t<tr><td>1             </td><td>HAMILTON AVE. </td><td>39.33673      </td><td>-76.53967     </td><td>Copper_Total  </td><td>Martel        </td><td>10            </td><td>ug/L          </td><td>4/3/1995 13:30</td></tr>\n",
       "</tbody>\n",
       "</table>\n"
      ],
      "text/latex": [
       "\\begin{tabular}{r|lllllllll}\n",
       " OBJECTID & Station & GPS.Coordinate.North & GPS.Coordinate.West & Parameter & Lab & Result & Unit & datetime\\\\\n",
       "\\hline\n",
       "\t 1              & HAMILTON AVE.  & 39.33673       & -76.53967      & Copper\\_Total & Martel         & 10             & ug/L           & 4/3/1995 13:30\\\\\n",
       "\\end{tabular}\n"
      ],
      "text/markdown": [
       "\n",
       "| OBJECTID | Station | GPS.Coordinate.North | GPS.Coordinate.West | Parameter | Lab | Result | Unit | datetime |\n",
       "|---|---|---|---|---|---|---|---|---|\n",
       "| 1              | HAMILTON AVE.  | 39.33673       | -76.53967      | Copper_Total   | Martel         | 10             | ug/L           | 4/3/1995 13:30 |\n",
       "\n"
      ],
      "text/plain": [
       "  OBJECTID Station       GPS.Coordinate.North GPS.Coordinate.West Parameter   \n",
       "1 1        HAMILTON AVE. 39.33673             -76.53967           Copper_Total\n",
       "  Lab    Result Unit datetime      \n",
       "1 Martel 10     ug/L 4/3/1995 13:30"
      ]
     },
     "metadata": {},
     "output_type": "display_data"
    }
   ],
   "source": [
    "data[data$OBJECTID == 1,]"
   ]
  },
  {
   "cell_type": "code",
   "execution_count": 40,
   "id": "1c4142d8-b991-402e-916e-8f4d152232c3",
   "metadata": {},
   "outputs": [
    {
     "name": "stdout",
     "output_type": "stream",
     "text": [
      "25.4 Mb\n"
     ]
    }
   ],
   "source": [
    "print(object.size(data),units=\"Mb\")"
   ]
  },
  {
   "cell_type": "code",
   "execution_count": null,
   "id": "dfe51988-9fba-4b95-ad9f-72045ab67d80",
   "metadata": {},
   "outputs": [],
   "source": []
  }
 ],
 "metadata": {
  "kernelspec": {
   "display_name": "R",
   "language": "R",
   "name": "ir"
  },
  "language_info": {
   "codemirror_mode": "r",
   "file_extension": ".r",
   "mimetype": "text/x-r-source",
   "name": "R",
   "pygments_lexer": "r",
   "version": "3.6.1"
  }
 },
 "nbformat": 4,
 "nbformat_minor": 5
}
