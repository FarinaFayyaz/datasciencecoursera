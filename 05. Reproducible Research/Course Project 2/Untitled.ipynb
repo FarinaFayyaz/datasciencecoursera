{
 "cells": [
  {
   "cell_type": "markdown",
   "id": "4c7f2714-1356-4eea-9282-fc968178f29d",
   "metadata": {},
   "source": [
    "# Course Project 2\n",
    "## Author: Farina Fayyaz\n",
    "## Date: 12th Febraury, 2024.\n",
    "## Course: [Reproducible Research](https://www.coursera.org/learn/reproducible-research)\n"
   ]
  }
 ],
 "metadata": {
  "kernelspec": {
   "display_name": "R",
   "language": "R",
   "name": "ir"
  },
  "language_info": {
   "codemirror_mode": "r",
   "file_extension": ".r",
   "mimetype": "text/x-r-source",
   "name": "R",
   "pygments_lexer": "r",
   "version": "3.6.1"
  }
 },
 "nbformat": 4,
 "nbformat_minor": 5
}
