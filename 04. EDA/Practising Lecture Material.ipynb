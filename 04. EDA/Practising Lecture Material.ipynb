{
 "cells": [
  {
   "cell_type": "markdown",
   "id": "14e96059-f702-4839-8d94-9f3ae304ef08",
   "metadata": {},
   "source": [
    "# Principles of Analytical Graphics\n",
    "1. Show Comparisons (Compared to What?)\n",
    "2. Show causality, mechanism, explanation, systematic structure (What is your causal framework?)\n",
    "3. Show multivariate data\n",
    "4. Integration of Evidence (Completely integrate Words, Numbers, Images, diagrams etc..)\n",
    "5. Describe and document the evidence with appropriate labels, scales, sources etc.\n",
    "6. Content is King\n",
    "# Exploratory Graphs\n",
    "Graphs you make yourself to \n",
    "* understand the data properties\n",
    "* find patterns in data\n",
    "* suggest modeling strategies\n",
    "* \"debug\" analyses\n",
    "* communicate results\n",
    "# Charachteristics of exploratory graphs\n",
    "* They are made quickly\n",
    "* A large number are made\n",
    "* The goal is for personal understanding\n",
    "* Axes/legends are generally cleaned up (later)\n",
    "* Color/size are primarily used for information"
   ]
  },
  {
   "cell_type": "code",
   "execution_count": 5,
   "id": "f403e52a-989d-4dc0-be13-52a335ae0e8c",
   "metadata": {},
   "outputs": [
    {
     "data": {
      "text/html": [
       "'C:/Users/Fassih Ki Behen/OneDrive - Higher Education Commission/Desktop/Coursera/datasciencecoursera/04. EDA'"
      ],
      "text/latex": [
       "'C:/Users/Fassih Ki Behen/OneDrive - Higher Education Commission/Desktop/Coursera/datasciencecoursera/04. EDA'"
      ],
      "text/markdown": [
       "'C:/Users/Fassih Ki Behen/OneDrive - Higher Education Commission/Desktop/Coursera/datasciencecoursera/04. EDA'"
      ],
      "text/plain": [
       "[1] \"C:/Users/Fassih Ki Behen/OneDrive - Higher Education Commission/Desktop/Coursera/datasciencecoursera/04. EDA\""
      ]
     },
     "metadata": {},
     "output_type": "display_data"
    }
   ],
   "source": [
    "getwd()"
   ]
  },
  {
   "cell_type": "code",
   "execution_count": null,
   "id": "9e91b4d8-e20d-4f1f-832a-2c9edf610984",
   "metadata": {},
   "outputs": [],
   "source": [
    "if (!dir.exists(\"Data\")) {\n",
    "        dir.create(\"Data\")\n",
    "}\n",
    "download.file(\"https://data.cityofnewyork.us/api/views/c3uy-2p5r/rows.csv?accessType=DOWNLOAD\",\"Data/pol.csv\")\n",
    "df <- read.csv(\"Data/pol.csv\")"
   ]
  },
  {
   "cell_type": "code",
   "execution_count": null,
   "id": "99d1c069-a45c-402a-8448-6aaca1a8a7f5",
   "metadata": {},
   "outputs": [],
   "source": []
  }
 ],
 "metadata": {
  "kernelspec": {
   "display_name": "R",
   "language": "R",
   "name": "ir"
  },
  "language_info": {
   "codemirror_mode": "r",
   "file_extension": ".r",
   "mimetype": "text/x-r-source",
   "name": "R",
   "pygments_lexer": "r",
   "version": "3.6.1"
  }
 },
 "nbformat": 4,
 "nbformat_minor": 5
}
