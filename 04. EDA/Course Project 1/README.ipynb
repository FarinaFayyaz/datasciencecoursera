{
 "cells": [
  {
   "cell_type": "markdown",
   "id": "7c255c6b-8cb2-4f88-b9d5-410c3ec71526",
   "metadata": {},
   "source": [
    "# Exploratory Data Analysis \n",
    "# Course Project 1\n",
    "\n",
    "# About the Project\n",
    "This assignment uses data from the UC Irvine Machine Learning Repository, a popular repository for machine learning datasets. In particular, we will be using the “Individual household electric power consumption Data Set” which is available in the link provided below.\r\n",
    "**\r\n",
    "Datas**et[: Electric power consumpti](https://d396qusza40orc.cloudfront.net/exdata%2Fdata%2Fhousehold_power_consumption.zip)b]\r\n",
    "Description: Measurements of electric power consumption in one household with a one-minute sampling rate over a period of almost 4 years. Different electrical quantities and some sub-metering values are available."
   ]
  },
  {
   "cell_type": "code",
   "execution_count": null,
   "id": "72b50bcc-9d16-4aa6-ba07-787b5864b775",
   "metadata": {},
   "outputs": [],
   "source": [
    "library(\"data.table\")\n",
    "\n",
    "#Reads in data from file then subsets data for specified dates\n",
    "powerDT <- data.table::fread(input = \"household_power_consumption.txt\"\n",
    "                             , na.strings=\"?\"\n",
    "                             )\n",
    "\n",
    "# Prevents histogram from printing in scientific notation\n",
    "powerDT[, Global_active_power := lapply(.SD, as.numeric), .SDcols = c(\"Global_active_power\")]\n",
    "\n",
    "# Change Date Column to Date Type\n",
    "powerDT[, Date := lapply(.SD, as.Date, \"%d/%m/%Y\"), .SDcols = c(\"Date\")]\n",
    "\n",
    "# Filter Dates for 2007-02-01 and 2007-02-02\n",
    "powerDT <- powerDT[(Date >= \"2007-02-01\") & (Date <= \"2007-02-02\")]\n",
    "\n",
    "png(\"plot1.png\", width=480, height=480)\n",
    "\n",
    "## Plot 1\n",
    "hist(powerDT[, Global_active_power], main=\"Global Active Power\", \n",
    "     xlab=\"Global Active Power (kilowatts)\", ylab=\"Frequency\", col=\"Red\")\n",
    "\n",
    "dev.off()"
   ]
  }
 ],
 "metadata": {
  "kernelspec": {
   "display_name": "R",
   "language": "R",
   "name": "ir"
  },
  "language_info": {
   "codemirror_mode": "r",
   "file_extension": ".r",
   "mimetype": "text/x-r-source",
   "name": "R",
   "pygments_lexer": "r",
   "version": "3.6.1"
  }
 },
 "nbformat": 4,
 "nbformat_minor": 5
}
