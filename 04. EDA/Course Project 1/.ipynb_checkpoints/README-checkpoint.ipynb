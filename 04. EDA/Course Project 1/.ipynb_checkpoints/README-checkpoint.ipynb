{
 "cells": [
  {
   "cell_type": "markdown",
   "id": "7c255c6b-8cb2-4f88-b9d5-410c3ec71526",
   "metadata": {},
   "source": [
    "# Exploratory Data Analysis \n",
    "# Course Project 1\n",
    "## Author: Farina Fayyaz\n",
    "## Date: 5 Febraury,2024\n",
    "## About the Project\n",
    "This assignment uses data from the UC Irvine Machine Learning Repository, a popular repository for machine learning datasets. In particular, we will be using the “Individual household electric power consumption Data Set” which is available in the link provided below.  \n",
    "**Dataset** [Electric power consumption](https://d396qusza40orc.cloudfront.net/exdata%2Fdata%2Fhousehold_power_consumption.zib)  \n",
    "**Description:** Measurements of electric power consumption in one household with a one-minute sampling rate over a period of almost 4 years. Different electrical quantities and some sub-metering values are available.le."
   ]
  },
  {
   "cell_type": "markdown",
   "id": "0e8c0a96-e219-48d2-9024-fc3c0351f837",
   "metadata": {},
   "source": [
    "## To Download the Dataset"
   ]
  },
  {
   "cell_type": "code",
   "execution_count": 2,
   "id": "23a930c6-9578-4ee1-b0f3-be2e7f7494e7",
   "metadata": {},
   "outputs": [],
   "source": [
    "if (!dir.exists(\"Data\")) {\n",
    "    dir.create(\"Data\")\n",
    "}\n",
    "download.file(\"https://d396qusza40orc.cloudfront.net/exdata%2Fdata%2Fhousehold_power_consumption.zip\",\"Data/archive.zip\")\n",
    "unzip(\"Data/archive.zip\",exdir=\"Data\")"
   ]
  },
  {
   "cell_type": "code",
   "execution_count": 7,
   "id": "72b50bcc-9d16-4aa6-ba07-787b5864b775",
   "metadata": {},
   "outputs": [
    {
     "data": {
      "text/html": [
       "<strong>png:</strong> 2"
      ],
      "text/latex": [
       "\\textbf{png:} 2"
      ],
      "text/markdown": [
       "**png:** 2"
      ],
      "text/plain": [
       "png \n",
       "  2 "
      ]
     },
     "metadata": {},
     "output_type": "display_data"
    }
   ],
   "source": [
    "library(\"data.table\")\n",
    "\n",
    "# Function to read data from file and subset for specified dates\n",
    "read_and_subset_data <- function(file_path, start_date, end_date) {\n",
    "  data <- data.table::fread(input = file_path, na.strings = \"?\")\n",
    "  data[, Global_active_power := as.numeric(Global_active_power)]\n",
    "  data[, Date := as.Date(Date, format = \"%d/%m/%Y\")]\n",
    "  subset_data <- data[(Date >= start_date) & (Date <= end_date)]\n",
    "  return(subset_data)\n",
    "}\n",
    "\n",
    "# Function to plot histogram and save to file\n",
    "plot_and_save_histogram <- function(data, output_file) {\n",
    "  png(output_file, width = 480, height = 480)\n",
    "  hist(data$Global_active_power, main = \"Global Active Power\", \n",
    "       xlab = \"Global Active Power (kilowatts)\", ylab = \"Frequency\", col = \"Red\")\n",
    "  dev.off()\n",
    "}\n",
    "\n",
    "# Define file path and date range\n",
    "file_path <- \"Data/household_power_consumption.txt\"\n",
    "start_date <- as.Date(\"2007-02-01\")\n",
    "end_date <- as.Date(\"2007-02-02\")\n",
    "\n",
    "# Read and subset data\n",
    "powerDT <- read_and_subset_data(file_path, start_date, end_date)\n",
    "\n",
    "# Plot histogram and save to file\n",
    "plot_and_save_histogram(powerDT, \"plot1.png\")\n"
   ]
  },
  {
   "cell_type": "code",
   "execution_count": 9,
   "id": "75888c05-b671-48fc-91e3-ed4ee10296ab",
   "metadata": {},
   "outputs": [
    {
     "data": {
      "text/html": [
       "<strong>png:</strong> 2"
      ],
      "text/latex": [
       "\\textbf{png:} 2"
      ],
      "text/markdown": [
       "**png:** 2"
      ],
      "text/plain": [
       "png \n",
       "  2 "
      ]
     },
     "metadata": {},
     "output_type": "display_data"
    }
   ],
   "source": [
    "library(\"data.table\")\n",
    "\n",
    "# Function to read and preprocess data\n",
    "read_and_preprocess_data <- function(file_path, start_date, end_date) {\n",
    "  data <- data.table::fread(input = file_path, na.strings = \"?\")\n",
    "  data[, Global_active_power := as.numeric(Global_active_power)]\n",
    "  data[, dateTime := as.POSIXct(paste(Date, Time), format = \"%d/%m/%Y %H:%M:%S\")]\n",
    "  subset_data <- data[(dateTime >= start_date) & (dateTime < end_date)]\n",
    "  return(subset_data)\n",
    "}\n",
    "\n",
    "# Define file path and date range\n",
    "file_path <- \"Data/household_power_consumption.txt\"\n",
    "start_date <- as.POSIXct(\"2007-02-01\", tz = \"UTC\")\n",
    "end_date <- as.POSIXct(\"2007-02-03\", tz = \"UTC\")\n",
    "\n",
    "# Read and preprocess data\n",
    "powerDT <- read_and_preprocess_data(file_path, start_date, end_date)\n",
    "\n",
    "# Set up plotting environment\n",
    "png(\"plot2.png\", width = 480, height = 480)\n",
    "\n",
    "## Plot 2\n",
    "plot(x = powerDT$dateTime, y = powerDT$Global_active_power,\n",
    "     type = \"l\", xlab = \"\", ylab = \"Global Active Power (kilowatts)\")\n",
    "\n",
    "dev.off()\n"
   ]
  },
  {
   "cell_type": "code",
   "execution_count": 11,
   "id": "8ba3ae5e-1df6-40e3-be4f-8187f9eb3b4f",
   "metadata": {},
   "outputs": [
    {
     "data": {
      "text/html": [
       "<strong>png:</strong> 2"
      ],
      "text/latex": [
       "\\textbf{png:} 2"
      ],
      "text/markdown": [
       "**png:** 2"
      ],
      "text/plain": [
       "png \n",
       "  2 "
      ]
     },
     "metadata": {},
     "output_type": "display_data"
    }
   ],
   "source": [
    "library(\"data.table\")\n",
    "\n",
    "# Function to read and preprocess data\n",
    "read_and_preprocess_data <- function(file_path, start_date, end_date) {\n",
    "  data <- data.table::fread(input = file_path, na.strings = \"?\")\n",
    "  data[, Global_active_power := as.numeric(Global_active_power)]\n",
    "  data[, dateTime := as.POSIXct(paste(Date, Time), format = \"%d/%m/%Y %H:%M:%S\")]\n",
    "  subset_data <- data[(dateTime >= start_date) & (dateTime < end_date)]\n",
    "  return(subset_data)\n",
    "}\n",
    "\n",
    "# Define file path and date range\n",
    "file_path <- \"Data/household_power_consumption.txt\"\n",
    "start_date <- as.POSIXct(\"2007-02-01\", tz = \"UTC\")\n",
    "end_date <- as.POSIXct(\"2007-02-03\", tz = \"UTC\")\n",
    "\n",
    "# Read and preprocess data\n",
    "powerDT <- read_and_preprocess_data(file_path, start_date, end_date)\n",
    "\n",
    "# Set up plotting environment\n",
    "png(\"plot3.png\", width = 480, height = 480)\n",
    "\n",
    "# Plot 3\n",
    "plot(powerDT$dateTime, powerDT$Sub_metering_1, type = \"l\", xlab = \"\", ylab = \"Energy sub metering\")\n",
    "lines(powerDT$dateTime, powerDT$Sub_metering_2, col = \"red\")\n",
    "lines(powerDT$dateTime, powerDT$Sub_metering_3, col = \"blue\")\n",
    "legend(\"topright\", col = c(\"black\", \"red\", \"blue\"),\n",
    "       legend = c(\"Sub_metering_1  \", \"Sub_metering_2  \", \"Sub_metering_3  \"),\n",
    "       lty = c(1, 1), lwd = c(1, 1))\n",
    "\n",
    "dev.off()\n"
   ]
  },
  {
   "cell_type": "code",
   "execution_count": 14,
   "id": "e8797a19-b7a4-4c0f-a961-bbc668fc4df2",
   "metadata": {},
   "outputs": [
    {
     "data": {
      "text/html": [
       "<strong>png:</strong> 2"
      ],
      "text/latex": [
       "\\textbf{png:} 2"
      ],
      "text/markdown": [
       "**png:** 2"
      ],
      "text/plain": [
       "png \n",
       "  2 "
      ]
     },
     "metadata": {},
     "output_type": "display_data"
    }
   ],
   "source": [
    "library(\"data.table\")\n",
    "\n",
    "# Read data from file and subset for specified dates\n",
    "powerDT <- data.table::fread(input = \"Data/household_power_consumption.txt\", na.strings = \"?\")\n",
    "\n",
    "# Prevent Scientific Notation for Global_active_power\n",
    "powerDT[, Global_active_power := as.numeric(Global_active_power)]\n",
    "\n",
    "# Create POSIXct date for filtering and graphing by time of day\n",
    "powerDT[, dateTime := as.POSIXct(paste(Date, Time), format = \"%d/%m/%Y %H:%M:%S\")]\n",
    "\n",
    "# Filter dates for 2007-02-01 and 2007-02-02\n",
    "powerDT <- powerDT[(dateTime >= \"2007-02-01\") & (dateTime < \"2007-02-03\")]\n",
    "\n",
    "# Set up the plot parameters\n",
    "png(\"plot4.png\", width = 480, height = 480)\n",
    "par(mfrow = c(2, 2))\n",
    "\n",
    "# Plot 1: Global Active Power\n",
    "plot(powerDT[, dateTime], powerDT[, Global_active_power], type = \"l\", xlab = \"\", ylab = \"Global Active Power\")\n",
    "\n",
    "# Plot 2: Voltage\n",
    "plot(powerDT[, dateTime], powerDT[, Voltage], type = \"l\", xlab = \"datetime\", ylab = \"Voltage\")\n",
    "\n",
    "# Plot 3: Energy Sub Metering\n",
    "plot(powerDT[, dateTime], powerDT[, Sub_metering_1], type = \"l\", xlab = \"\", ylab = \"Energy sub metering\")\n",
    "lines(powerDT[, dateTime], powerDT[, Sub_metering_2], col = \"red\")\n",
    "lines(powerDT[, dateTime], powerDT[, Sub_metering_3], col = \"blue\")\n",
    "legend(\"topright\", col = c(\"black\", \"red\", \"blue\"),\n",
    "       c(\"Sub_metering_1\", \"Sub_metering_2\", \"Sub_metering_3\"),\n",
    "       lty = c(1, 1), bty = \"n\", cex = 0.5)\n",
    "\n",
    "# Plot 4: Global Reactive Power\n",
    "plot(powerDT[, dateTime], powerDT[, Global_reactive_power], type = \"l\", xlab = \"datetime\", ylab = \"Global Reactive Power\")\n",
    "\n",
    "# Save and close the plot\n",
    "dev.off()\n"
   ]
  }
 ],
 "metadata": {
  "kernelspec": {
   "display_name": "R",
   "language": "R",
   "name": "ir"
  },
  "language_info": {
   "codemirror_mode": "r",
   "file_extension": ".r",
   "mimetype": "text/x-r-source",
   "name": "R",
   "pygments_lexer": "r",
   "version": "3.6.1"
  }
 },
 "nbformat": 4,
 "nbformat_minor": 5
}
